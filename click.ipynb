{
 "cells": [
  {
   "cell_type": "markdown",
   "metadata": {
    "collapsed": true
   },
   "source": [
    "Ad click prediction\n",
    "===\n",
    "insert intro\n",
    "\n",
    "Cleansing and Inspection\n",
    "---\n",
    "First, let's read the relevant columns into memory."
   ]
  },
  {
   "cell_type": "code",
   "execution_count": 3,
   "metadata": {
    "collapsed": false
   },
   "outputs": [
    {
     "name": "stderr",
     "output_type": "stream",
     "text": [
      "~/anaconda3/lib/python3.6/site-packages/IPython/core/interactiveshell.py:2717: DtypeWarning: Columns (4,14,15) have mixed types. Specify dtype option on import or set low_memory=False.\n  interactivity=interactivity, compiler=compiler, result=result)\n"
     ]
    }
   ],
   "source": [
    "from pandas import read_csv\n",
    "ads = read_csv('data/ads.csv', usecols=['click', 'AdvertiserID', 'AdExchange', 'Adslotwidth',\n",
    "                                           'Adslotheight', 'Adslotvisibility', 'Adslotformat', 'Biddingprice', 'Browser', 'imp', 'interest_news',\n",
    "                                           'interest_eduation', 'interest_automobile', 'interest_realestate',\n",
    "                                           'interest_IT', 'interest_electronicgame', 'interest_fashion',\n",
    "                                           'interest_entertainment', 'interest_luxury', 'interest_homeandlifestyle',\n",
    "                                           'interest_health', 'interest_food', 'interest_divine',\n",
    "                                           'interest_motherhood_parenting', 'interest_sports',\n",
    "                                           'interest_travel_outdoors',\n",
    "                                           'interest_social', 'interest_art_photography_design',\n",
    "                                           'interest_onlineliterature', 'interest_3c', 'interest_culture',\n",
    "                                           'interest_sex',\n",
    "                                           'Inmarket_3cproduct', 'Inmarket_appliances', 'Inmarket_clothing_shoes_bags',\n",
    "                                           'Inmarket_Beauty_PersonalCare', 'Inmarket_infant_momproducts',\n",
    "                                           'Inmarket_sportsitem', 'Inmarket_outdoor', 'Inmarket_healthcareproducts',\n",
    "                                           'Inmarket_luxury', 'Inmarket_realestate', 'Inmarket_automobile',\n",
    "                                           'Inmarket_finance', 'Inmarket_travel', 'Inmarket_education',\n",
    "                                           'Inmarket_service', 'Inmarket_electronicgame', 'Inmarket_book',\n",
    "                                           'Inmarket_medicine', 'Inmarket_food_drink', 'Inmarket_homeimprovement',\n",
    "                                           'Demographic_gender_male', 'Demographic_gender_famale', 'Payingprice'])\n",
    "if 'Unnamed: 0' in ads:\n",
    "    ads.drop('Unnamed: 0', axis=1, inplace=True)"
   ]
  },
  {
   "cell_type": "markdown",
   "metadata": {},
   "source": [
    "Let's inspect the columns of the dataset."
   ]
  },
  {
   "cell_type": "code",
   "execution_count": 5,
   "metadata": {
    "collapsed": false
   },
   "outputs": [
    {
     "name": "stdout",
     "output_type": "stream",
     "text": [
      "<class 'pandas.core.frame.DataFrame'>\nRangeIndex: 4621497 entries, 0 to 4621496\nData columns (total 55 columns):\nBrowser                            object\nAdExchange                         float64\nAdslotwidth                        float64\nAdslotheight                       float64\nAdslotvisibility                   object\nAdslotformat                       object\nBiddingprice                       float64\nAdvertiserID                       float64\nimp                                float64\nclick                              float64\ninterest_news                      float64\ninterest_eduation                  float64\ninterest_automobile                float64\ninterest_realestate                float64\ninterest_IT                        float64\ninterest_electronicgame            float64\ninterest_fashion                   float64\ninterest_entertainment             float64\ninterest_luxury                    float64\ninterest_homeandlifestyle          float64\ninterest_health                    float64\ninterest_food                      float64\ninterest_divine                    float64\ninterest_motherhood_parenting      float64\ninterest_sports                    float64\ninterest_travel_outdoors           float64\ninterest_social                    float64\nInmarket_3cproduct                 float64\nInmarket_appliances                float64\nInmarket_clothing_shoes_bags       float64\nInmarket_Beauty_PersonalCare       float64\nInmarket_infant_momproducts        float64\nInmarket_sportsitem                float64\nInmarket_outdoor                   float64\nInmarket_healthcareproducts        float64\nInmarket_luxury                    float64\nInmarket_realestate                float64\nInmarket_automobile                float64\nInmarket_finance                   float64\nInmarket_travel                    float64\nInmarket_education                 float64\nInmarket_service                   float64\ninterest_art_photography_design    float64\ninterest_onlineliterature          float64\nInmarket_electronicgame            float64\ninterest_3c                        float64\nInmarket_book                      float64\nInmarket_medicine                  float64\nInmarket_food_drink                float64\ninterest_culture                   float64\ninterest_sex                       float64\nDemographic_gender_male            float64\nDemographic_gender_famale          float64\nInmarket_homeimprovement           float64\nPayingprice                        float64\ndtypes: float64(52), object(3)\nmemory usage: 1.9+ GB\n"
     ]
    }
   ],
   "source": [
    "ads.info()"
   ]
  },
  {
   "cell_type": "markdown",
   "metadata": {
    "collapsed": true
   },
   "source": [
    "We see that we have ~ 4 million observations and 55 variables. The most important variable is the `click` variable, which indicates whether the ad was clicked on by the user. Let's see how many missing values we have."
   ]
  },
  {
   "cell_type": "code",
   "execution_count": 6,
   "metadata": {},
   "outputs": [
    {
     "data": {
      "text/plain": [
       "1182166"
      ]
     },
     "execution_count": 6,
     "metadata": {},
     "output_type": "execute_result"
    }
   ],
   "source": [
    "ads['click'].isnull().sum()"
   ]
  },
  {
   "cell_type": "markdown",
   "metadata": {},
   "source": [
    "Around 1 million bids do not contain a value for the `click` variable. However, this variable is critical, because we will regress it later on. Therefore, we need to remove these observations."
   ]
  },
  {
   "cell_type": "code",
   "execution_count": 8,
   "metadata": {},
   "outputs": [],
   "source": [
    "ads.dropna(subset=['click'], inplace=True)"
   ]
  },
  {
   "cell_type": "markdown",
   "metadata": {},
   "source": [
    "Additionaly, let's move the `click` variable to the front."
   ]
  },
  {
   "cell_type": "code",
   "execution_count": 10,
   "metadata": {},
   "outputs": [],
   "source": [
    "cols = ['click'] + [col for col in ads if col != 'click']\n",
    "ads = ads[cols]"
   ]
  },
  {
   "cell_type": "markdown",
   "metadata": {},
   "source": [
    "Let's fix some typos."
   ]
  },
  {
   "cell_type": "code",
   "execution_count": 11,
   "metadata": {},
   "outputs": [],
   "source": [
    "ads.rename(\n",
    "    columns={'interest_eduation': 'interest_education', 'Demographic_gender_famale': 'Demographic_gender_female'},\n",
    "    inplace=True)"
   ]
  },
  {
   "cell_type": "markdown",
   "metadata": {},
   "source": [
    "We see that most variables are detected as floating point numbers. However, most of them are actually boolean variables! We need to account for that and convert them. First, let's look at the average missing values per variable."
   ]
  },
  {
   "cell_type": "code",
   "execution_count": 12,
   "metadata": {},
   "outputs": [
    {
     "name": "stdout",
     "output_type": "stream",
     "text": [
      "Missing values in `imp` 0\n"
     ]
    },
    {
     "data": {
      "text/plain": [
       "1409622.2608695652"
      ]
     },
     "execution_count": 12,
     "metadata": {},
     "output_type": "execute_result"
    }
   ],
   "source": [
    "boolean_cols = ['imp', 'click', 'interest_news',\n",
    "                'interest_education', 'interest_automobile', 'interest_realestate',\n",
    "                'interest_IT', 'interest_electronicgame', 'interest_fashion',\n",
    "                'interest_entertainment', 'interest_luxury', 'interest_homeandlifestyle',\n",
    "                'interest_health', 'interest_food', 'interest_divine',\n",
    "                'interest_motherhood_parenting', 'interest_sports', 'interest_travel_outdoors',\n",
    "                'interest_social', 'interest_art_photography_design',\n",
    "                'interest_onlineliterature', 'interest_3c', 'interest_culture', 'interest_sex',\n",
    "                'Inmarket_3cproduct', 'Inmarket_appliances', 'Inmarket_clothing_shoes_bags',\n",
    "                'Inmarket_Beauty_PersonalCare', 'Inmarket_infant_momproducts',\n",
    "                'Inmarket_sportsitem', 'Inmarket_outdoor', 'Inmarket_healthcareproducts',\n",
    "                'Inmarket_luxury', 'Inmarket_realestate', 'Inmarket_automobile',\n",
    "                'Inmarket_finance', 'Inmarket_travel', 'Inmarket_education',\n",
    "                'Inmarket_service', 'Inmarket_electronicgame', 'Inmarket_book',\n",
    "                'Inmarket_medicine', 'Inmarket_food_drink', 'Inmarket_homeimprovement',\n",
    "                'Demographic_gender_male', 'Demographic_gender_female']\n",
    "missings = 0\n",
    "for col in boolean_cols:\n",
    "    missings_col = ads[col].isnull().sum()\n",
    "    if col == 'imp':\n",
    "        print('Missing values in `imp`', missings_col)\n",
    "    missings += ads[col].isnull().sum()\n",
    "missings / len(boolean_cols)\n",
    "\n"
   ]
  },
  {
   "cell_type": "markdown",
   "metadata": {},
   "source": [
    "These are quite a lot, and we cannot afford to loose them. As the variables are simply dummy variables of a categorical variable, we decide to simply use the default bool conversion strategy in this case, ie convert all missing values to `False`. Intuitively, if we don't know whether a user is interested in food, we simply assume that the user isn't interested in it. This way, we won't skew the analysis significantly. Further note, that the `imp` variable has no missing values. "
   ]
  },
  {
   "cell_type": "code",
   "execution_count": 14,
   "metadata": {},
   "outputs": [],
   "source": [
    "ads[boolean_cols] = ads[boolean_cols].fillna(0)\n",
    "ads[boolean_cols] = ads[boolean_cols].astype(bool)"
   ]
  },
  {
   "cell_type": "markdown",
   "metadata": {},
   "source": [
    "How many bids did not win impressions?"
   ]
  },
  {
   "cell_type": "code",
   "execution_count": 15,
   "metadata": {},
   "outputs": [
    {
     "data": {
      "text/plain": [
       "1473696"
      ]
     },
     "execution_count": 15,
     "metadata": {},
     "output_type": "execute_result"
    }
   ],
   "source": [
    "(ads['imp'] == False).sum()"
   ]
  },
  {
   "cell_type": "markdown",
   "metadata": {},
   "source": [
    "Obviously, if the advertiser didn't win the impression, the user won't be able to click. Therefore, we use only the won impressions and remove the column. As an aside, it would be an interesting analysis to regress `imp` itself, ie whether an advertiser will win a bid. However, we figure that the provided variables are not conclusive enough to classify `imp` correctly."
   ]
  },
  {
   "cell_type": "code",
   "execution_count": 17,
   "metadata": {
    "collapsed": false
   },
   "outputs": [
    {
     "ename": "KeyError",
     "evalue": "'imp'",
     "traceback": [
      "\u001b[0;31m---------------------------------------------------------------------------\u001b[0m",
      "\u001b[0;31mKeyError\u001b[0m                                  Traceback (most recent call last)",
      "\u001b[0;32m~/anaconda3/lib/python3.6/site-packages/pandas/indexes/base.py\u001b[0m in \u001b[0;36mget_loc\u001b[0;34m(self, key, method, tolerance)\u001b[0m\n\u001b[1;32m   2133\u001b[0m             \u001b[0;32mtry\u001b[0m\u001b[0;34m:\u001b[0m\u001b[0;34m\u001b[0m\u001b[0m\n\u001b[0;32m-> 2134\u001b[0;31m                 \u001b[0;32mreturn\u001b[0m \u001b[0mself\u001b[0m\u001b[0;34m.\u001b[0m\u001b[0m_engine\u001b[0m\u001b[0;34m.\u001b[0m\u001b[0mget_loc\u001b[0m\u001b[0;34m(\u001b[0m\u001b[0mkey\u001b[0m\u001b[0;34m)\u001b[0m\u001b[0;34m\u001b[0m\u001b[0m\n\u001b[0m\u001b[1;32m   2135\u001b[0m             \u001b[0;32mexcept\u001b[0m \u001b[0mKeyError\u001b[0m\u001b[0;34m:\u001b[0m\u001b[0;34m\u001b[0m\u001b[0m\n",
      "\u001b[0;32mpandas/index.pyx\u001b[0m in \u001b[0;36mpandas.index.IndexEngine.get_loc (pandas/index.c:4433)\u001b[0;34m()\u001b[0m\n",
      "\u001b[0;32mpandas/index.pyx\u001b[0m in \u001b[0;36mpandas.index.IndexEngine.get_loc (pandas/index.c:4279)\u001b[0;34m()\u001b[0m\n",
      "\u001b[0;32mpandas/src/hashtable_class_helper.pxi\u001b[0m in \u001b[0;36mpandas.hashtable.PyObjectHashTable.get_item (pandas/hashtable.c:13742)\u001b[0;34m()\u001b[0m\n",
      "\u001b[0;32mpandas/src/hashtable_class_helper.pxi\u001b[0m in \u001b[0;36mpandas.hashtable.PyObjectHashTable.get_item (pandas/hashtable.c:13696)\u001b[0;34m()\u001b[0m\n",
      "\u001b[0;31mKeyError\u001b[0m: 'imp'",
      "\nDuring handling of the above exception, another exception occurred:\n",
      "\u001b[0;31mKeyError\u001b[0m                                  Traceback (most recent call last)",
      "\u001b[0;32m<ipython-input-17-dff4dd57e0ab>\u001b[0m in \u001b[0;36m<module>\u001b[0;34m()\u001b[0m\n\u001b[0;32m----> 1\u001b[0;31m \u001b[0mprint\u001b[0m\u001b[0;34m(\u001b[0m\u001b[0;34m'Lost impressions, but clicked'\u001b[0m\u001b[0;34m,\u001b[0m \u001b[0;34m(\u001b[0m\u001b[0;34m(\u001b[0m\u001b[0mads\u001b[0m\u001b[0;34m[\u001b[0m\u001b[0;34m'imp'\u001b[0m\u001b[0;34m]\u001b[0m \u001b[0;34m==\u001b[0m \u001b[0;36m0\u001b[0m\u001b[0;34m)\u001b[0m \u001b[0;34m&\u001b[0m \u001b[0;34m(\u001b[0m\u001b[0mads\u001b[0m\u001b[0;34m[\u001b[0m\u001b[0;34m'click'\u001b[0m\u001b[0;34m]\u001b[0m \u001b[0;34m==\u001b[0m \u001b[0;36m1\u001b[0m\u001b[0;34m)\u001b[0m\u001b[0;34m)\u001b[0m\u001b[0;34m.\u001b[0m\u001b[0msum\u001b[0m\u001b[0;34m(\u001b[0m\u001b[0;34m)\u001b[0m\u001b[0;34m)\u001b[0m\u001b[0;34m\u001b[0m\u001b[0m\n\u001b[0m\u001b[1;32m      2\u001b[0m \u001b[0mads\u001b[0m\u001b[0;34m[\u001b[0m\u001b[0mads\u001b[0m\u001b[0;34m[\u001b[0m\u001b[0;34m'imp'\u001b[0m\u001b[0;34m]\u001b[0m \u001b[0;34m==\u001b[0m \u001b[0;32mTrue\u001b[0m\u001b[0;34m]\u001b[0m\u001b[0;34m\u001b[0m\u001b[0m\n\u001b[1;32m      3\u001b[0m \u001b[0mads\u001b[0m\u001b[0;34m.\u001b[0m\u001b[0mdrop\u001b[0m\u001b[0;34m(\u001b[0m\u001b[0;34m[\u001b[0m\u001b[0;34m'imp'\u001b[0m\u001b[0;34m]\u001b[0m\u001b[0;34m,\u001b[0m \u001b[0maxis\u001b[0m\u001b[0;34m=\u001b[0m\u001b[0;36m1\u001b[0m\u001b[0;34m,\u001b[0m \u001b[0minplace\u001b[0m\u001b[0;34m=\u001b[0m\u001b[0;32mTrue\u001b[0m\u001b[0;34m)\u001b[0m\u001b[0;34m\u001b[0m\u001b[0m\n",
      "\u001b[0;32m~/anaconda3/lib/python3.6/site-packages/pandas/core/frame.py\u001b[0m in \u001b[0;36m__getitem__\u001b[0;34m(self, key)\u001b[0m\n\u001b[1;32m   2057\u001b[0m             \u001b[0;32mreturn\u001b[0m \u001b[0mself\u001b[0m\u001b[0;34m.\u001b[0m\u001b[0m_getitem_multilevel\u001b[0m\u001b[0;34m(\u001b[0m\u001b[0mkey\u001b[0m\u001b[0;34m)\u001b[0m\u001b[0;34m\u001b[0m\u001b[0m\n\u001b[1;32m   2058\u001b[0m         \u001b[0;32melse\u001b[0m\u001b[0;34m:\u001b[0m\u001b[0;34m\u001b[0m\u001b[0m\n\u001b[0;32m-> 2059\u001b[0;31m             \u001b[0;32mreturn\u001b[0m \u001b[0mself\u001b[0m\u001b[0;34m.\u001b[0m\u001b[0m_getitem_column\u001b[0m\u001b[0;34m(\u001b[0m\u001b[0mkey\u001b[0m\u001b[0;34m)\u001b[0m\u001b[0;34m\u001b[0m\u001b[0m\n\u001b[0m\u001b[1;32m   2060\u001b[0m \u001b[0;34m\u001b[0m\u001b[0m\n\u001b[1;32m   2061\u001b[0m     \u001b[0;32mdef\u001b[0m \u001b[0m_getitem_column\u001b[0m\u001b[0;34m(\u001b[0m\u001b[0mself\u001b[0m\u001b[0;34m,\u001b[0m \u001b[0mkey\u001b[0m\u001b[0;34m)\u001b[0m\u001b[0;34m:\u001b[0m\u001b[0;34m\u001b[0m\u001b[0m\n",
      "\u001b[0;32m~/anaconda3/lib/python3.6/site-packages/pandas/core/frame.py\u001b[0m in \u001b[0;36m_getitem_column\u001b[0;34m(self, key)\u001b[0m\n\u001b[1;32m   2064\u001b[0m         \u001b[0;31m# get column\u001b[0m\u001b[0;34m\u001b[0m\u001b[0;34m\u001b[0m\u001b[0m\n\u001b[1;32m   2065\u001b[0m         \u001b[0;32mif\u001b[0m \u001b[0mself\u001b[0m\u001b[0;34m.\u001b[0m\u001b[0mcolumns\u001b[0m\u001b[0;34m.\u001b[0m\u001b[0mis_unique\u001b[0m\u001b[0;34m:\u001b[0m\u001b[0;34m\u001b[0m\u001b[0m\n\u001b[0;32m-> 2066\u001b[0;31m             \u001b[0;32mreturn\u001b[0m \u001b[0mself\u001b[0m\u001b[0;34m.\u001b[0m\u001b[0m_get_item_cache\u001b[0m\u001b[0;34m(\u001b[0m\u001b[0mkey\u001b[0m\u001b[0;34m)\u001b[0m\u001b[0;34m\u001b[0m\u001b[0m\n\u001b[0m\u001b[1;32m   2067\u001b[0m \u001b[0;34m\u001b[0m\u001b[0m\n\u001b[1;32m   2068\u001b[0m         \u001b[0;31m# duplicate columns & possible reduce dimensionality\u001b[0m\u001b[0;34m\u001b[0m\u001b[0;34m\u001b[0m\u001b[0m\n",
      "\u001b[0;32m~/anaconda3/lib/python3.6/site-packages/pandas/core/generic.py\u001b[0m in \u001b[0;36m_get_item_cache\u001b[0;34m(self, item)\u001b[0m\n\u001b[1;32m   1384\u001b[0m         \u001b[0mres\u001b[0m \u001b[0;34m=\u001b[0m \u001b[0mcache\u001b[0m\u001b[0;34m.\u001b[0m\u001b[0mget\u001b[0m\u001b[0;34m(\u001b[0m\u001b[0mitem\u001b[0m\u001b[0;34m)\u001b[0m\u001b[0;34m\u001b[0m\u001b[0m\n\u001b[1;32m   1385\u001b[0m         \u001b[0;32mif\u001b[0m \u001b[0mres\u001b[0m \u001b[0;32mis\u001b[0m \u001b[0;32mNone\u001b[0m\u001b[0;34m:\u001b[0m\u001b[0;34m\u001b[0m\u001b[0m\n\u001b[0;32m-> 1386\u001b[0;31m             \u001b[0mvalues\u001b[0m \u001b[0;34m=\u001b[0m \u001b[0mself\u001b[0m\u001b[0;34m.\u001b[0m\u001b[0m_data\u001b[0m\u001b[0;34m.\u001b[0m\u001b[0mget\u001b[0m\u001b[0;34m(\u001b[0m\u001b[0mitem\u001b[0m\u001b[0;34m)\u001b[0m\u001b[0;34m\u001b[0m\u001b[0m\n\u001b[0m\u001b[1;32m   1387\u001b[0m             \u001b[0mres\u001b[0m \u001b[0;34m=\u001b[0m \u001b[0mself\u001b[0m\u001b[0;34m.\u001b[0m\u001b[0m_box_item_values\u001b[0m\u001b[0;34m(\u001b[0m\u001b[0mitem\u001b[0m\u001b[0;34m,\u001b[0m \u001b[0mvalues\u001b[0m\u001b[0;34m)\u001b[0m\u001b[0;34m\u001b[0m\u001b[0m\n\u001b[1;32m   1388\u001b[0m             \u001b[0mcache\u001b[0m\u001b[0;34m[\u001b[0m\u001b[0mitem\u001b[0m\u001b[0;34m]\u001b[0m \u001b[0;34m=\u001b[0m \u001b[0mres\u001b[0m\u001b[0;34m\u001b[0m\u001b[0m\n",
      "\u001b[0;32m~/anaconda3/lib/python3.6/site-packages/pandas/core/internals.py\u001b[0m in \u001b[0;36mget\u001b[0;34m(self, item, fastpath)\u001b[0m\n\u001b[1;32m   3541\u001b[0m \u001b[0;34m\u001b[0m\u001b[0m\n\u001b[1;32m   3542\u001b[0m             \u001b[0;32mif\u001b[0m \u001b[0;32mnot\u001b[0m \u001b[0misnull\u001b[0m\u001b[0;34m(\u001b[0m\u001b[0mitem\u001b[0m\u001b[0;34m)\u001b[0m\u001b[0;34m:\u001b[0m\u001b[0;34m\u001b[0m\u001b[0m\n\u001b[0;32m-> 3543\u001b[0;31m                 \u001b[0mloc\u001b[0m \u001b[0;34m=\u001b[0m \u001b[0mself\u001b[0m\u001b[0;34m.\u001b[0m\u001b[0mitems\u001b[0m\u001b[0;34m.\u001b[0m\u001b[0mget_loc\u001b[0m\u001b[0;34m(\u001b[0m\u001b[0mitem\u001b[0m\u001b[0;34m)\u001b[0m\u001b[0;34m\u001b[0m\u001b[0m\n\u001b[0m\u001b[1;32m   3544\u001b[0m             \u001b[0;32melse\u001b[0m\u001b[0;34m:\u001b[0m\u001b[0;34m\u001b[0m\u001b[0m\n\u001b[1;32m   3545\u001b[0m                 \u001b[0mindexer\u001b[0m \u001b[0;34m=\u001b[0m \u001b[0mnp\u001b[0m\u001b[0;34m.\u001b[0m\u001b[0marange\u001b[0m\u001b[0;34m(\u001b[0m\u001b[0mlen\u001b[0m\u001b[0;34m(\u001b[0m\u001b[0mself\u001b[0m\u001b[0;34m.\u001b[0m\u001b[0mitems\u001b[0m\u001b[0;34m)\u001b[0m\u001b[0;34m)\u001b[0m\u001b[0;34m[\u001b[0m\u001b[0misnull\u001b[0m\u001b[0;34m(\u001b[0m\u001b[0mself\u001b[0m\u001b[0;34m.\u001b[0m\u001b[0mitems\u001b[0m\u001b[0;34m)\u001b[0m\u001b[0;34m]\u001b[0m\u001b[0;34m\u001b[0m\u001b[0m\n",
      "\u001b[0;32m~/anaconda3/lib/python3.6/site-packages/pandas/indexes/base.py\u001b[0m in \u001b[0;36mget_loc\u001b[0;34m(self, key, method, tolerance)\u001b[0m\n\u001b[1;32m   2134\u001b[0m                 \u001b[0;32mreturn\u001b[0m \u001b[0mself\u001b[0m\u001b[0;34m.\u001b[0m\u001b[0m_engine\u001b[0m\u001b[0;34m.\u001b[0m\u001b[0mget_loc\u001b[0m\u001b[0;34m(\u001b[0m\u001b[0mkey\u001b[0m\u001b[0;34m)\u001b[0m\u001b[0;34m\u001b[0m\u001b[0m\n\u001b[1;32m   2135\u001b[0m             \u001b[0;32mexcept\u001b[0m \u001b[0mKeyError\u001b[0m\u001b[0;34m:\u001b[0m\u001b[0;34m\u001b[0m\u001b[0m\n\u001b[0;32m-> 2136\u001b[0;31m                 \u001b[0;32mreturn\u001b[0m \u001b[0mself\u001b[0m\u001b[0;34m.\u001b[0m\u001b[0m_engine\u001b[0m\u001b[0;34m.\u001b[0m\u001b[0mget_loc\u001b[0m\u001b[0;34m(\u001b[0m\u001b[0mself\u001b[0m\u001b[0;34m.\u001b[0m\u001b[0m_maybe_cast_indexer\u001b[0m\u001b[0;34m(\u001b[0m\u001b[0mkey\u001b[0m\u001b[0;34m)\u001b[0m\u001b[0;34m)\u001b[0m\u001b[0;34m\u001b[0m\u001b[0m\n\u001b[0m\u001b[1;32m   2137\u001b[0m \u001b[0;34m\u001b[0m\u001b[0m\n\u001b[1;32m   2138\u001b[0m         \u001b[0mindexer\u001b[0m \u001b[0;34m=\u001b[0m \u001b[0mself\u001b[0m\u001b[0;34m.\u001b[0m\u001b[0mget_indexer\u001b[0m\u001b[0;34m(\u001b[0m\u001b[0;34m[\u001b[0m\u001b[0mkey\u001b[0m\u001b[0;34m]\u001b[0m\u001b[0;34m,\u001b[0m \u001b[0mmethod\u001b[0m\u001b[0;34m=\u001b[0m\u001b[0mmethod\u001b[0m\u001b[0;34m,\u001b[0m \u001b[0mtolerance\u001b[0m\u001b[0;34m=\u001b[0m\u001b[0mtolerance\u001b[0m\u001b[0;34m)\u001b[0m\u001b[0;34m\u001b[0m\u001b[0m\n",
      "\u001b[0;32mpandas/index.pyx\u001b[0m in \u001b[0;36mpandas.index.IndexEngine.get_loc (pandas/index.c:4433)\u001b[0;34m()\u001b[0m\n",
      "\u001b[0;32mpandas/index.pyx\u001b[0m in \u001b[0;36mpandas.index.IndexEngine.get_loc (pandas/index.c:4279)\u001b[0;34m()\u001b[0m\n",
      "\u001b[0;32mpandas/src/hashtable_class_helper.pxi\u001b[0m in \u001b[0;36mpandas.hashtable.PyObjectHashTable.get_item (pandas/hashtable.c:13742)\u001b[0;34m()\u001b[0m\n",
      "\u001b[0;32mpandas/src/hashtable_class_helper.pxi\u001b[0m in \u001b[0;36mpandas.hashtable.PyObjectHashTable.get_item (pandas/hashtable.c:13696)\u001b[0;34m()\u001b[0m\n",
      "\u001b[0;31mKeyError\u001b[0m: 'imp'"
     ],
     "output_type": "error"
    }
   ],
   "source": [
    "print('Lost impressions, but clicked', ((ads['imp'] == 0) & (ads['click'] == 1)).sum())\n",
    "ads[ads['imp'] == True]\n",
    "ads.drop(['imp'], axis=1, inplace=True)"
   ]
  },
  {
   "cell_type": "markdown",
   "metadata": {},
   "source": [
    "Let's now look at the `Browser` variable."
   ]
  },
  {
   "cell_type": "code",
   "execution_count": 19,
   "metadata": {},
   "outputs": [
    {
     "data": {
      "text/plain": [
       "count                                               3438136\nunique                                               190186\ntop       Mozilla/5.0 (Windows NT 5.1) AppleWebKit/537.1...\nfreq                                                 384532\nName: Browser, dtype: object"
      ]
     },
     "execution_count": 19,
     "metadata": {},
     "output_type": "execute_result"
    }
   ],
   "source": [
    "ads['Browser'].describe()"
   ]
  },
  {
   "cell_type": "markdown",
   "metadata": {},
   "source": [
    "We see that the `Browser` variable captures the user agent. As such, it has too many unique values. We will aggregate these user agents into a categorical variable. There are two interesting informations in the user agent: the browser and the operating system. Let's create a column for both of them. Note that we do not concern ourselves with specific browser versions or smaller browser families for two reasons: First, the difference between specific category levels would be two small (consider `Firefox` and `Firefox Nightly`). Second, we would need to deploy libraries like `ua_parser`, which deploy either regular expressions or large lookup tables. We tried to do that and experienced that it took way too long and resulted in 70 unique values (way too large)."
   ]
  },
  {
   "cell_type": "code",
   "execution_count": 20,
   "metadata": {},
   "outputs": [],
   "source": [
    "ads['Browser'] = ads['Browser'].astype(str)\n",
    "def map_browser(agent):\n",
    "    browsers = ['edge', 'trident', 'chrome', 'firefox', 'safari', 'opera']\n",
    "    for browser in browsers:\n",
    "        if browser in agent.lower():\n",
    "            return 'ie' if browser == 'trident' else browser\n",
    "    return 'other'\n",
    "\n",
    "\n",
    "def map_os(agent):\n",
    "    os_list = ['windows', 'linux', 'mac os x']\n",
    "    for os in os_list:\n",
    "        if os in agent.lower():\n",
    "            return os\n",
    "    return 'other'\n",
    "\n",
    "\n",
    "ads['OS'] = ads['Browser'].map(lambda x: map_os(x), na_action=None)\n",
    "ads['OS'] = ads['OS'].astype('category')\n",
    "ads['Browser'] = ads['Browser'].map(lambda x: map_browser(x), na_action=None)\n",
    "ads['Browser'] = ads['Browser'].astype('category')"
   ]
  },
  {
   "cell_type": "markdown",
   "metadata": {},
   "source": [
    "Let's look at our new variables:"
   ]
  },
  {
   "cell_type": "code",
   "execution_count": 21,
   "metadata": {},
   "outputs": [
    {
     "data": {
      "text/plain": [
       "windows     3364445\nmac os x      51760\nlinux         18723\nother          4403\nName: OS, dtype: int64"
      ]
     },
     "execution_count": 21,
     "metadata": {},
     "output_type": "execute_result"
    }
   ],
   "source": [
    "ads['OS'].value_counts()"
   ]
  },
  {
   "cell_type": "code",
   "execution_count": 22,
   "metadata": {},
   "outputs": [
    {
     "data": {
      "text/plain": [
       "ie         1634893\nchrome     1298420\nother       409648\nsafari       58954\nfirefox      34909\nopera         2507\nName: Browser, dtype: int64"
      ]
     },
     "execution_count": 22,
     "metadata": {},
     "output_type": "execute_result"
    }
   ],
   "source": [
    "ads['Browser'].value_counts()"
   ]
  },
  {
   "cell_type": "markdown",
   "metadata": {},
   "source": [
    "Perhaps not surprisingly, most users accessed the website using Internet Explorer on a Windows operating system. The large size of `Browser == other` might seem unsettling. These are just different flavors of Chinese browsers which are obviously very specific to the Chinese market and do not generalize well.\n",
    "\n",
    "The next information is the price which the advertiser paid for an ad. There are two columns which indicate this information. `Biddingprice` shows the bidding price of the advertiser, which was always 294 or 277 in the iPinYou competition. `Payingprice` shows the actual paid price."
   ]
  },
  {
   "cell_type": "code",
   "execution_count": 23,
   "metadata": {},
   "outputs": [
    {
     "name": "stdout",
     "output_type": "stream",
     "text": [
      "Both missing: 0 Payingprice missing: 1473696 Biddingprice missing: 0\n"
     ]
    },
    {
     "data": {
      "text/plain": [
       "array([ 294.,  277.])"
      ]
     },
     "execution_count": 23,
     "metadata": {},
     "output_type": "execute_result"
    }
   ],
   "source": [
    "both_na = ((ads['Payingprice'].isnull()) & (ads['Biddingprice'].isnull())).sum()\n",
    "pay_na = ((ads['Payingprice'].isnull()) & ~(ads['Biddingprice'].isnull())).sum()\n",
    "bid_na = (~(ads['Payingprice'].isnull()) & (ads['Biddingprice'].isnull())).sum()\n",
    "print('Both missing:', both_na, 'Payingprice missing:', pay_na, 'Biddingprice missing:', bid_na)\n",
    "ads['Biddingprice'].unique()"
   ]
  },
  {
   "cell_type": "markdown",
   "metadata": {},
   "source": [
    "We see that the paying price is sometimes not indicated. In these cases, `Payingprice == Biddinprice`. Thus, let's combine these columns into one."
   ]
  },
  {
   "cell_type": "code",
   "execution_count": 24,
   "metadata": {},
   "outputs": [],
   "source": [
    "ads.loc[ads['Payingprice'].isnull(), 'Payingprice'] = ads.loc[ads['Payingprice'].isnull(), 'Biddingprice']\n",
    "ads['Payingprice'] = ads['Payingprice'].astype(int)\n",
    "ads.drop('Biddingprice', axis=1, inplace=True)"
   ]
  },
  {
   "cell_type": "markdown",
   "metadata": {},
   "source": [
    "Next up is the `AdExchange` variable. It indicates the ad exchange used for the bidding. It may not be too useful for classification, but as it is a small categorical variable, we'll include it anyway."
   ]
  },
  {
   "cell_type": "code",
   "execution_count": 25,
   "metadata": {},
   "outputs": [
    {
     "data": {
      "text/plain": [
       "3    1422626\n2     852752\n1     673951\n4     490002\nName: AdExchange, dtype: int64"
      ]
     },
     "execution_count": 25,
     "metadata": {},
     "output_type": "execute_result"
    }
   ],
   "source": [
    "ads['AdExchange'] = ads['AdExchange'].astype('int').astype('category')\n",
    "ads['AdExchange'].value_counts()"
   ]
  },
  {
   "cell_type": "markdown",
   "metadata": {},
   "source": [
    "Next we look into the `Adslotvisibility` variable. It indicates the visual importance of the ad presentation."
   ]
  },
  {
   "cell_type": "code",
   "execution_count": 26,
   "metadata": {},
   "outputs": [
    {
     "data": {
      "text/plain": [
       "Na            1710843\nOtherView      715442\nFirstView      597871\nSecondView     174225\nFourthView     123492\nThirdView      111905\nFifthView        5553\nName: Adslotvisibility, dtype: int64"
      ]
     },
     "execution_count": 26,
     "metadata": {},
     "output_type": "execute_result"
    }
   ],
   "source": [
    "ads['Adslotvisibility'].value_counts()"
   ]
  },
  {
   "cell_type": "markdown",
   "metadata": {},
   "source": [
    "We see that the strings indicate six categories (FirstView--FithView, OtherView). Unfortunately, there are a lot of missing values. Nevertheless, we convert it into a categorical variable and indicate an additional level for missing values."
   ]
  },
  {
   "cell_type": "code",
   "execution_count": 28,
   "metadata": {},
   "outputs": [
    {
     "data": {
      "text/plain": [
       "Na            1710843\nOtherView      715442\nFirstView      597871\nSecondView     174225\nFourthView     123492\nThirdView      111905\nFifthView        5553\nName: Adslotvisibility, dtype: int64"
      ]
     },
     "execution_count": 28,
     "metadata": {},
     "output_type": "execute_result"
    }
   ],
   "source": [
    "ads['Adslotvisibility'] = ads['Adslotvisibility'].astype('category')\n",
    "ads['Adslotvisibility'].value_counts()"
   ]
  },
  {
   "cell_type": "markdown",
   "metadata": {},
   "source": [
    "We do the same with `Adslotformat`, which is very similar to `Adslotvisibility`."
   ]
  },
  {
   "cell_type": "code",
   "execution_count": 30,
   "metadata": {},
   "outputs": [
    {
     "data": {
      "text/plain": [
       "Na            1710843\nOtherView      715442\nFirstView      597871\nSecondView     174225\nFourthView     123492\nThirdView      111905\nFifthView        5553\nName: Adslotvisibility, dtype: int64"
      ]
     },
     "execution_count": 30,
     "metadata": {},
     "output_type": "execute_result"
    }
   ],
   "source": [
    "ads['Adslotformat'] = ads['Adslotformat'].astype('category')\n",
    "ads['Adslotvisibility'].value_counts()"
   ]
  },
  {
   "cell_type": "markdown",
   "metadata": {},
   "source": [
    "`Adslotwidth`, `Adslotheight` and `AdvertiserID` contain obvious information. Luckily, they don't contain any missing values. We'll just convert them to integers."
   ]
  },
  {
   "cell_type": "code",
   "execution_count": 31,
   "metadata": {},
   "outputs": [
    {
     "name": "stdout",
     "output_type": "stream",
     "text": [
      "Missing values: 0\n"
     ]
    }
   ],
   "source": [
    "print('Missing values:', ads['AdvertiserID'].isnull().sum() + ads['Adslotwidth'].isnull().sum() + ads['Adslotheight'].isnull().sum())\n",
    "int_cols = ['AdvertiserID', 'Adslotwidth', 'Adslotheight']\n",
    "ads[int_cols] = ads[int_cols].astype(int)"
   ]
  },
  {
   "cell_type": "markdown",
   "metadata": {},
   "source": [
    "Next, we consider the gender variables. Using two variables `male` and `female` is highly discouraged, as there is sure to be multicolinearity. Therefore, we simply delete the `Demographic_gender_male` column. We have the additional benefit of saving memory."
   ]
  },
  {
   "cell_type": "code",
   "execution_count": 32,
   "metadata": {},
   "outputs": [],
   "source": [
    "ads.drop(['Demographic_gender_male'], axis=1, inplace=True)"
   ]
  },
  {
   "cell_type": "markdown",
   "metadata": {},
   "source": [
    "That concludes the basic data cleaning part. We see that we've dealt with all missing values and now enjoy the benefit of correct datatypes."
   ]
  },
  {
   "cell_type": "code",
   "execution_count": 33,
   "metadata": {
    "collapsed": false
   },
   "outputs": [
    {
     "data": {
      "text/plain": [
       "click                              0\nBrowser                            0\nAdExchange                         0\nAdslotwidth                        0\nAdslotheight                       0\nAdslotvisibility                   0\nAdslotformat                       0\nAdvertiserID                       0\ninterest_news                      0\ninterest_education                 0\ninterest_automobile                0\ninterest_realestate                0\ninterest_IT                        0\ninterest_electronicgame            0\ninterest_fashion                   0\ninterest_entertainment             0\ninterest_luxury                    0\ninterest_homeandlifestyle          0\ninterest_health                    0\ninterest_food                      0\ninterest_divine                    0\ninterest_motherhood_parenting      0\ninterest_sports                    0\ninterest_travel_outdoors           0\ninterest_social                    0\nInmarket_3cproduct                 0\nInmarket_appliances                0\nInmarket_clothing_shoes_bags       0\nInmarket_Beauty_PersonalCare       0\nInmarket_infant_momproducts        0\nInmarket_sportsitem                0\nInmarket_outdoor                   0\nInmarket_healthcareproducts        0\nInmarket_luxury                    0\nInmarket_realestate                0\nInmarket_automobile                0\nInmarket_finance                   0\nInmarket_travel                    0\nInmarket_education                 0\nInmarket_service                   0\ninterest_art_photography_design    0\ninterest_onlineliterature          0\nInmarket_electronicgame            0\ninterest_3c                        0\nInmarket_book                      0\nInmarket_medicine                  0\nInmarket_food_drink                0\ninterest_culture                   0\ninterest_sex                       0\nDemographic_gender_female          0\nInmarket_homeimprovement           0\nPayingprice                        0\nOS                                 0\ndtype: int64"
      ]
     },
     "execution_count": 33,
     "metadata": {},
     "output_type": "execute_result"
    }
   ],
   "source": [
    "ads.isnull().sum()"
   ]
  },
  {
   "cell_type": "code",
   "execution_count": 34,
   "metadata": {
    "collapsed": false
   },
   "outputs": [
    {
     "name": "stdout",
     "output_type": "stream",
     "text": [
      "<class 'pandas.core.frame.DataFrame'>\nInt64Index: 3439331 entries, 0 to 3439330\nData columns (total 53 columns):\nclick                              bool\nBrowser                            category\nAdExchange                         category\nAdslotwidth                        int64\nAdslotheight                       int64\nAdslotvisibility                   category\nAdslotformat                       category\nAdvertiserID                       int64\ninterest_news                      bool\ninterest_education                 bool\ninterest_automobile                bool\ninterest_realestate                bool\ninterest_IT                        bool\ninterest_electronicgame            bool\ninterest_fashion                   bool\ninterest_entertainment             bool\ninterest_luxury                    bool\ninterest_homeandlifestyle          bool\ninterest_health                    bool\ninterest_food                      bool\ninterest_divine                    bool\ninterest_motherhood_parenting      bool\ninterest_sports                    bool\ninterest_travel_outdoors           bool\ninterest_social                    bool\nInmarket_3cproduct                 bool\nInmarket_appliances                bool\nInmarket_clothing_shoes_bags       bool\nInmarket_Beauty_PersonalCare       bool\nInmarket_infant_momproducts        bool\nInmarket_sportsitem                bool\nInmarket_outdoor                   bool\nInmarket_healthcareproducts        bool\nInmarket_luxury                    bool\nInmarket_realestate                bool\nInmarket_automobile                bool\nInmarket_finance                   bool\nInmarket_travel                    bool\nInmarket_education                 bool\nInmarket_service                   bool\ninterest_art_photography_design    bool\ninterest_onlineliterature          bool\nInmarket_electronicgame            bool\ninterest_3c                        bool\nInmarket_book                      bool\nInmarket_medicine                  bool\nInmarket_food_drink                bool\ninterest_culture                   bool\ninterest_sex                       bool\nDemographic_gender_female          bool\nInmarket_homeimprovement           bool\nPayingprice                        int64\nOS                                 category\ndtypes: bool(44), category(5), int64(4)\nmemory usage: 291.9 MB\n"
     ]
    }
   ],
   "source": [
    "ads.info()"
   ]
  },
  {
   "cell_type": "markdown",
   "metadata": {},
   "source": [
    "Let's safely store and export our dataset."
   ]
  },
  {
   "cell_type": "code",
   "execution_count": 35,
   "metadata": {},
   "outputs": [],
   "source": [
    "ads.to_pickle('data/ads_clean.p')\n",
    "ads.to_csv('data/ads_clean.csv', index=False)"
   ]
  },
  {
   "cell_type": "markdown",
   "metadata": {},
   "source": [
    "Regression\n",
    "---\n",
    "Time for logistic regression."
   ]
  },
  {
   "cell_type": "code",
   "execution_count": 1,
   "metadata": {},
   "outputs": [],
   "source": [
    "from pandas import read_pickle\n",
    "ads = read_pickle('data/ads_clean.p')"
   ]
  },
  {
   "cell_type": "markdown",
   "metadata": {},
   "source": [
    "First, we need to get our categorical values into shape."
   ]
  },
  {
   "cell_type": "code",
   "execution_count": 6,
   "metadata": {},
   "outputs": [
    {
     "name": "stdout",
     "output_type": "stream",
     "text": [
      "<class 'pandas.core.frame.DataFrame'>\nInt64Index: 3439331 entries, 0 to 3439330\nData columns (total 67 columns):\nclick                              bool\nAdslotwidth                        int64\nAdslotheight                       int64\nAdvertiserID                       int64\ninterest_news                      bool\ninterest_education                 bool\ninterest_automobile                bool\ninterest_realestate                bool\ninterest_IT                        bool\ninterest_electronicgame            bool\ninterest_fashion                   bool\ninterest_entertainment             bool\ninterest_luxury                    bool\ninterest_homeandlifestyle          bool\ninterest_health                    bool\ninterest_food                      bool\ninterest_divine                    bool\ninterest_motherhood_parenting      bool\ninterest_sports                    bool\ninterest_travel_outdoors           bool\ninterest_social                    bool\nInmarket_3cproduct                 bool\nInmarket_appliances                bool\nInmarket_clothing_shoes_bags       bool\nInmarket_Beauty_PersonalCare       bool\nInmarket_infant_momproducts        bool\nInmarket_sportsitem                bool\nInmarket_outdoor                   bool\nInmarket_healthcareproducts        bool\nInmarket_luxury                    bool\nInmarket_realestate                bool\nInmarket_automobile                bool\nInmarket_finance                   bool\nInmarket_travel                    bool\nInmarket_education                 bool\nInmarket_service                   bool\ninterest_art_photography_design    bool\ninterest_onlineliterature          bool\nInmarket_electronicgame            bool\ninterest_3c                        bool\nInmarket_book                      bool\nInmarket_medicine                  bool\nInmarket_food_drink                bool\ninterest_culture                   bool\ninterest_sex                       bool\nDemographic_gender_female          bool\nInmarket_homeimprovement           bool\nPayingprice                        int64\nBrowser_chrome                     uint8\nBrowser_firefox                    uint8\nBrowser_ie                         uint8\nBrowser_opera                      uint8\nBrowser_safari                     uint8\nAdExchange_2                       uint8\nAdExchange_3                       uint8\nAdExchange_4                       uint8\nAdslotvisibility_FifthView         uint8\nAdslotvisibility_FirstView         uint8\nAdslotvisibility_FourthView        uint8\nAdslotvisibility_OtherView         uint8\nAdslotvisibility_SecondView        uint8\nAdslotvisibility_ThirdView         uint8\nAdslotformat_Fixed                 uint8\nAdslotformat_Pop                   uint8\nOS_linux                           uint8\nOS_mac os x                        uint8\nOS_windows                         uint8\ndtypes: bool(44), int64(4), uint8(19)\nmemory usage: 337.8 MB\n"
     ]
    }
   ],
   "source": [
    "from pandas import get_dummies\n",
    "browser_dummies = get_dummies(ads['Browser'], prefix='Browser')\n",
    "browser_dummies.drop(['Browser_other'], axis=1, inplace=True)\n",
    "adex_dummies = get_dummies(ads['AdExchange'], prefix='AdExchange')\n",
    "adex_dummies.drop(['AdExchange_1'], axis=1, inplace=True)\n",
    "advi_dummies = get_dummies(ads['Adslotvisibility'], prefix='Adslotvisibility')\n",
    "advi_dummies.drop(['Adslotvisibility_Na'], axis=1, inplace=True)\n",
    "adfo_dummies = get_dummies(ads['Adslotformat'], prefix='Adslotformat')\n",
    "adfo_dummies.drop(['Adslotformat_Na'], axis=1, inplace=True)\n",
    "os_dummies = get_dummies(ads['OS'], prefix='OS')\n",
    "os_dummies.drop(['OS_other'], axis=1, inplace=True)\n",
    "ads = ads.join([browser_dummies, adex_dummies, advi_dummies, adfo_dummies, os_dummies])\n",
    "ads.drop(['Browser', 'AdExchange', 'Adslotvisibility', 'Adslotformat', 'OS'], axis=1, inplace=True)\n",
    "ads.info()"
   ]
  },
  {
   "cell_type": "markdown",
   "metadata": {},
   "source": [
    "Note that we dropped one level for each categorical variable, in order to avoid the dummy trap. There's only one thing to do before running the regression: Adding the intercept."
   ]
  },
  {
   "cell_type": "code",
   "execution_count": 7,
   "metadata": {},
   "outputs": [],
   "source": [
    "ads['intercept'] = 1.0"
   ]
  },
  {
   "cell_type": "code",
   "execution_count": 8,
   "metadata": {
    "collapsed": false
   },
   "outputs": [
    {
     "name": "stdout",
     "output_type": "stream",
     "text": [
      "Optimization terminated successfully.\n         Current function value: 0.002839\n         Iterations 13\n"
     ]
    }
   ],
   "source": [
    "import statsmodels.api as sm\n",
    "\n",
    "ads = ads.astype(int)\n",
    "logit = sm.Logit(ads['click'], ads.drop(['click'], axis=1))\n",
    "result = logit.fit(maxiter=100)"
   ]
  },
  {
   "cell_type": "code",
   "execution_count": 10,
   "metadata": {
    "collapsed": false
   },
   "outputs": [
    {
     "name": "stdout",
     "output_type": "stream",
     "text": [
      "                           Logit Regression Results                           \n==============================================================================\nDep. Variable:                  click   No. Observations:              3439331\nModel:                          Logit   Df Residuals:                  3439265\nMethod:                           MLE   Df Model:                           65\nDate:                Fri, 19 Jan 2018   Pseudo R-squ.:                 0.03985\nTime:                        11:42:07   Log-Likelihood:                -9764.0\nconverged:                       True   LL-Null:                       -10169.\n                                        LLR p-value:                3.247e-129\n===================================================================================================\n                                      coef    std err          z      P>|z|      [0.025      0.975]\n---------------------------------------------------------------------------------------------------\nAdslotwidth                         0.0006      0.000      3.331      0.001       0.000       0.001\nAdslotheight                        0.0008      0.000      1.750      0.080   -9.94e-05       0.002\nAdvertiserID                        0.0010      0.000      7.899      0.000       0.001       0.001\ninterest_news                       0.2374      0.098      2.414      0.016       0.045       0.430\ninterest_education                  0.0058      0.102      0.057      0.954      -0.194       0.206\ninterest_automobile                 0.0809      0.127      0.636      0.524      -0.168       0.330\ninterest_realestate                -0.0621      0.155     -0.401      0.688      -0.366       0.241\ninterest_IT                        -0.0770      0.124     -0.619      0.536      -0.321       0.167\ninterest_electronicgame            -0.3046      0.105     -2.887      0.004      -0.511      -0.098\ninterest_fashion                   -0.0068      0.105     -0.065      0.949      -0.212       0.198\ninterest_entertainment              0.4635      0.095      4.862      0.000       0.277       0.650\ninterest_luxury                    -0.3569      0.262     -1.362      0.173      -0.871       0.157\ninterest_homeandlifestyle           0.0485      0.198      0.245      0.806      -0.339       0.436\ninterest_health                    -0.0214      0.110     -0.195      0.845      -0.237       0.194\ninterest_food                       0.0806      0.129      0.623      0.533      -0.173       0.334\ninterest_divine                     0.1995      0.123      1.617      0.106      -0.042       0.441\ninterest_motherhood_parenting       0.0278      0.152      0.183      0.855      -0.271       0.326\ninterest_sports                     0.1185      0.098      1.207      0.227      -0.074       0.311\ninterest_travel_outdoors           -0.1871      0.159     -1.175      0.240      -0.499       0.125\ninterest_social                    -0.1961      0.119     -1.650      0.099      -0.429       0.037\nInmarket_3cproduct                 -0.0525      0.116     -0.451      0.652      -0.281       0.176\nInmarket_appliances                -0.3007      0.186     -1.616      0.106      -0.665       0.064\nInmarket_clothing_shoes_bags        0.4177      0.153      2.738      0.006       0.119       0.717\nInmarket_Beauty_PersonalCare        0.2644      0.213      1.240      0.215      -0.153       0.682\nInmarket_infant_momproducts         0.1952      0.232      0.841      0.400      -0.260       0.650\nInmarket_sportsitem                -0.1293      0.284     -0.456      0.649      -0.685       0.427\nInmarket_outdoor                   -0.1606      0.355     -0.452      0.651      -0.857       0.536\nInmarket_healthcareproducts         0.1289      0.248      0.520      0.603      -0.357       0.615\nInmarket_luxury                     0.2268      0.299      0.759      0.448      -0.359       0.813\nInmarket_realestate                -0.0729      0.197     -0.370      0.711      -0.459       0.313\nInmarket_automobile                -0.0594      0.160     -0.372      0.710      -0.372       0.253\nInmarket_finance                    0.0263      0.102      0.257      0.797      -0.174       0.227\nInmarket_travel                     0.2099      0.240      0.876      0.381      -0.260       0.679\nInmarket_education                 -0.2222      0.243     -0.914      0.361      -0.699       0.254\nInmarket_service                    0.0322      0.118      0.273      0.785      -0.199       0.263\ninterest_art_photography_design    -0.2504      0.126     -1.990      0.047      -0.497      -0.004\ninterest_onlineliterature          -0.1185      0.100     -1.189      0.234      -0.314       0.077\nInmarket_electronicgame            -0.0926      1.044     -0.089      0.929      -2.138       1.953\ninterest_3c                         0.1991      0.110      1.809      0.070      -0.017       0.415\nInmarket_book                      -0.4684      0.424     -1.104      0.270      -1.300       0.363\nInmarket_medicine                   0.7762      0.378      2.053      0.040       0.035       1.517\nInmarket_food_drink                 0.2144      0.240      0.892      0.372      -0.257       0.685\ninterest_culture                    0.1392      0.157      0.886      0.376      -0.169       0.447\ninterest_sex                       -0.1383      0.227     -0.610      0.542      -0.583       0.306\nDemographic_gender_female          -0.1527      0.105     -1.450      0.147      -0.359       0.054\nInmarket_homeimprovement            0.1323      0.205      0.646      0.518      -0.269       0.533\nPayingprice                        -0.0039      0.000    -10.846      0.000      -0.005      -0.003\nBrowser_chrome                     -0.0972      0.103     -0.945      0.345      -0.299       0.104\nBrowser_firefox                    -0.3573      0.331     -1.081      0.280      -1.005       0.291\nBrowser_ie                          0.0010      0.100      0.010      0.992      -0.194       0.196\nBrowser_opera                       0.4444      0.622      0.715      0.475      -0.774       1.663\nBrowser_safari                      0.2334      0.247      0.943      0.346      -0.252       0.718\nAdExchange_2                       -1.9627   4.29e+06  -4.57e-07      1.000   -8.41e+06    8.41e+06\nAdExchange_3                       -2.1274   4.29e+06  -4.96e-07      1.000   -8.41e+06    8.41e+06\nAdExchange_4                       -0.3317      0.144     -2.306      0.021      -0.614      -0.050\nAdslotvisibility_FifthView         -0.2836      1.007     -0.282      0.778      -2.257       1.690\nAdslotvisibility_FirstView          0.5416      0.157      3.458      0.001       0.235       0.849\nAdslotvisibility_FourthView         0.0456      0.233      0.196      0.845      -0.411       0.502\nAdslotvisibility_OtherView         -0.3255      0.184     -1.768      0.077      -0.686       0.035\nAdslotvisibility_SecondView         0.6557      0.187      3.500      0.000       0.289       1.023\nAdslotvisibility_ThirdView          0.1606      0.225      0.713      0.476      -0.281       0.602\nAdslotformat_Fixed                 -2.5102   4.29e+06  -5.85e-07      1.000   -8.41e+06    8.41e+06\nAdslotformat_Pop                   -0.2500   4.29e+06  -5.82e-08      1.000   -8.41e+06    8.41e+06\nOS_linux                           -0.2481      0.456     -0.544      0.586      -1.142       0.646\nOS_mac os x                        -0.7509      0.440     -1.705      0.088      -1.614       0.112\nOS_windows                         -1.8603      0.387     -4.802      0.000      -2.620      -1.101\nintercept                          -6.8504   4.29e+06   -1.6e-06      1.000   -8.41e+06    8.41e+06\n===================================================================================================\n\nPossibly complete quasi-separation: A fraction 0.12 of observations can be\nperfectly predicted. This might indicate that there is complete\nquasi-separation. In this case some parameters will not be identified.\n"
     ]
    }
   ],
   "source": [
    "print(result.summary())"
   ]
  },
  {
   "cell_type": "code",
   "execution_count": 11,
   "metadata": {},
   "outputs": [
    {
     "data": {
      "text/plain": [
       "{'Hessian': array([[ -1.56074679e+02,  -2.57054916e+01,  -5.33302328e+02, ...,\n          -2.55603010e-03,  -8.42251043e-02,  -1.98990006e-03],\n        [ -2.57054916e+01,  -1.53121969e+01,  -1.58074051e+02, ...,\n          -1.95926244e-03,  -2.31302088e-02,  -1.65825005e-03],\n        [ -5.33302328e+02,  -1.58074051e+02,  -2.34442946e+03, ...,\n          -2.01047377e-02,  -3.70828129e-01,  -1.86133988e-02],\n        ..., \n        [ -2.55603010e-03,  -1.95926244e-03,  -2.01047377e-02, ...,\n          -7.84655333e-06,  -7.84655333e-06,  -0.00000000e+00],\n        [ -8.42251043e-02,  -2.31302088e-02,  -3.70828129e-01, ...,\n          -7.84655333e-06,  -1.35382760e-04,  -0.00000000e+00],\n        [ -1.98990006e-03,  -1.65825005e-03,  -1.86133988e-02, ...,\n          -0.00000000e+00,  -0.00000000e+00,  -6.62485012e-06]]),\n 'converged': False,\n 'fopt': 0.002692530642252864,\n 'iterations': 35,\n 'score': array([ -2.40228815e-11,  -1.00830674e-11,  -1.25454733e-10,\n          5.81040649e-12,  -2.25819028e-18,  -1.04027392e-18,\n         -1.30978827e-18,   4.79120929e-19,  -3.33994748e-19,\n         -7.81168805e-19,  -1.30456001e-18,  -2.30835775e-18,\n         -2.62264291e-19,  -2.63531037e-19,  -8.16935269e-19,\n         -1.98971136e-19,  -3.01094601e-19,  -5.52053003e-19,\n         -8.50785097e-19,  -4.08688552e-19,   2.96735765e-20,\n         -3.61688577e-19,  -1.60726661e-19,  -4.70391151e-19,\n          6.83081878e-20,   1.00888496e-19,   5.10405741e-19,\n         -6.50481899e-19,  -4.48367479e-19,  -1.91122066e-19,\n         -1.60595586e-19,  -2.65116171e-19,  -6.94690141e-19,\n          3.02417585e-19,  -3.56818301e-19,  -2.94911934e-19,\n         -1.89929211e-19,  -5.70578372e-19,   1.04107563e-19,\n         -4.09022009e-19,  -3.50579900e-19,  -8.02714705e-21,\n          1.55672539e-19,  -2.15524827e-19,   1.31342850e-19,\n         -9.69863172e-19,  -8.62809473e-20,  -7.02427302e-20,\n         -1.37887663e-11,  -1.46724695e-14,  -3.43328189e-16,\n         -5.95257498e-17,  -1.92607076e-15,  -5.81720224e-12,\n         -5.84606820e-12,  -2.41349635e-15,  -4.21187050e-15,\n          1.82777776e-16,  -3.64381266e-14,  -3.76952359e-15,\n         -3.29816125e-16,   1.75850887e-17,  -5.81598408e-12,\n         -5.81169010e-12]),\n 'warnflag': 1}"
      ]
     },
     "execution_count": 11,
     "metadata": {},
     "output_type": "execute_result"
    }
   ],
   "source": [
    "result.mle_retvals"
   ]
  },
  {
   "cell_type": "code",
   "execution_count": 5,
   "metadata": {},
   "outputs": [
    {
     "data": {
      "text/plain": [
       "windows     3364445\nmac os x      51760\nlinux         18723\nother          4403\nName: OS, dtype: int64"
      ]
     },
     "execution_count": 5,
     "metadata": {},
     "output_type": "execute_result"
    }
   ],
   "source": [
    ""
   ]
  },
  {
   "cell_type": "code",
   "execution_count": null,
   "metadata": {},
   "outputs": [],
   "source": []
  }
 ],
 "metadata": {
  "kernelspec": {
   "display_name": "Python 3",
   "language": "python",
   "name": "python3"
  },
  "language_info": {
   "codemirror_mode": {
    "name": "ipython",
    "version": 3
   },
   "file_extension": ".py",
   "mimetype": "text/x-python",
   "name": "python",
   "nbconvert_exporter": "python",
   "pygments_lexer": "ipython3",
   "version": "3.6.0"
  }
 },
 "nbformat": 4,
 "nbformat_minor": 0
}
