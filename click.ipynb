{
 "cells": [
  {
   "cell_type": "markdown",
   "metadata": {
    "collapsed": true
   },
   "source": [
    "Ad click prediction\n",
    "===\n",
    "insert intro\n",
    "\n",
    "Cleansing and Inspection\n",
    "---\n",
    "First, let's read the relevant columns into memory."
   ]
  },
  {
   "cell_type": "code",
   "execution_count": 3,
   "metadata": {
    "collapsed": false
   },
   "outputs": [
    {
     "name": "stderr",
     "output_type": "stream",
     "text": [
      "~/anaconda3/lib/python3.6/site-packages/IPython/core/interactiveshell.py:2717: DtypeWarning: Columns (4,14,15) have mixed types. Specify dtype option on import or set low_memory=False.\n  interactivity=interactivity, compiler=compiler, result=result)\n"
     ]
    }
   ],
   "source": [
    "from pandas import read_csv\n",
    "ads = read_csv('data/ads.csv', usecols=['click', 'AdvertiserID', 'AdExchange', 'Adslotwidth',\n",
    "                                           'Adslotheight', 'Adslotvisibility', 'Adslotformat', 'Biddingprice', 'Browser', 'imp', 'interest_news',\n",
    "                                           'interest_eduation', 'interest_automobile', 'interest_realestate',\n",
    "                                           'interest_IT', 'interest_electronicgame', 'interest_fashion',\n",
    "                                           'interest_entertainment', 'interest_luxury', 'interest_homeandlifestyle',\n",
    "                                           'interest_health', 'interest_food', 'interest_divine',\n",
    "                                           'interest_motherhood_parenting', 'interest_sports',\n",
    "                                           'interest_travel_outdoors',\n",
    "                                           'interest_social', 'interest_art_photography_design',\n",
    "                                           'interest_onlineliterature', 'interest_3c', 'interest_culture',\n",
    "                                           'interest_sex',\n",
    "                                           'Inmarket_3cproduct', 'Inmarket_appliances', 'Inmarket_clothing_shoes_bags',\n",
    "                                           'Inmarket_Beauty_PersonalCare', 'Inmarket_infant_momproducts',\n",
    "                                           'Inmarket_sportsitem', 'Inmarket_outdoor', 'Inmarket_healthcareproducts',\n",
    "                                           'Inmarket_luxury', 'Inmarket_realestate', 'Inmarket_automobile',\n",
    "                                           'Inmarket_finance', 'Inmarket_travel', 'Inmarket_education',\n",
    "                                           'Inmarket_service', 'Inmarket_electronicgame', 'Inmarket_book',\n",
    "                                           'Inmarket_medicine', 'Inmarket_food_drink', 'Inmarket_homeimprovement',\n",
    "                                           'Demographic_gender_male', 'Demographic_gender_famale', 'Payingprice'])\n",
    "if 'Unnamed: 0' in ads:\n",
    "    ads.drop('Unnamed: 0', axis=1, inplace=True)"
   ]
  },
  {
   "cell_type": "markdown",
   "metadata": {},
   "source": [
    "Let's inspect the columns of the dataset."
   ]
  },
  {
   "cell_type": "code",
   "execution_count": 5,
   "metadata": {
    "collapsed": false
   },
   "outputs": [
    {
     "name": "stdout",
     "output_type": "stream",
     "text": [
      "<class 'pandas.core.frame.DataFrame'>\nRangeIndex: 4621497 entries, 0 to 4621496\nData columns (total 55 columns):\nBrowser                            object\nAdExchange                         float64\nAdslotwidth                        float64\nAdslotheight                       float64\nAdslotvisibility                   object\nAdslotformat                       object\nBiddingprice                       float64\nAdvertiserID                       float64\nimp                                float64\nclick                              float64\ninterest_news                      float64\ninterest_eduation                  float64\ninterest_automobile                float64\ninterest_realestate                float64\ninterest_IT                        float64\ninterest_electronicgame            float64\ninterest_fashion                   float64\ninterest_entertainment             float64\ninterest_luxury                    float64\ninterest_homeandlifestyle          float64\ninterest_health                    float64\ninterest_food                      float64\ninterest_divine                    float64\ninterest_motherhood_parenting      float64\ninterest_sports                    float64\ninterest_travel_outdoors           float64\ninterest_social                    float64\nInmarket_3cproduct                 float64\nInmarket_appliances                float64\nInmarket_clothing_shoes_bags       float64\nInmarket_Beauty_PersonalCare       float64\nInmarket_infant_momproducts        float64\nInmarket_sportsitem                float64\nInmarket_outdoor                   float64\nInmarket_healthcareproducts        float64\nInmarket_luxury                    float64\nInmarket_realestate                float64\nInmarket_automobile                float64\nInmarket_finance                   float64\nInmarket_travel                    float64\nInmarket_education                 float64\nInmarket_service                   float64\ninterest_art_photography_design    float64\ninterest_onlineliterature          float64\nInmarket_electronicgame            float64\ninterest_3c                        float64\nInmarket_book                      float64\nInmarket_medicine                  float64\nInmarket_food_drink                float64\ninterest_culture                   float64\ninterest_sex                       float64\nDemographic_gender_male            float64\nDemographic_gender_famale          float64\nInmarket_homeimprovement           float64\nPayingprice                        float64\ndtypes: float64(52), object(3)\nmemory usage: 1.9+ GB\n"
     ]
    }
   ],
   "source": [
    "ads.info()"
   ]
  },
  {
   "cell_type": "markdown",
   "metadata": {
    "collapsed": true
   },
   "source": [
    "We see that we have ~ 4 million observations and 55 variables. The most important variable is the `click` variable, which indicates whether the ad was clicked on by the user. Let's see how many missing values we have."
   ]
  },
  {
   "cell_type": "code",
   "execution_count": 6,
   "metadata": {},
   "outputs": [
    {
     "data": {
      "text/plain": [
       "1182166"
      ]
     },
     "execution_count": 6,
     "metadata": {},
     "output_type": "execute_result"
    }
   ],
   "source": [
    "ads['click'].isnull().sum()"
   ]
  },
  {
   "cell_type": "markdown",
   "metadata": {},
   "source": [
    "Around 1 million bids do not contain a value for the `click` variable. However, this variable is critical, because we will regress it later on. Therefore, we need to remove these observations."
   ]
  },
  {
   "cell_type": "code",
   "execution_count": 8,
   "metadata": {},
   "outputs": [],
   "source": [
    "ads.dropna(subset=['click'], inplace=True)"
   ]
  },
  {
   "cell_type": "markdown",
   "metadata": {},
   "source": [
    "Additionaly, let's move the `click` variable to the front."
   ]
  },
  {
   "cell_type": "code",
   "execution_count": 10,
   "metadata": {},
   "outputs": [],
   "source": [
    "cols = ['click'] + [col for col in ads if col != 'click']\n",
    "ads = ads[cols]"
   ]
  },
  {
   "cell_type": "markdown",
   "metadata": {},
   "source": [
    "Let's fix some typos."
   ]
  },
  {
   "cell_type": "code",
   "execution_count": 11,
   "metadata": {},
   "outputs": [],
   "source": [
    "ads.rename(\n",
    "    columns={'interest_eduation': 'interest_education', 'Demographic_gender_famale': 'Demographic_gender_female'},\n",
    "    inplace=True)"
   ]
  },
  {
   "cell_type": "markdown",
   "metadata": {},
   "source": [
    "We see that most variables are detected as floating point numbers. However, most of them are actually boolean variables! We need to account for that and convert them. First, let's look at the average missing values per variable."
   ]
  },
  {
   "cell_type": "code",
   "execution_count": 12,
   "metadata": {},
   "outputs": [
    {
     "name": "stdout",
     "output_type": "stream",
     "text": [
      "Missing values in `imp` 0\n"
     ]
    },
    {
     "data": {
      "text/plain": [
       "1409622.2608695652"
      ]
     },
     "execution_count": 12,
     "metadata": {},
     "output_type": "execute_result"
    }
   ],
   "source": [
    "boolean_cols = ['imp', 'click', 'interest_news',\n",
    "                'interest_education', 'interest_automobile', 'interest_realestate',\n",
    "                'interest_IT', 'interest_electronicgame', 'interest_fashion',\n",
    "                'interest_entertainment', 'interest_luxury', 'interest_homeandlifestyle',\n",
    "                'interest_health', 'interest_food', 'interest_divine',\n",
    "                'interest_motherhood_parenting', 'interest_sports', 'interest_travel_outdoors',\n",
    "                'interest_social', 'interest_art_photography_design',\n",
    "                'interest_onlineliterature', 'interest_3c', 'interest_culture', 'interest_sex',\n",
    "                'Inmarket_3cproduct', 'Inmarket_appliances', 'Inmarket_clothing_shoes_bags',\n",
    "                'Inmarket_Beauty_PersonalCare', 'Inmarket_infant_momproducts',\n",
    "                'Inmarket_sportsitem', 'Inmarket_outdoor', 'Inmarket_healthcareproducts',\n",
    "                'Inmarket_luxury', 'Inmarket_realestate', 'Inmarket_automobile',\n",
    "                'Inmarket_finance', 'Inmarket_travel', 'Inmarket_education',\n",
    "                'Inmarket_service', 'Inmarket_electronicgame', 'Inmarket_book',\n",
    "                'Inmarket_medicine', 'Inmarket_food_drink', 'Inmarket_homeimprovement',\n",
    "                'Demographic_gender_male', 'Demographic_gender_female']\n",
    "missings = 0\n",
    "for col in boolean_cols:\n",
    "    missings_col = ads[col].isnull().sum()\n",
    "    if col == 'imp':\n",
    "        print('Missing values in `imp`', missings_col)\n",
    "    missings += ads[col].isnull().sum()\n",
    "missings / len(boolean_cols)\n",
    "\n"
   ]
  },
  {
   "cell_type": "markdown",
   "metadata": {},
   "source": [
    "These are quite a lot, and we cannot afford to loose them. As the variables are simply dummy variables of a categorical variable, we decide to simply use the default bool conversion strategy in this case, ie convert all missing values to `False`. Intuitively, if we don't know whether a user is interested in food, we simply assume that the user isn't interested in it. This way, we won't skew the analysis significantly. Further note, that the `imp` variable has no missing values. "
   ]
  },
  {
   "cell_type": "code",
   "execution_count": 14,
   "metadata": {},
   "outputs": [],
   "source": [
    "ads[boolean_cols] = ads[boolean_cols].fillna(0)\n",
    "ads[boolean_cols] = ads[boolean_cols].astype(bool)"
   ]
  },
  {
   "cell_type": "markdown",
   "metadata": {},
   "source": [
    "How many bids did not win impressions?"
   ]
  },
  {
   "cell_type": "code",
   "execution_count": 15,
   "metadata": {},
   "outputs": [
    {
     "data": {
      "text/plain": [
       "1473696"
      ]
     },
     "execution_count": 15,
     "metadata": {},
     "output_type": "execute_result"
    }
   ],
   "source": [
    "(ads['imp'] == False).sum()"
   ]
  },
  {
   "cell_type": "markdown",
   "metadata": {},
   "source": [
    "Obviously, if the advertiser didn't win the impression, the user won't be able to click. Therefore, we use only the won impressions and remove the column. As an aside, it would be an interesting analysis to regress `imp` itself, ie whether an advertiser will win a bid. However, we figure that the provided variables are not conclusive enough to classify `imp` correctly."
   ]
  },
  {
   "cell_type": "code",
   "execution_count": 17,
   "metadata": {
    "collapsed": false
   },
   "outputs": [
    {
     "ename": "KeyError",
     "evalue": "'imp'",
     "traceback": [
      "\u001b[0;31m---------------------------------------------------------------------------\u001b[0m",
      "\u001b[0;31mKeyError\u001b[0m                                  Traceback (most recent call last)",
      "\u001b[0;32m~/anaconda3/lib/python3.6/site-packages/pandas/indexes/base.py\u001b[0m in \u001b[0;36mget_loc\u001b[0;34m(self, key, method, tolerance)\u001b[0m\n\u001b[1;32m   2133\u001b[0m             \u001b[0;32mtry\u001b[0m\u001b[0;34m:\u001b[0m\u001b[0;34m\u001b[0m\u001b[0m\n\u001b[0;32m-> 2134\u001b[0;31m                 \u001b[0;32mreturn\u001b[0m \u001b[0mself\u001b[0m\u001b[0;34m.\u001b[0m\u001b[0m_engine\u001b[0m\u001b[0;34m.\u001b[0m\u001b[0mget_loc\u001b[0m\u001b[0;34m(\u001b[0m\u001b[0mkey\u001b[0m\u001b[0;34m)\u001b[0m\u001b[0;34m\u001b[0m\u001b[0m\n\u001b[0m\u001b[1;32m   2135\u001b[0m             \u001b[0;32mexcept\u001b[0m \u001b[0mKeyError\u001b[0m\u001b[0;34m:\u001b[0m\u001b[0;34m\u001b[0m\u001b[0m\n",
      "\u001b[0;32mpandas/index.pyx\u001b[0m in \u001b[0;36mpandas.index.IndexEngine.get_loc (pandas/index.c:4433)\u001b[0;34m()\u001b[0m\n",
      "\u001b[0;32mpandas/index.pyx\u001b[0m in \u001b[0;36mpandas.index.IndexEngine.get_loc (pandas/index.c:4279)\u001b[0;34m()\u001b[0m\n",
      "\u001b[0;32mpandas/src/hashtable_class_helper.pxi\u001b[0m in \u001b[0;36mpandas.hashtable.PyObjectHashTable.get_item (pandas/hashtable.c:13742)\u001b[0;34m()\u001b[0m\n",
      "\u001b[0;32mpandas/src/hashtable_class_helper.pxi\u001b[0m in \u001b[0;36mpandas.hashtable.PyObjectHashTable.get_item (pandas/hashtable.c:13696)\u001b[0;34m()\u001b[0m\n",
      "\u001b[0;31mKeyError\u001b[0m: 'imp'",
      "\nDuring handling of the above exception, another exception occurred:\n",
      "\u001b[0;31mKeyError\u001b[0m                                  Traceback (most recent call last)",
      "\u001b[0;32m<ipython-input-17-dff4dd57e0ab>\u001b[0m in \u001b[0;36m<module>\u001b[0;34m()\u001b[0m\n\u001b[0;32m----> 1\u001b[0;31m \u001b[0mprint\u001b[0m\u001b[0;34m(\u001b[0m\u001b[0;34m'Lost impressions, but clicked'\u001b[0m\u001b[0;34m,\u001b[0m \u001b[0;34m(\u001b[0m\u001b[0;34m(\u001b[0m\u001b[0mads\u001b[0m\u001b[0;34m[\u001b[0m\u001b[0;34m'imp'\u001b[0m\u001b[0;34m]\u001b[0m \u001b[0;34m==\u001b[0m \u001b[0;36m0\u001b[0m\u001b[0;34m)\u001b[0m \u001b[0;34m&\u001b[0m \u001b[0;34m(\u001b[0m\u001b[0mads\u001b[0m\u001b[0;34m[\u001b[0m\u001b[0;34m'click'\u001b[0m\u001b[0;34m]\u001b[0m \u001b[0;34m==\u001b[0m \u001b[0;36m1\u001b[0m\u001b[0;34m)\u001b[0m\u001b[0;34m)\u001b[0m\u001b[0;34m.\u001b[0m\u001b[0msum\u001b[0m\u001b[0;34m(\u001b[0m\u001b[0;34m)\u001b[0m\u001b[0;34m)\u001b[0m\u001b[0;34m\u001b[0m\u001b[0m\n\u001b[0m\u001b[1;32m      2\u001b[0m \u001b[0mads\u001b[0m\u001b[0;34m[\u001b[0m\u001b[0mads\u001b[0m\u001b[0;34m[\u001b[0m\u001b[0;34m'imp'\u001b[0m\u001b[0;34m]\u001b[0m \u001b[0;34m==\u001b[0m \u001b[0;32mTrue\u001b[0m\u001b[0;34m]\u001b[0m\u001b[0;34m\u001b[0m\u001b[0m\n\u001b[1;32m      3\u001b[0m \u001b[0mads\u001b[0m\u001b[0;34m.\u001b[0m\u001b[0mdrop\u001b[0m\u001b[0;34m(\u001b[0m\u001b[0;34m[\u001b[0m\u001b[0;34m'imp'\u001b[0m\u001b[0;34m]\u001b[0m\u001b[0;34m,\u001b[0m \u001b[0maxis\u001b[0m\u001b[0;34m=\u001b[0m\u001b[0;36m1\u001b[0m\u001b[0;34m,\u001b[0m \u001b[0minplace\u001b[0m\u001b[0;34m=\u001b[0m\u001b[0;32mTrue\u001b[0m\u001b[0;34m)\u001b[0m\u001b[0;34m\u001b[0m\u001b[0m\n",
      "\u001b[0;32m~/anaconda3/lib/python3.6/site-packages/pandas/core/frame.py\u001b[0m in \u001b[0;36m__getitem__\u001b[0;34m(self, key)\u001b[0m\n\u001b[1;32m   2057\u001b[0m             \u001b[0;32mreturn\u001b[0m \u001b[0mself\u001b[0m\u001b[0;34m.\u001b[0m\u001b[0m_getitem_multilevel\u001b[0m\u001b[0;34m(\u001b[0m\u001b[0mkey\u001b[0m\u001b[0;34m)\u001b[0m\u001b[0;34m\u001b[0m\u001b[0m\n\u001b[1;32m   2058\u001b[0m         \u001b[0;32melse\u001b[0m\u001b[0;34m:\u001b[0m\u001b[0;34m\u001b[0m\u001b[0m\n\u001b[0;32m-> 2059\u001b[0;31m             \u001b[0;32mreturn\u001b[0m \u001b[0mself\u001b[0m\u001b[0;34m.\u001b[0m\u001b[0m_getitem_column\u001b[0m\u001b[0;34m(\u001b[0m\u001b[0mkey\u001b[0m\u001b[0;34m)\u001b[0m\u001b[0;34m\u001b[0m\u001b[0m\n\u001b[0m\u001b[1;32m   2060\u001b[0m \u001b[0;34m\u001b[0m\u001b[0m\n\u001b[1;32m   2061\u001b[0m     \u001b[0;32mdef\u001b[0m \u001b[0m_getitem_column\u001b[0m\u001b[0;34m(\u001b[0m\u001b[0mself\u001b[0m\u001b[0;34m,\u001b[0m \u001b[0mkey\u001b[0m\u001b[0;34m)\u001b[0m\u001b[0;34m:\u001b[0m\u001b[0;34m\u001b[0m\u001b[0m\n",
      "\u001b[0;32m~/anaconda3/lib/python3.6/site-packages/pandas/core/frame.py\u001b[0m in \u001b[0;36m_getitem_column\u001b[0;34m(self, key)\u001b[0m\n\u001b[1;32m   2064\u001b[0m         \u001b[0;31m# get column\u001b[0m\u001b[0;34m\u001b[0m\u001b[0;34m\u001b[0m\u001b[0m\n\u001b[1;32m   2065\u001b[0m         \u001b[0;32mif\u001b[0m \u001b[0mself\u001b[0m\u001b[0;34m.\u001b[0m\u001b[0mcolumns\u001b[0m\u001b[0;34m.\u001b[0m\u001b[0mis_unique\u001b[0m\u001b[0;34m:\u001b[0m\u001b[0;34m\u001b[0m\u001b[0m\n\u001b[0;32m-> 2066\u001b[0;31m             \u001b[0;32mreturn\u001b[0m \u001b[0mself\u001b[0m\u001b[0;34m.\u001b[0m\u001b[0m_get_item_cache\u001b[0m\u001b[0;34m(\u001b[0m\u001b[0mkey\u001b[0m\u001b[0;34m)\u001b[0m\u001b[0;34m\u001b[0m\u001b[0m\n\u001b[0m\u001b[1;32m   2067\u001b[0m \u001b[0;34m\u001b[0m\u001b[0m\n\u001b[1;32m   2068\u001b[0m         \u001b[0;31m# duplicate columns & possible reduce dimensionality\u001b[0m\u001b[0;34m\u001b[0m\u001b[0;34m\u001b[0m\u001b[0m\n",
      "\u001b[0;32m~/anaconda3/lib/python3.6/site-packages/pandas/core/generic.py\u001b[0m in \u001b[0;36m_get_item_cache\u001b[0;34m(self, item)\u001b[0m\n\u001b[1;32m   1384\u001b[0m         \u001b[0mres\u001b[0m \u001b[0;34m=\u001b[0m \u001b[0mcache\u001b[0m\u001b[0;34m.\u001b[0m\u001b[0mget\u001b[0m\u001b[0;34m(\u001b[0m\u001b[0mitem\u001b[0m\u001b[0;34m)\u001b[0m\u001b[0;34m\u001b[0m\u001b[0m\n\u001b[1;32m   1385\u001b[0m         \u001b[0;32mif\u001b[0m \u001b[0mres\u001b[0m \u001b[0;32mis\u001b[0m \u001b[0;32mNone\u001b[0m\u001b[0;34m:\u001b[0m\u001b[0;34m\u001b[0m\u001b[0m\n\u001b[0;32m-> 1386\u001b[0;31m             \u001b[0mvalues\u001b[0m \u001b[0;34m=\u001b[0m \u001b[0mself\u001b[0m\u001b[0;34m.\u001b[0m\u001b[0m_data\u001b[0m\u001b[0;34m.\u001b[0m\u001b[0mget\u001b[0m\u001b[0;34m(\u001b[0m\u001b[0mitem\u001b[0m\u001b[0;34m)\u001b[0m\u001b[0;34m\u001b[0m\u001b[0m\n\u001b[0m\u001b[1;32m   1387\u001b[0m             \u001b[0mres\u001b[0m \u001b[0;34m=\u001b[0m \u001b[0mself\u001b[0m\u001b[0;34m.\u001b[0m\u001b[0m_box_item_values\u001b[0m\u001b[0;34m(\u001b[0m\u001b[0mitem\u001b[0m\u001b[0;34m,\u001b[0m \u001b[0mvalues\u001b[0m\u001b[0;34m)\u001b[0m\u001b[0;34m\u001b[0m\u001b[0m\n\u001b[1;32m   1388\u001b[0m             \u001b[0mcache\u001b[0m\u001b[0;34m[\u001b[0m\u001b[0mitem\u001b[0m\u001b[0;34m]\u001b[0m \u001b[0;34m=\u001b[0m \u001b[0mres\u001b[0m\u001b[0;34m\u001b[0m\u001b[0m\n",
      "\u001b[0;32m~/anaconda3/lib/python3.6/site-packages/pandas/core/internals.py\u001b[0m in \u001b[0;36mget\u001b[0;34m(self, item, fastpath)\u001b[0m\n\u001b[1;32m   3541\u001b[0m \u001b[0;34m\u001b[0m\u001b[0m\n\u001b[1;32m   3542\u001b[0m             \u001b[0;32mif\u001b[0m \u001b[0;32mnot\u001b[0m \u001b[0misnull\u001b[0m\u001b[0;34m(\u001b[0m\u001b[0mitem\u001b[0m\u001b[0;34m)\u001b[0m\u001b[0;34m:\u001b[0m\u001b[0;34m\u001b[0m\u001b[0m\n\u001b[0;32m-> 3543\u001b[0;31m                 \u001b[0mloc\u001b[0m \u001b[0;34m=\u001b[0m \u001b[0mself\u001b[0m\u001b[0;34m.\u001b[0m\u001b[0mitems\u001b[0m\u001b[0;34m.\u001b[0m\u001b[0mget_loc\u001b[0m\u001b[0;34m(\u001b[0m\u001b[0mitem\u001b[0m\u001b[0;34m)\u001b[0m\u001b[0;34m\u001b[0m\u001b[0m\n\u001b[0m\u001b[1;32m   3544\u001b[0m             \u001b[0;32melse\u001b[0m\u001b[0;34m:\u001b[0m\u001b[0;34m\u001b[0m\u001b[0m\n\u001b[1;32m   3545\u001b[0m                 \u001b[0mindexer\u001b[0m \u001b[0;34m=\u001b[0m \u001b[0mnp\u001b[0m\u001b[0;34m.\u001b[0m\u001b[0marange\u001b[0m\u001b[0;34m(\u001b[0m\u001b[0mlen\u001b[0m\u001b[0;34m(\u001b[0m\u001b[0mself\u001b[0m\u001b[0;34m.\u001b[0m\u001b[0mitems\u001b[0m\u001b[0;34m)\u001b[0m\u001b[0;34m)\u001b[0m\u001b[0;34m[\u001b[0m\u001b[0misnull\u001b[0m\u001b[0;34m(\u001b[0m\u001b[0mself\u001b[0m\u001b[0;34m.\u001b[0m\u001b[0mitems\u001b[0m\u001b[0;34m)\u001b[0m\u001b[0;34m]\u001b[0m\u001b[0;34m\u001b[0m\u001b[0m\n",
      "\u001b[0;32m~/anaconda3/lib/python3.6/site-packages/pandas/indexes/base.py\u001b[0m in \u001b[0;36mget_loc\u001b[0;34m(self, key, method, tolerance)\u001b[0m\n\u001b[1;32m   2134\u001b[0m                 \u001b[0;32mreturn\u001b[0m \u001b[0mself\u001b[0m\u001b[0;34m.\u001b[0m\u001b[0m_engine\u001b[0m\u001b[0;34m.\u001b[0m\u001b[0mget_loc\u001b[0m\u001b[0;34m(\u001b[0m\u001b[0mkey\u001b[0m\u001b[0;34m)\u001b[0m\u001b[0;34m\u001b[0m\u001b[0m\n\u001b[1;32m   2135\u001b[0m             \u001b[0;32mexcept\u001b[0m \u001b[0mKeyError\u001b[0m\u001b[0;34m:\u001b[0m\u001b[0;34m\u001b[0m\u001b[0m\n\u001b[0;32m-> 2136\u001b[0;31m                 \u001b[0;32mreturn\u001b[0m \u001b[0mself\u001b[0m\u001b[0;34m.\u001b[0m\u001b[0m_engine\u001b[0m\u001b[0;34m.\u001b[0m\u001b[0mget_loc\u001b[0m\u001b[0;34m(\u001b[0m\u001b[0mself\u001b[0m\u001b[0;34m.\u001b[0m\u001b[0m_maybe_cast_indexer\u001b[0m\u001b[0;34m(\u001b[0m\u001b[0mkey\u001b[0m\u001b[0;34m)\u001b[0m\u001b[0;34m)\u001b[0m\u001b[0;34m\u001b[0m\u001b[0m\n\u001b[0m\u001b[1;32m   2137\u001b[0m \u001b[0;34m\u001b[0m\u001b[0m\n\u001b[1;32m   2138\u001b[0m         \u001b[0mindexer\u001b[0m \u001b[0;34m=\u001b[0m \u001b[0mself\u001b[0m\u001b[0;34m.\u001b[0m\u001b[0mget_indexer\u001b[0m\u001b[0;34m(\u001b[0m\u001b[0;34m[\u001b[0m\u001b[0mkey\u001b[0m\u001b[0;34m]\u001b[0m\u001b[0;34m,\u001b[0m \u001b[0mmethod\u001b[0m\u001b[0;34m=\u001b[0m\u001b[0mmethod\u001b[0m\u001b[0;34m,\u001b[0m \u001b[0mtolerance\u001b[0m\u001b[0;34m=\u001b[0m\u001b[0mtolerance\u001b[0m\u001b[0;34m)\u001b[0m\u001b[0;34m\u001b[0m\u001b[0m\n",
      "\u001b[0;32mpandas/index.pyx\u001b[0m in \u001b[0;36mpandas.index.IndexEngine.get_loc (pandas/index.c:4433)\u001b[0;34m()\u001b[0m\n",
      "\u001b[0;32mpandas/index.pyx\u001b[0m in \u001b[0;36mpandas.index.IndexEngine.get_loc (pandas/index.c:4279)\u001b[0;34m()\u001b[0m\n",
      "\u001b[0;32mpandas/src/hashtable_class_helper.pxi\u001b[0m in \u001b[0;36mpandas.hashtable.PyObjectHashTable.get_item (pandas/hashtable.c:13742)\u001b[0;34m()\u001b[0m\n",
      "\u001b[0;32mpandas/src/hashtable_class_helper.pxi\u001b[0m in \u001b[0;36mpandas.hashtable.PyObjectHashTable.get_item (pandas/hashtable.c:13696)\u001b[0;34m()\u001b[0m\n",
      "\u001b[0;31mKeyError\u001b[0m: 'imp'"
     ],
     "output_type": "error"
    }
   ],
   "source": [
    "print('Lost impressions, but clicked', ((ads['imp'] == 0) & (ads['click'] == 1)).sum())\n",
    "ads[ads['imp'] == True]\n",
    "ads.drop(['imp'], axis=1, inplace=True)"
   ]
  },
  {
   "cell_type": "markdown",
   "metadata": {},
   "source": [
    "Let's now look at the `Browser` variable."
   ]
  },
  {
   "cell_type": "code",
   "execution_count": 19,
   "metadata": {},
   "outputs": [
    {
     "data": {
      "text/plain": [
       "count                                               3438136\nunique                                               190186\ntop       Mozilla/5.0 (Windows NT 5.1) AppleWebKit/537.1...\nfreq                                                 384532\nName: Browser, dtype: object"
      ]
     },
     "execution_count": 19,
     "metadata": {},
     "output_type": "execute_result"
    }
   ],
   "source": [
    "ads['Browser'].describe()"
   ]
  },
  {
   "cell_type": "markdown",
   "metadata": {},
   "source": [
    "We see that the `Browser` variable captures the user agent. As such, it has too many unique values. We will aggregate these user agents into a categorical variable. There are two interesting informations in the user agent: the browser and the operating system. Let's create a column for both of them. Note that we do not concern ourselves with specific browser versions or smaller browser families for two reasons: First, the difference between specific category levels would be two small (consider `Firefox` and `Firefox Nightly`). Second, we would need to deploy libraries like `ua_parser`, which deploy either regular expressions or large lookup tables. We tried to do that and experienced that it took way too long and resulted in 70 unique values (way too large)."
   ]
  },
  {
   "cell_type": "code",
   "execution_count": 20,
   "metadata": {},
   "outputs": [],
   "source": [
    "ads['Browser'] = ads['Browser'].astype(str)\n",
    "def map_browser(agent):\n",
    "    browsers = ['edge', 'trident', 'chrome', 'firefox', 'safari', 'opera']\n",
    "    for browser in browsers:\n",
    "        if browser in agent.lower():\n",
    "            return 'ie' if browser == 'trident' else browser\n",
    "    return 'other'\n",
    "\n",
    "\n",
    "def map_os(agent):\n",
    "    os_list = ['windows', 'linux', 'mac os x']\n",
    "    for os in os_list:\n",
    "        if os in agent.lower():\n",
    "            return os\n",
    "    return 'other'\n",
    "\n",
    "\n",
    "ads['OS'] = ads['Browser'].map(lambda x: map_os(x), na_action=None)\n",
    "ads['OS'] = ads['OS'].astype('category')\n",
    "ads['Browser'] = ads['Browser'].map(lambda x: map_browser(x), na_action=None)\n",
    "ads['Browser'] = ads['Browser'].astype('category')"
   ]
  },
  {
   "cell_type": "markdown",
   "metadata": {},
   "source": [
    "Let's look at our new variables:"
   ]
  },
  {
   "cell_type": "code",
   "execution_count": 21,
   "metadata": {},
   "outputs": [
    {
     "data": {
      "text/plain": [
       "windows     3364445\nmac os x      51760\nlinux         18723\nother          4403\nName: OS, dtype: int64"
      ]
     },
     "execution_count": 21,
     "metadata": {},
     "output_type": "execute_result"
    }
   ],
   "source": [
    "ads['OS'].value_counts()"
   ]
  },
  {
   "cell_type": "code",
   "execution_count": 22,
   "metadata": {},
   "outputs": [
    {
     "data": {
      "text/plain": [
       "ie         1634893\nchrome     1298420\nother       409648\nsafari       58954\nfirefox      34909\nopera         2507\nName: Browser, dtype: int64"
      ]
     },
     "execution_count": 22,
     "metadata": {},
     "output_type": "execute_result"
    }
   ],
   "source": [
    "ads['Browser'].value_counts()"
   ]
  },
  {
   "cell_type": "markdown",
   "metadata": {},
   "source": [
    "Perhaps not surprisingly, most users accessed the website using Internet Explorer on a Windows operating system. The large size of `Browser == other` might seem unsettling. These are just different flavors of Chinese browsers which are obviously very specific to the Chinese market and do not generalize well.\n",
    "\n",
    "The next information is the price which the advertiser paid for an ad. There are two columns which indicate this information. `Biddingprice` shows the bidding price of the advertiser, which was always 294 or 277 in the iPinYou competition. `Payingprice` shows the actual paid price."
   ]
  },
  {
   "cell_type": "code",
   "execution_count": 23,
   "metadata": {},
   "outputs": [
    {
     "name": "stdout",
     "output_type": "stream",
     "text": [
      "Both missing: 0 Payingprice missing: 1473696 Biddingprice missing: 0\n"
     ]
    },
    {
     "data": {
      "text/plain": [
       "array([ 294.,  277.])"
      ]
     },
     "execution_count": 23,
     "metadata": {},
     "output_type": "execute_result"
    }
   ],
   "source": [
    "both_na = ((ads['Payingprice'].isnull()) & (ads['Biddingprice'].isnull())).sum()\n",
    "pay_na = ((ads['Payingprice'].isnull()) & ~(ads['Biddingprice'].isnull())).sum()\n",
    "bid_na = (~(ads['Payingprice'].isnull()) & (ads['Biddingprice'].isnull())).sum()\n",
    "print('Both missing:', both_na, 'Payingprice missing:', pay_na, 'Biddingprice missing:', bid_na)\n",
    "ads['Biddingprice'].unique()"
   ]
  },
  {
   "cell_type": "markdown",
   "metadata": {},
   "source": [
    "We see that the paying price is sometimes not indicated. In these cases, `Payingprice == Biddinprice`. Thus, let's combine these columns into one."
   ]
  },
  {
   "cell_type": "code",
   "execution_count": 24,
   "metadata": {},
   "outputs": [],
   "source": [
    "ads.loc[ads['Payingprice'].isnull(), 'Payingprice'] = ads.loc[ads['Payingprice'].isnull(), 'Biddingprice']\n",
    "ads['Payingprice'] = ads['Payingprice'].astype(int)\n",
    "ads.drop('Biddingprice', axis=1, inplace=True)"
   ]
  },
  {
   "cell_type": "markdown",
   "metadata": {},
   "source": [
    "Next up is the `AdExchange` variable. It indicates the ad exchange used for the bidding. It may not be too useful for classification, but as it is a small categorical variable, we'll include it anyway."
   ]
  },
  {
   "cell_type": "code",
   "execution_count": 25,
   "metadata": {},
   "outputs": [
    {
     "data": {
      "text/plain": [
       "3    1422626\n2     852752\n1     673951\n4     490002\nName: AdExchange, dtype: int64"
      ]
     },
     "execution_count": 25,
     "metadata": {},
     "output_type": "execute_result"
    }
   ],
   "source": [
    "ads['AdExchange'] = ads['AdExchange'].astype('int').astype('category')\n",
    "ads['AdExchange'].value_counts()"
   ]
  },
  {
   "cell_type": "markdown",
   "metadata": {},
   "source": [
    "Next we look into the `Adslotvisibility` variable. It indicates the visual importance of the ad presentation."
   ]
  },
  {
   "cell_type": "code",
   "execution_count": 26,
   "metadata": {},
   "outputs": [
    {
     "data": {
      "text/plain": [
       "Na            1710843\nOtherView      715442\nFirstView      597871\nSecondView     174225\nFourthView     123492\nThirdView      111905\nFifthView        5553\nName: Adslotvisibility, dtype: int64"
      ]
     },
     "execution_count": 26,
     "metadata": {},
     "output_type": "execute_result"
    }
   ],
   "source": [
    "ads['Adslotvisibility'].value_counts()"
   ]
  },
  {
   "cell_type": "markdown",
   "metadata": {},
   "source": [
    "We see that the strings indicate six categories (FirstView--FithView, OtherView). Unfortunately, there are a lot of missing values. Nevertheless, we convert it into a categorical variable and indicate an additional level for missing values."
   ]
  },
  {
   "cell_type": "code",
   "execution_count": 28,
   "metadata": {},
   "outputs": [
    {
     "data": {
      "text/plain": [
       "Na            1710843\nOtherView      715442\nFirstView      597871\nSecondView     174225\nFourthView     123492\nThirdView      111905\nFifthView        5553\nName: Adslotvisibility, dtype: int64"
      ]
     },
     "execution_count": 28,
     "metadata": {},
     "output_type": "execute_result"
    }
   ],
   "source": [
    "ads['Adslotvisibility'] = ads['Adslotvisibility'].astype('category')\n",
    "ads['Adslotvisibility'].value_counts()"
   ]
  },
  {
   "cell_type": "markdown",
   "metadata": {},
   "source": [
    "We do the same with `Adslotformat`, which is very similar to `Adslotvisibility`."
   ]
  },
  {
   "cell_type": "code",
   "execution_count": 30,
   "metadata": {},
   "outputs": [
    {
     "data": {
      "text/plain": [
       "Na            1710843\nOtherView      715442\nFirstView      597871\nSecondView     174225\nFourthView     123492\nThirdView      111905\nFifthView        5553\nName: Adslotvisibility, dtype: int64"
      ]
     },
     "execution_count": 30,
     "metadata": {},
     "output_type": "execute_result"
    }
   ],
   "source": [
    "ads['Adslotformat'] = ads['Adslotformat'].astype('category')\n",
    "ads['Adslotvisibility'].value_counts()"
   ]
  },
  {
   "cell_type": "markdown",
   "metadata": {},
   "source": [
    "`Adslotwidth`, `Adslotheight` and `AdvertiserID` contain obvious information. Luckily, they don't contain any missing values. We'll just convert them to integers."
   ]
  },
  {
   "cell_type": "code",
   "execution_count": 31,
   "metadata": {},
   "outputs": [
    {
     "name": "stdout",
     "output_type": "stream",
     "text": [
      "Missing values: 0\n"
     ]
    }
   ],
   "source": [
    "print('Missing values:', ads['AdvertiserID'].isnull().sum() + ads['Adslotwidth'].isnull().sum() + ads['Adslotheight'].isnull().sum())\n",
    "int_cols = ['AdvertiserID', 'Adslotwidth', 'Adslotheight']\n",
    "ads[int_cols] = ads[int_cols].astype(int)"
   ]
  },
  {
   "cell_type": "markdown",
   "metadata": {},
   "source": [
    "Next, we consider the gender variables. Using two variables `male` and `female` is highly discouraged, as there is sure to be multicolinearity. Therefore, we simply delete the `Demographic_gender_male` column. We have the additional benefit of saving memory."
   ]
  },
  {
   "cell_type": "code",
   "execution_count": 32,
   "metadata": {},
   "outputs": [],
   "source": [
    "ads.drop(['Demographic_gender_male'], axis=1, inplace=True)"
   ]
  },
  {
   "cell_type": "markdown",
   "metadata": {},
   "source": [
    "That concludes the basic data cleaning part. We see that we've dealt with all missing values and now enjoy the benefit of correct datatypes."
   ]
  },
  {
   "cell_type": "code",
   "execution_count": 33,
   "metadata": {
    "collapsed": false
   },
   "outputs": [
    {
     "data": {
      "text/plain": [
       "click                              0\nBrowser                            0\nAdExchange                         0\nAdslotwidth                        0\nAdslotheight                       0\nAdslotvisibility                   0\nAdslotformat                       0\nAdvertiserID                       0\ninterest_news                      0\ninterest_education                 0\ninterest_automobile                0\ninterest_realestate                0\ninterest_IT                        0\ninterest_electronicgame            0\ninterest_fashion                   0\ninterest_entertainment             0\ninterest_luxury                    0\ninterest_homeandlifestyle          0\ninterest_health                    0\ninterest_food                      0\ninterest_divine                    0\ninterest_motherhood_parenting      0\ninterest_sports                    0\ninterest_travel_outdoors           0\ninterest_social                    0\nInmarket_3cproduct                 0\nInmarket_appliances                0\nInmarket_clothing_shoes_bags       0\nInmarket_Beauty_PersonalCare       0\nInmarket_infant_momproducts        0\nInmarket_sportsitem                0\nInmarket_outdoor                   0\nInmarket_healthcareproducts        0\nInmarket_luxury                    0\nInmarket_realestate                0\nInmarket_automobile                0\nInmarket_finance                   0\nInmarket_travel                    0\nInmarket_education                 0\nInmarket_service                   0\ninterest_art_photography_design    0\ninterest_onlineliterature          0\nInmarket_electronicgame            0\ninterest_3c                        0\nInmarket_book                      0\nInmarket_medicine                  0\nInmarket_food_drink                0\ninterest_culture                   0\ninterest_sex                       0\nDemographic_gender_female          0\nInmarket_homeimprovement           0\nPayingprice                        0\nOS                                 0\ndtype: int64"
      ]
     },
     "execution_count": 33,
     "metadata": {},
     "output_type": "execute_result"
    }
   ],
   "source": [
    "ads.isnull().sum()"
   ]
  },
  {
   "cell_type": "code",
   "execution_count": 34,
   "metadata": {
    "collapsed": false
   },
   "outputs": [
    {
     "name": "stdout",
     "output_type": "stream",
     "text": [
      "<class 'pandas.core.frame.DataFrame'>\nInt64Index: 3439331 entries, 0 to 3439330\nData columns (total 53 columns):\nclick                              bool\nBrowser                            category\nAdExchange                         category\nAdslotwidth                        int64\nAdslotheight                       int64\nAdslotvisibility                   category\nAdslotformat                       category\nAdvertiserID                       int64\ninterest_news                      bool\ninterest_education                 bool\ninterest_automobile                bool\ninterest_realestate                bool\ninterest_IT                        bool\ninterest_electronicgame            bool\ninterest_fashion                   bool\ninterest_entertainment             bool\ninterest_luxury                    bool\ninterest_homeandlifestyle          bool\ninterest_health                    bool\ninterest_food                      bool\ninterest_divine                    bool\ninterest_motherhood_parenting      bool\ninterest_sports                    bool\ninterest_travel_outdoors           bool\ninterest_social                    bool\nInmarket_3cproduct                 bool\nInmarket_appliances                bool\nInmarket_clothing_shoes_bags       bool\nInmarket_Beauty_PersonalCare       bool\nInmarket_infant_momproducts        bool\nInmarket_sportsitem                bool\nInmarket_outdoor                   bool\nInmarket_healthcareproducts        bool\nInmarket_luxury                    bool\nInmarket_realestate                bool\nInmarket_automobile                bool\nInmarket_finance                   bool\nInmarket_travel                    bool\nInmarket_education                 bool\nInmarket_service                   bool\ninterest_art_photography_design    bool\ninterest_onlineliterature          bool\nInmarket_electronicgame            bool\ninterest_3c                        bool\nInmarket_book                      bool\nInmarket_medicine                  bool\nInmarket_food_drink                bool\ninterest_culture                   bool\ninterest_sex                       bool\nDemographic_gender_female          bool\nInmarket_homeimprovement           bool\nPayingprice                        int64\nOS                                 category\ndtypes: bool(44), category(5), int64(4)\nmemory usage: 291.9 MB\n"
     ]
    }
   ],
   "source": [
    "ads.info()"
   ]
  },
  {
   "cell_type": "markdown",
   "metadata": {},
   "source": [
    "Let's safely store and export our dataset."
   ]
  },
  {
   "cell_type": "code",
   "execution_count": 35,
   "metadata": {},
   "outputs": [],
   "source": [
    "ads.to_pickle('data/ads_clean.p')\n",
    "ads.to_csv('data/ads_clean.csv', index=False)"
   ]
  },
  {
   "cell_type": "markdown",
   "metadata": {},
   "source": [
    "Regression\n",
    "---\n",
    "Time for logistic regression."
   ]
  },
  {
   "cell_type": "code",
   "execution_count": 2,
   "metadata": {},
   "outputs": [],
   "source": [
    "from pandas import read_pickle\n",
    "ads = read_pickle('data/ads_clean.p')"
   ]
  },
  {
   "cell_type": "markdown",
   "metadata": {},
   "source": [
    "First, we need to get our categorical values into shape."
   ]
  },
  {
   "cell_type": "code",
   "execution_count": 3,
   "metadata": {},
   "outputs": [
    {
     "name": "stdout",
     "output_type": "stream",
     "text": [
      "<class 'pandas.core.frame.DataFrame'>\nInt64Index: 3439331 entries, 0 to 3439330\nData columns (total 65 columns):\nclick                              bool\nAdslotwidth                        int64\nAdslotheight                       int64\nAdvertiserID                       int64\nimp                                bool\ninterest_news                      bool\ninterest_education                 bool\ninterest_automobile                bool\ninterest_realestate                bool\ninterest_IT                        bool\ninterest_electronicgame            bool\ninterest_fashion                   bool\ninterest_entertainment             bool\ninterest_luxury                    bool\ninterest_homeandlifestyle          bool\ninterest_health                    bool\ninterest_food                      bool\ninterest_divine                    bool\ninterest_motherhood_parenting      bool\ninterest_sports                    bool\ninterest_travel_outdoors           bool\ninterest_social                    bool\nInmarket_3cproduct                 bool\nInmarket_appliances                bool\nInmarket_clothing_shoes_bags       bool\nInmarket_Beauty_PersonalCare       bool\nInmarket_infant_momproducts        bool\nInmarket_sportsitem                bool\nInmarket_outdoor                   bool\nInmarket_healthcareproducts        bool\nInmarket_luxury                    bool\nInmarket_realestate                bool\nInmarket_automobile                bool\nInmarket_finance                   bool\nInmarket_travel                    bool\nInmarket_education                 bool\nInmarket_service                   bool\ninterest_art_photography_design    bool\ninterest_onlineliterature          bool\nInmarket_electronicgame            bool\ninterest_3c                        bool\nInmarket_book                      bool\nInmarket_medicine                  bool\nInmarket_food_drink                bool\ninterest_culture                   bool\ninterest_sex                       bool\nDemographic_gender_male            bool\nDemographic_gender_female          bool\nInmarket_homeimprovement           bool\nPayingprice                        int64\nBrowser_chrome                     uint8\nBrowser_firefox                    uint8\nBrowser_opera                      uint8\nBrowser_safari                     uint8\nAdExchange_2                       uint8\nAdExchange_3                       uint8\nAdExchange_4                       uint8\nAdslotvisibility_FirstView         uint8\nAdslotvisibility_FourthView        uint8\nAdslotvisibility_Na                uint8\nAdslotvisibility_OtherView         uint8\nAdslotvisibility_SecondView        uint8\nAdslotvisibility_ThirdView         uint8\nAdslotformat_Fixed                 uint8\nAdslotformat_Pop                   uint8\ndtypes: bool(46), int64(4), uint8(15)\nmemory usage: 331.3 MB\n"
     ]
    }
   ],
   "source": [
    "from pandas import get_dummies\n",
    "browser_dummies = get_dummies(ads['Browser'], prefix='Browser')\n",
    "browser_dummies.drop(['Browser_other'], axis=1, inplace=True)\n",
    "adex_dummies = get_dummies(ads['AdExchange'], prefix='AdExchange')\n",
    "adex_dummies.drop(['AdExchange_1'], axis=1, inplace=True)\n",
    "advi_dummies = get_dummies(ads['Adslotvisibility'], prefix='Adslotvisibility')\n",
    "advi_dummies.drop(['Adslotvisibility_FifthView'], axis=1, inplace=True)\n",
    "adfo_dummies = get_dummies(ads['Adslotformat'], prefix='Adslotformat')\n",
    "adfo_dummies.drop(['Adslotformat_Na'], axis=1, inplace=True)\n",
    "os_dummies = get_dummies(ads['OS'], prefix='OS')\n",
    "os_dummies.drop(['OS_other'], axis=1, inplace=True)\n",
    "ads = ads.join([browser_dummies, adex_dummies, advi_dummies, adfo_dummies, os_dummies])\n",
    "ads.drop(['Browser', 'AdExchange', 'Adslotvisibility', 'Adslotformat', 'OS'], axis=1, inplace=True)\n",
    "ads.info()"
   ]
  },
  {
   "cell_type": "markdown",
   "metadata": {},
   "source": [
    "Note that we dropped one level for each categorical variable, in order to avoid the dummy trap. There's only one thing to do before running the regression: Adding the intercept."
   ]
  },
  {
   "cell_type": "code",
   "execution_count": 150,
   "metadata": {},
   "outputs": [],
   "source": [
    "ads['intercept'] = 1.0"
   ]
  },
  {
   "cell_type": "code",
   "execution_count": 12,
   "metadata": {
    "collapsed": false
   },
   "outputs": [
    {
     "name": "stderr",
     "output_type": "stream",
     "text": [
      "~/anaconda3/lib/python3.6/site-packages/statsmodels/discrete/discrete_model.py:1213: RuntimeWarning: overflow encountered in exp\n  return 1/(1+np.exp(-X))\n"
     ]
    },
    {
     "name": "stderr",
     "output_type": "stream",
     "text": [
      "~/anaconda3/lib/python3.6/site-packages/statsmodels/discrete/discrete_model.py:1263: RuntimeWarning: divide by zero encountered in log\n  return np.sum(np.log(self.cdf(q*np.dot(X,params))))\n"
     ]
    },
    {
     "name": "stdout",
     "output_type": "stream",
     "text": [
      "Warning: Maximum number of iterations has been exceeded.\n         Current function value: inf\n         Iterations: 100\n"
     ]
    },
    {
     "ename": "LinAlgError",
     "evalue": "Singular matrix",
     "traceback": [
      "\u001b[0;31m---------------------------------------------------------------------------\u001b[0m",
      "\u001b[0;31mLinAlgError\u001b[0m                               Traceback (most recent call last)",
      "\u001b[0;32m<ipython-input-12-790dadab6266>\u001b[0m in \u001b[0;36m<module>\u001b[0;34m()\u001b[0m\n\u001b[1;32m      3\u001b[0m \u001b[0mads\u001b[0m \u001b[0;34m=\u001b[0m \u001b[0mads\u001b[0m\u001b[0;34m.\u001b[0m\u001b[0mastype\u001b[0m\u001b[0;34m(\u001b[0m\u001b[0mint\u001b[0m\u001b[0;34m)\u001b[0m\u001b[0;34m\u001b[0m\u001b[0m\n\u001b[1;32m      4\u001b[0m \u001b[0mlogit\u001b[0m \u001b[0;34m=\u001b[0m \u001b[0msm\u001b[0m\u001b[0;34m.\u001b[0m\u001b[0mLogit\u001b[0m\u001b[0;34m(\u001b[0m\u001b[0mads\u001b[0m\u001b[0;34m[\u001b[0m\u001b[0;34m'click'\u001b[0m\u001b[0;34m]\u001b[0m\u001b[0;34m,\u001b[0m \u001b[0mads\u001b[0m\u001b[0;34m.\u001b[0m\u001b[0mdrop\u001b[0m\u001b[0;34m(\u001b[0m\u001b[0;34m[\u001b[0m\u001b[0;34m'click'\u001b[0m\u001b[0;34m]\u001b[0m\u001b[0;34m,\u001b[0m \u001b[0maxis\u001b[0m\u001b[0;34m=\u001b[0m\u001b[0;36m1\u001b[0m\u001b[0;34m)\u001b[0m\u001b[0;34m)\u001b[0m\u001b[0;34m\u001b[0m\u001b[0m\n\u001b[0;32m----> 5\u001b[0;31m \u001b[0mresult\u001b[0m \u001b[0;34m=\u001b[0m \u001b[0mlogit\u001b[0m\u001b[0;34m.\u001b[0m\u001b[0mfit\u001b[0m\u001b[0;34m(\u001b[0m\u001b[0mmaxiter\u001b[0m\u001b[0;34m=\u001b[0m\u001b[0;36m100\u001b[0m\u001b[0;34m)\u001b[0m\u001b[0;34m\u001b[0m\u001b[0m\n\u001b[0m",
      "\u001b[0;32m~/anaconda3/lib/python3.6/site-packages/statsmodels/discrete/discrete_model.py\u001b[0m in \u001b[0;36mfit\u001b[0;34m(self, start_params, method, maxiter, full_output, disp, callback, **kwargs)\u001b[0m\n\u001b[1;32m   1374\u001b[0m         bnryfit = super(Logit, self).fit(start_params=start_params,\n\u001b[1;32m   1375\u001b[0m                 \u001b[0mmethod\u001b[0m\u001b[0;34m=\u001b[0m\u001b[0mmethod\u001b[0m\u001b[0;34m,\u001b[0m \u001b[0mmaxiter\u001b[0m\u001b[0;34m=\u001b[0m\u001b[0mmaxiter\u001b[0m\u001b[0;34m,\u001b[0m \u001b[0mfull_output\u001b[0m\u001b[0;34m=\u001b[0m\u001b[0mfull_output\u001b[0m\u001b[0;34m,\u001b[0m\u001b[0;34m\u001b[0m\u001b[0m\n\u001b[0;32m-> 1376\u001b[0;31m                 disp=disp, callback=callback, **kwargs)\n\u001b[0m\u001b[1;32m   1377\u001b[0m \u001b[0;34m\u001b[0m\u001b[0m\n\u001b[1;32m   1378\u001b[0m         \u001b[0mdiscretefit\u001b[0m \u001b[0;34m=\u001b[0m \u001b[0mLogitResults\u001b[0m\u001b[0;34m(\u001b[0m\u001b[0mself\u001b[0m\u001b[0;34m,\u001b[0m \u001b[0mbnryfit\u001b[0m\u001b[0;34m)\u001b[0m\u001b[0;34m\u001b[0m\u001b[0m\n",
      "\u001b[0;32m~/anaconda3/lib/python3.6/site-packages/statsmodels/discrete/discrete_model.py\u001b[0m in \u001b[0;36mfit\u001b[0;34m(self, start_params, method, maxiter, full_output, disp, callback, **kwargs)\u001b[0m\n\u001b[1;32m    201\u001b[0m         mlefit = super(DiscreteModel, self).fit(start_params=start_params,\n\u001b[1;32m    202\u001b[0m                 \u001b[0mmethod\u001b[0m\u001b[0;34m=\u001b[0m\u001b[0mmethod\u001b[0m\u001b[0;34m,\u001b[0m \u001b[0mmaxiter\u001b[0m\u001b[0;34m=\u001b[0m\u001b[0mmaxiter\u001b[0m\u001b[0;34m,\u001b[0m \u001b[0mfull_output\u001b[0m\u001b[0;34m=\u001b[0m\u001b[0mfull_output\u001b[0m\u001b[0;34m,\u001b[0m\u001b[0;34m\u001b[0m\u001b[0m\n\u001b[0;32m--> 203\u001b[0;31m                 disp=disp, callback=callback, **kwargs)\n\u001b[0m\u001b[1;32m    204\u001b[0m \u001b[0;34m\u001b[0m\u001b[0m\n\u001b[1;32m    205\u001b[0m         \u001b[0;32mreturn\u001b[0m \u001b[0mmlefit\u001b[0m \u001b[0;31m# up to subclasses to wrap results\u001b[0m\u001b[0;34m\u001b[0m\u001b[0m\n",
      "\u001b[0;32m~/anaconda3/lib/python3.6/site-packages/statsmodels/base/model.py\u001b[0m in \u001b[0;36mfit\u001b[0;34m(self, start_params, method, maxiter, full_output, disp, fargs, callback, retall, skip_hessian, **kwargs)\u001b[0m\n\u001b[1;32m    432\u001b[0m             \u001b[0mHinv\u001b[0m \u001b[0;34m=\u001b[0m \u001b[0mcov_params_func\u001b[0m\u001b[0;34m(\u001b[0m\u001b[0mself\u001b[0m\u001b[0;34m,\u001b[0m \u001b[0mxopt\u001b[0m\u001b[0;34m,\u001b[0m \u001b[0mretvals\u001b[0m\u001b[0;34m)\u001b[0m\u001b[0;34m\u001b[0m\u001b[0m\n\u001b[1;32m    433\u001b[0m         \u001b[0;32melif\u001b[0m \u001b[0mmethod\u001b[0m \u001b[0;34m==\u001b[0m \u001b[0;34m'newton'\u001b[0m \u001b[0;32mand\u001b[0m \u001b[0mfull_output\u001b[0m\u001b[0;34m:\u001b[0m\u001b[0;34m\u001b[0m\u001b[0m\n\u001b[0;32m--> 434\u001b[0;31m             \u001b[0mHinv\u001b[0m \u001b[0;34m=\u001b[0m \u001b[0mnp\u001b[0m\u001b[0;34m.\u001b[0m\u001b[0mlinalg\u001b[0m\u001b[0;34m.\u001b[0m\u001b[0minv\u001b[0m\u001b[0;34m(\u001b[0m\u001b[0;34m-\u001b[0m\u001b[0mretvals\u001b[0m\u001b[0;34m[\u001b[0m\u001b[0;34m'Hessian'\u001b[0m\u001b[0;34m]\u001b[0m\u001b[0;34m)\u001b[0m \u001b[0;34m/\u001b[0m \u001b[0mnobs\u001b[0m\u001b[0;34m\u001b[0m\u001b[0m\n\u001b[0m\u001b[1;32m    435\u001b[0m         \u001b[0;32melif\u001b[0m \u001b[0;32mnot\u001b[0m \u001b[0mskip_hessian\u001b[0m\u001b[0;34m:\u001b[0m\u001b[0;34m\u001b[0m\u001b[0m\n\u001b[1;32m    436\u001b[0m             \u001b[0;32mtry\u001b[0m\u001b[0;34m:\u001b[0m\u001b[0;34m\u001b[0m\u001b[0m\n",
      "\u001b[0;32m~/.local/lib/python3.6/site-packages/numpy/linalg/linalg.py\u001b[0m in \u001b[0;36minv\u001b[0;34m(a)\u001b[0m\n\u001b[1;32m    511\u001b[0m     \u001b[0msignature\u001b[0m \u001b[0;34m=\u001b[0m \u001b[0;34m'D->D'\u001b[0m \u001b[0;32mif\u001b[0m \u001b[0misComplexType\u001b[0m\u001b[0;34m(\u001b[0m\u001b[0mt\u001b[0m\u001b[0;34m)\u001b[0m \u001b[0;32melse\u001b[0m \u001b[0;34m'd->d'\u001b[0m\u001b[0;34m\u001b[0m\u001b[0m\n\u001b[1;32m    512\u001b[0m     \u001b[0mextobj\u001b[0m \u001b[0;34m=\u001b[0m \u001b[0mget_linalg_error_extobj\u001b[0m\u001b[0;34m(\u001b[0m\u001b[0m_raise_linalgerror_singular\u001b[0m\u001b[0;34m)\u001b[0m\u001b[0;34m\u001b[0m\u001b[0m\n\u001b[0;32m--> 513\u001b[0;31m     \u001b[0mainv\u001b[0m \u001b[0;34m=\u001b[0m \u001b[0m_umath_linalg\u001b[0m\u001b[0;34m.\u001b[0m\u001b[0minv\u001b[0m\u001b[0;34m(\u001b[0m\u001b[0ma\u001b[0m\u001b[0;34m,\u001b[0m \u001b[0msignature\u001b[0m\u001b[0;34m=\u001b[0m\u001b[0msignature\u001b[0m\u001b[0;34m,\u001b[0m \u001b[0mextobj\u001b[0m\u001b[0;34m=\u001b[0m\u001b[0mextobj\u001b[0m\u001b[0;34m)\u001b[0m\u001b[0;34m\u001b[0m\u001b[0m\n\u001b[0m\u001b[1;32m    514\u001b[0m     \u001b[0;32mreturn\u001b[0m \u001b[0mwrap\u001b[0m\u001b[0;34m(\u001b[0m\u001b[0mainv\u001b[0m\u001b[0;34m.\u001b[0m\u001b[0mastype\u001b[0m\u001b[0;34m(\u001b[0m\u001b[0mresult_t\u001b[0m\u001b[0;34m,\u001b[0m \u001b[0mcopy\u001b[0m\u001b[0;34m=\u001b[0m\u001b[0;32mFalse\u001b[0m\u001b[0;34m)\u001b[0m\u001b[0;34m)\u001b[0m\u001b[0;34m\u001b[0m\u001b[0m\n\u001b[1;32m    515\u001b[0m \u001b[0;34m\u001b[0m\u001b[0m\n",
      "\u001b[0;32m~/.local/lib/python3.6/site-packages/numpy/linalg/linalg.py\u001b[0m in \u001b[0;36m_raise_linalgerror_singular\u001b[0;34m(err, flag)\u001b[0m\n\u001b[1;32m     88\u001b[0m \u001b[0;34m\u001b[0m\u001b[0m\n\u001b[1;32m     89\u001b[0m \u001b[0;32mdef\u001b[0m \u001b[0m_raise_linalgerror_singular\u001b[0m\u001b[0;34m(\u001b[0m\u001b[0merr\u001b[0m\u001b[0;34m,\u001b[0m \u001b[0mflag\u001b[0m\u001b[0;34m)\u001b[0m\u001b[0;34m:\u001b[0m\u001b[0;34m\u001b[0m\u001b[0m\n\u001b[0;32m---> 90\u001b[0;31m     \u001b[0;32mraise\u001b[0m \u001b[0mLinAlgError\u001b[0m\u001b[0;34m(\u001b[0m\u001b[0;34m\"Singular matrix\"\u001b[0m\u001b[0;34m)\u001b[0m\u001b[0;34m\u001b[0m\u001b[0m\n\u001b[0m\u001b[1;32m     91\u001b[0m \u001b[0;34m\u001b[0m\u001b[0m\n\u001b[1;32m     92\u001b[0m \u001b[0;32mdef\u001b[0m \u001b[0m_raise_linalgerror_nonposdef\u001b[0m\u001b[0;34m(\u001b[0m\u001b[0merr\u001b[0m\u001b[0;34m,\u001b[0m \u001b[0mflag\u001b[0m\u001b[0;34m)\u001b[0m\u001b[0;34m:\u001b[0m\u001b[0;34m\u001b[0m\u001b[0m\n",
      "\u001b[0;31mLinAlgError\u001b[0m: Singular matrix"
     ],
     "output_type": "error"
    }
   ],
   "source": [
    "import statsmodels.api as sm\n",
    "\n",
    "ads = ads.astype(int)\n",
    "logit = sm.Logit(ads['click'], ads.drop(['click'], axis=1))\n",
    "result = logit.fit(maxiter=100)"
   ]
  },
  {
   "cell_type": "code",
   "execution_count": 9,
   "metadata": {
    "collapsed": false
   },
   "outputs": [
    {
     "name": "stdout",
     "output_type": "stream",
     "text": [
      "                           Logit Regression Results                           \n==============================================================================\nDep. Variable:                  click   No. Observations:              3439331\nModel:                          Logit   Df Residuals:                  3439267\nMethod:                           MLE   Df Model:                           63\nDate:                Wed, 17 Jan 2018   Pseudo R-squ.:                 0.08936\nTime:                        18:51:11   Log-Likelihood:                -9260.5\nconverged:                      False   LL-Null:                       -10169.\n                                        LLR p-value:                     0.000\n===================================================================================================\n                                      coef    std err          z      P>|z|      [95.0% Conf. Int.]\n---------------------------------------------------------------------------------------------------\nAdslotwidth                         0.0002      0.000      1.158      0.247        -0.000     0.001\nAdslotheight                        0.0004      0.000      0.766      0.444        -0.001     0.001\nAdvertiserID                        0.0010      0.000      7.319      0.000         0.001     0.001\nimp                                16.9108     99.955      0.169      0.866      -178.998   212.820\ninterest_news                      -0.0298      0.097     -0.306      0.759        -0.221     0.161\ninterest_education                 -0.0342      0.101     -0.340      0.734        -0.231     0.163\ninterest_automobile                 0.0146      0.129      0.114      0.909        -0.238     0.267\ninterest_realestate                -0.0554      0.155     -0.356      0.722        -0.360     0.249\ninterest_IT                        -0.0703      0.123     -0.570      0.569        -0.312     0.172\ninterest_electronicgame            -0.3288      0.104     -3.149      0.002        -0.534    -0.124\ninterest_fashion                   -0.0366      0.104     -0.351      0.725        -0.241     0.168\ninterest_entertainment              0.0876      0.089      0.988      0.323        -0.086     0.261\ninterest_luxury                    -0.2889      0.262     -1.102      0.270        -0.802     0.225\ninterest_homeandlifestyle           0.0960      0.198      0.486      0.627        -0.291     0.483\ninterest_health                     0.0011      0.109      0.010      0.992        -0.213     0.215\ninterest_food                       0.0979      0.129      0.759      0.448        -0.155     0.350\ninterest_divine                     0.1828      0.123      1.490      0.136        -0.058     0.423\ninterest_motherhood_parenting       0.0768      0.152      0.506      0.613        -0.221     0.375\ninterest_sports                     0.0076      0.097      0.078      0.938        -0.183     0.199\ninterest_travel_outdoors           -0.1361      0.160     -0.851      0.395        -0.450     0.177\ninterest_social                    -0.2717      0.118     -2.304      0.021        -0.503    -0.041\nInmarket_3cproduct                 -0.1096      0.114     -0.960      0.337        -0.333     0.114\nInmarket_appliances                -0.3207      0.185     -1.736      0.083        -0.683     0.041\nInmarket_clothing_shoes_bags        0.3811      0.152      2.514      0.012         0.084     0.678\nInmarket_Beauty_PersonalCare        0.2498      0.212      1.179      0.238        -0.165     0.665\nInmarket_infant_momproducts         0.1783      0.230      0.775      0.438        -0.273     0.629\nInmarket_sportsitem                -0.1303      0.281     -0.464      0.643        -0.681     0.420\nInmarket_outdoor                   -0.1751      0.354     -0.494      0.621        -0.869     0.519\nInmarket_healthcareproducts         0.1382      0.248      0.558      0.577        -0.347     0.624\nInmarket_luxury                     0.2210      0.298      0.742      0.458        -0.363     0.805\nInmarket_realestate                -0.0792      0.196     -0.404      0.686        -0.464     0.305\nInmarket_automobile                 0.0076      0.159      0.048      0.962        -0.304     0.319\nInmarket_finance                    0.0261      0.102      0.255      0.799        -0.174     0.226\nInmarket_travel                     0.1762      0.240      0.734      0.463        -0.294     0.647\nInmarket_education                 -0.1979      0.243     -0.816      0.414        -0.673     0.277\nInmarket_service                    0.0149      0.117      0.128      0.898        -0.214     0.244\ninterest_art_photography_design    -0.2024      0.125     -1.620      0.105        -0.447     0.043\ninterest_onlineliterature          -0.0178      0.099     -0.179      0.858        -0.212     0.177\nInmarket_electronicgame            -0.0383      1.047     -0.037      0.971        -2.091     2.014\ninterest_3c                         0.1979      0.108      1.831      0.067        -0.014     0.410\nInmarket_book                      -0.4814      0.425     -1.132      0.258        -1.315     0.352\nInmarket_medicine                   0.7851      0.378      2.077      0.038         0.044     1.526\nInmarket_food_drink                 0.2401      0.239      1.006      0.315        -0.228     0.708\ninterest_culture                    0.1712      0.157      1.089      0.276        -0.137     0.479\ninterest_sex                       -0.0311      0.227     -0.137      0.891        -0.476     0.414\nDemographic_gender_male             0.0197      0.111      0.177      0.859        -0.198     0.238\nDemographic_gender_female          -0.2194      0.122     -1.797      0.072        -0.459     0.020\nInmarket_homeimprovement            0.1109      0.203      0.548      0.584        -0.286     0.508\nPayingprice                         0.0045      0.000     11.394      0.000         0.004     0.005\nBrowser_chrome                     -0.0630      0.066     -0.957      0.338        -0.192     0.066\nBrowser_firefox                    -0.1192      0.320     -0.373      0.709        -0.746     0.508\nBrowser_opera                       1.1677      0.581      2.011      0.044         0.030     2.306\nBrowser_safari                      1.1971      0.117     10.209      0.000         0.967     1.427\nAdExchange_2                      -27.6503     99.961     -0.277      0.782      -223.571   168.270\nAdExchange_3                      -27.5648     99.961     -0.276      0.783      -223.485   168.356\nAdExchange_4                        0.2865      0.145      1.980      0.048         0.003     0.570\nAdslotvisibility_FirstView          0.6123      1.008      0.607      0.544        -1.364     2.588\nAdslotvisibility_FourthView         0.1117      1.021      0.109      0.913        -1.889     2.112\nAdslotvisibility_Na                 0.2686      1.007      0.267      0.790        -1.705     2.242\nAdslotvisibility_OtherView         -0.1472      1.014     -0.145      0.885        -2.134     1.840\nAdslotvisibility_SecondView         0.5453      1.014      0.538      0.591        -1.443     2.534\nAdslotvisibility_ThirdView          0.3247      1.019      0.319      0.750        -1.673     2.322\nAdslotformat_Fixed                -28.3724     99.961     -0.284      0.777      -224.292   167.548\nAdslotformat_Pop                  -26.3188     99.961     -0.263      0.792      -222.240   169.602\n===================================================================================================\n\nPossibly complete quasi-separation: A fraction 0.43 of observations can be\nperfectly predicted. This might indicate that there is complete\nquasi-separation. In this case some parameters will not be identified.\n"
     ]
    }
   ],
   "source": [
    "print(result.summary())"
   ]
  },
  {
   "cell_type": "code",
   "execution_count": 11,
   "metadata": {},
   "outputs": [
    {
     "data": {
      "text/plain": [
       "{'Hessian': array([[ -1.56074679e+02,  -2.57054916e+01,  -5.33302328e+02, ...,\n          -2.55603010e-03,  -8.42251043e-02,  -1.98990006e-03],\n        [ -2.57054916e+01,  -1.53121969e+01,  -1.58074051e+02, ...,\n          -1.95926244e-03,  -2.31302088e-02,  -1.65825005e-03],\n        [ -5.33302328e+02,  -1.58074051e+02,  -2.34442946e+03, ...,\n          -2.01047377e-02,  -3.70828129e-01,  -1.86133988e-02],\n        ..., \n        [ -2.55603010e-03,  -1.95926244e-03,  -2.01047377e-02, ...,\n          -7.84655333e-06,  -7.84655333e-06,  -0.00000000e+00],\n        [ -8.42251043e-02,  -2.31302088e-02,  -3.70828129e-01, ...,\n          -7.84655333e-06,  -1.35382760e-04,  -0.00000000e+00],\n        [ -1.98990006e-03,  -1.65825005e-03,  -1.86133988e-02, ...,\n          -0.00000000e+00,  -0.00000000e+00,  -6.62485012e-06]]),\n 'converged': False,\n 'fopt': 0.002692530642252864,\n 'iterations': 35,\n 'score': array([ -2.40228815e-11,  -1.00830674e-11,  -1.25454733e-10,\n          5.81040649e-12,  -2.25819028e-18,  -1.04027392e-18,\n         -1.30978827e-18,   4.79120929e-19,  -3.33994748e-19,\n         -7.81168805e-19,  -1.30456001e-18,  -2.30835775e-18,\n         -2.62264291e-19,  -2.63531037e-19,  -8.16935269e-19,\n         -1.98971136e-19,  -3.01094601e-19,  -5.52053003e-19,\n         -8.50785097e-19,  -4.08688552e-19,   2.96735765e-20,\n         -3.61688577e-19,  -1.60726661e-19,  -4.70391151e-19,\n          6.83081878e-20,   1.00888496e-19,   5.10405741e-19,\n         -6.50481899e-19,  -4.48367479e-19,  -1.91122066e-19,\n         -1.60595586e-19,  -2.65116171e-19,  -6.94690141e-19,\n          3.02417585e-19,  -3.56818301e-19,  -2.94911934e-19,\n         -1.89929211e-19,  -5.70578372e-19,   1.04107563e-19,\n         -4.09022009e-19,  -3.50579900e-19,  -8.02714705e-21,\n          1.55672539e-19,  -2.15524827e-19,   1.31342850e-19,\n         -9.69863172e-19,  -8.62809473e-20,  -7.02427302e-20,\n         -1.37887663e-11,  -1.46724695e-14,  -3.43328189e-16,\n         -5.95257498e-17,  -1.92607076e-15,  -5.81720224e-12,\n         -5.84606820e-12,  -2.41349635e-15,  -4.21187050e-15,\n          1.82777776e-16,  -3.64381266e-14,  -3.76952359e-15,\n         -3.29816125e-16,   1.75850887e-17,  -5.81598408e-12,\n         -5.81169010e-12]),\n 'warnflag': 1}"
      ]
     },
     "execution_count": 11,
     "metadata": {},
     "output_type": "execute_result"
    }
   ],
   "source": [
    "result.mle_retvals"
   ]
  },
  {
   "cell_type": "code",
   "execution_count": null,
   "metadata": {},
   "outputs": [],
   "source": []
  }
 ],
 "metadata": {
  "kernelspec": {
   "display_name": "Python 3",
   "language": "python",
   "name": "python3"
  },
  "language_info": {
   "codemirror_mode": {
    "name": "ipython",
    "version": 3
   },
   "file_extension": ".py",
   "mimetype": "text/x-python",
   "name": "python",
   "nbconvert_exporter": "python",
   "pygments_lexer": "ipython3",
   "version": "3.6.0"
  }
 },
 "nbformat": 4,
 "nbformat_minor": 0
}
