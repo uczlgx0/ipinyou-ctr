{
 "cells": [
  {
   "cell_type": "markdown",
   "metadata": {
    "collapsed": true
   },
   "source": [
    "insert intro\n",
    "First, let's read the relevant columns into memory."
   ]
  },
  {
   "cell_type": "code",
   "execution_count": 1,
   "metadata": {
    "collapsed": false
   },
   "outputs": [
    {
     "name": "stderr",
     "output_type": "stream",
     "text": [
      "~/anaconda3/lib/python3.6/site-packages/IPython/core/interactiveshell.py:2717: DtypeWarning: Columns (4,14,15) have mixed types. Specify dtype option on import or set low_memory=False.\n  interactivity=interactivity, compiler=compiler, result=result)\n"
     ]
    }
   ],
   "source": [
    "from pandas import read_csv\n",
    "ads = read_csv('data/ads.csv', usecols=['click', 'AdvertiserID', 'AdExchange', 'Adslotwidth',\n",
    "                                           'Adslotheight', 'Adslotvisibility', 'Adslotformat', 'Biddingprice', 'Browser', 'imp', 'interest_news',\n",
    "                                           'interest_eduation', 'interest_automobile', 'interest_realestate',\n",
    "                                           'interest_IT', 'interest_electronicgame', 'interest_fashion',\n",
    "                                           'interest_entertainment', 'interest_luxury', 'interest_homeandlifestyle',\n",
    "                                           'interest_health', 'interest_food', 'interest_divine',\n",
    "                                           'interest_motherhood_parenting', 'interest_sports',\n",
    "                                           'interest_travel_outdoors',\n",
    "                                           'interest_social', 'interest_art_photography_design',\n",
    "                                           'interest_onlineliterature', 'interest_3c', 'interest_culture',\n",
    "                                           'interest_sex',\n",
    "                                           'Inmarket_3cproduct', 'Inmarket_appliances', 'Inmarket_clothing_shoes_bags',\n",
    "                                           'Inmarket_Beauty_PersonalCare', 'Inmarket_infant_momproducts',\n",
    "                                           'Inmarket_sportsitem', 'Inmarket_outdoor', 'Inmarket_healthcareproducts',\n",
    "                                           'Inmarket_luxury', 'Inmarket_realestate', 'Inmarket_automobile',\n",
    "                                           'Inmarket_finance', 'Inmarket_travel', 'Inmarket_education',\n",
    "                                           'Inmarket_service', 'Inmarket_electronicgame', 'Inmarket_book',\n",
    "                                           'Inmarket_medicine', 'Inmarket_food_drink', 'Inmarket_homeimprovement',\n",
    "                                           'Demographic_gender_male', 'Demographic_gender_famale', 'Payingprice'])\n",
    "if 'Unnamed: 0' in ads:\n",
    "    ads.drop('Unnamed: 0', axis=1, inplace=True)"
   ]
  },
  {
   "cell_type": "markdown",
   "metadata": {},
   "source": [
    "Let's inspect the columns of the dataset."
   ]
  },
  {
   "cell_type": "code",
   "execution_count": 2,
   "metadata": {
    "collapsed": false
   },
   "outputs": [
    {
     "name": "stdout",
     "output_type": "stream",
     "text": [
      "<class 'pandas.core.frame.DataFrame'>\nRangeIndex: 4621497 entries, 0 to 4621496\nData columns (total 55 columns):\nBrowser                            object\nAdExchange                         float64\nAdslotwidth                        float64\nAdslotheight                       float64\nAdslotvisibility                   object\nAdslotformat                       object\nBiddingprice                       float64\nAdvertiserID                       float64\nimp                                float64\nclick                              float64\ninterest_news                      float64\ninterest_eduation                  float64\ninterest_automobile                float64\ninterest_realestate                float64\ninterest_IT                        float64\ninterest_electronicgame            float64\ninterest_fashion                   float64\ninterest_entertainment             float64\ninterest_luxury                    float64\ninterest_homeandlifestyle          float64\ninterest_health                    float64\ninterest_food                      float64\ninterest_divine                    float64\ninterest_motherhood_parenting      float64\ninterest_sports                    float64\ninterest_travel_outdoors           float64\ninterest_social                    float64\nInmarket_3cproduct                 float64\nInmarket_appliances                float64\nInmarket_clothing_shoes_bags       float64\nInmarket_Beauty_PersonalCare       float64\nInmarket_infant_momproducts        float64\nInmarket_sportsitem                float64\nInmarket_outdoor                   float64\nInmarket_healthcareproducts        float64\nInmarket_luxury                    float64\nInmarket_realestate                float64\nInmarket_automobile                float64\nInmarket_finance                   float64\nInmarket_travel                    float64\nInmarket_education                 float64\nInmarket_service                   float64\ninterest_art_photography_design    float64\ninterest_onlineliterature          float64\nInmarket_electronicgame            float64\ninterest_3c                        float64\nInmarket_book                      float64\nInmarket_medicine                  float64\nInmarket_food_drink                float64\ninterest_culture                   float64\ninterest_sex                       float64\nDemographic_gender_male            float64\nDemographic_gender_famale          float64\nInmarket_homeimprovement           float64\nPayingprice                        float64\ndtypes: float64(52), object(3)\nmemory usage: 1.9+ GB\n"
     ]
    }
   ],
   "source": [
    "ads.info()"
   ]
  },
  {
   "cell_type": "markdown",
   "metadata": {
    "collapsed": true
   },
   "source": [
    "We see that we have ~ 4 million observations and 55 variables. The most important variable is the `click` variable, which indicates whether the ad was clicked on by the user. Let's see how many missing values we have."
   ]
  },
  {
   "cell_type": "code",
   "execution_count": 44,
   "metadata": {},
   "outputs": [
    {
     "data": {
      "text/plain": [
       "1182166"
      ]
     },
     "execution_count": 44,
     "metadata": {},
     "output_type": "execute_result"
    }
   ],
   "source": [
    "ads['click'].isnull().sum()"
   ]
  },
  {
   "cell_type": "markdown",
   "metadata": {},
   "source": [
    "Around 1 million bids do not contain a value for the `click` variable. However, this variable is critical, because we will regress it later on. Therefore, we need to remove these observations."
   ]
  },
  {
   "cell_type": "code",
   "execution_count": 6,
   "metadata": {},
   "outputs": [],
   "source": [
    "ads.dropna(subset=['click'], inplace=True)"
   ]
  },
  {
   "cell_type": "markdown",
   "metadata": {},
   "source": [
    "Additionaly, let's move the `click` variable to the front."
   ]
  },
  {
   "cell_type": "code",
   "execution_count": 9,
   "metadata": {},
   "outputs": [],
   "source": [
    "cols = ['click'] + [col for col in ads if col != 'click']\n",
    "ads = ads[cols]"
   ]
  },
  {
   "cell_type": "markdown",
   "metadata": {},
   "source": [
    "Let's fix some typos."
   ]
  },
  {
   "cell_type": "code",
   "execution_count": 11,
   "metadata": {},
   "outputs": [],
   "source": [
    "ads.rename(\n",
    "    columns={'interest_eduation': 'interest_education', 'Demographic_gender_famale': 'Demographic_gender_female'},\n",
    "    inplace=True)"
   ]
  },
  {
   "cell_type": "markdown",
   "metadata": {},
   "source": [
    "We see that most variables are detected as floating point numbers. However, most of them are actually boolean variables! We need to account for that and convert them. First, let's look at the average missing values per variable."
   ]
  },
  {
   "cell_type": "code",
   "execution_count": 13,
   "metadata": {},
   "outputs": [
    {
     "name": "stdout",
     "output_type": "stream",
     "text": [
      "Missing values in `imp` 0\n"
     ]
    },
    {
     "data": {
      "text/plain": [
       "1409622.2608695652"
      ]
     },
     "execution_count": 13,
     "metadata": {},
     "output_type": "execute_result"
    }
   ],
   "source": [
    "boolean_cols = ['imp', 'click', 'interest_news',\n",
    "                'interest_education', 'interest_automobile', 'interest_realestate',\n",
    "                'interest_IT', 'interest_electronicgame', 'interest_fashion',\n",
    "                'interest_entertainment', 'interest_luxury', 'interest_homeandlifestyle',\n",
    "                'interest_health', 'interest_food', 'interest_divine',\n",
    "                'interest_motherhood_parenting', 'interest_sports', 'interest_travel_outdoors',\n",
    "                'interest_social', 'interest_art_photography_design',\n",
    "                'interest_onlineliterature', 'interest_3c', 'interest_culture', 'interest_sex',\n",
    "                'Inmarket_3cproduct', 'Inmarket_appliances', 'Inmarket_clothing_shoes_bags',\n",
    "                'Inmarket_Beauty_PersonalCare', 'Inmarket_infant_momproducts',\n",
    "                'Inmarket_sportsitem', 'Inmarket_outdoor', 'Inmarket_healthcareproducts',\n",
    "                'Inmarket_luxury', 'Inmarket_realestate', 'Inmarket_automobile',\n",
    "                'Inmarket_finance', 'Inmarket_travel', 'Inmarket_education',\n",
    "                'Inmarket_service', 'Inmarket_electronicgame', 'Inmarket_book',\n",
    "                'Inmarket_medicine', 'Inmarket_food_drink', 'Inmarket_homeimprovement',\n",
    "                'Demographic_gender_male', 'Demographic_gender_female']\n",
    "missings = 0\n",
    "for col in boolean_cols:\n",
    "    missings_col = ads[col].isnull().sum()\n",
    "    if col == 'imp':\n",
    "        print('Missing values in `imp`', missings_col)\n",
    "    missings += ads[col].isnull().sum()\n",
    "missings / len(boolean_cols)\n",
    "\n"
   ]
  },
  {
   "cell_type": "markdown",
   "metadata": {},
   "source": [
    "These are quite a lot, and we cannot afford to loose them. As the variables are simply dummy variables of a categorical variable, we decide to simply use the default bool conversion strategy in this case, ie convert all missing values to `False`. Intuitively, if we don't know whether a user is interested in food, we simply assume that the user isn't interested in it. This way, we won't skew the analysis significantly. Further note, that the `imp` variable has no missing values. "
   ]
  },
  {
   "cell_type": "code",
   "execution_count": 14,
   "metadata": {},
   "outputs": [],
   "source": [
    "ads[boolean_cols] = ads[boolean_cols].fillna(0)\n",
    "ads[boolean_cols] = ads[boolean_cols].astype(bool)"
   ]
  },
  {
   "cell_type": "markdown",
   "metadata": {},
   "source": [
    "How many bids did not win impressions?"
   ]
  },
  {
   "cell_type": "code",
   "execution_count": 54,
   "metadata": {},
   "outputs": [
    {
     "data": {
      "text/plain": [
       "1473696"
      ]
     },
     "execution_count": 54,
     "metadata": {},
     "output_type": "execute_result"
    }
   ],
   "source": [
    "(ads['imp'] == False).sum()"
   ]
  },
  {
   "cell_type": "markdown",
   "metadata": {},
   "source": [
    "Obviously, if the advertiser didn't win the impression, the user won't be able to click. Therefore, we use only the won impressions and remove the column. As an aside, it would be an interesting analysis to regress `imp` itself, ie whether an advertiser will win a bid. However, we figure that the provided variables are not conclusive enough to classify `imp` correctly."
   ]
  },
  {
   "cell_type": "code",
   "execution_count": 15,
   "metadata": {},
   "outputs": [
    {
     "name": "stdout",
     "output_type": "stream",
     "text": [
      "Lost impressions, but clicked 0\n"
     ]
    },
    {
     "name": "stderr",
     "output_type": "stream",
     "text": [
      "~/anaconda3/lib/python3.6/site-packages/ipykernel/__main__.py:3: SettingWithCopyWarning: \nA value is trying to be set on a copy of a slice from a DataFrame\n\nSee the caveats in the documentation: http://pandas.pydata.org/pandas-docs/stable/indexing.html#indexing-view-versus-copy\n  app.launch_new_instance()\n"
     ]
    }
   ],
   "source": [
    "print('Lost impressions, but clicked', ((ads['imp'] == 0) & (ads['click'] == 1)).sum())\n",
    "ads = ads[ads['imp']]\n",
    "ads.drop(['imp'], axis=1, inplace=True)"
   ]
  },
  {
   "cell_type": "code",
   "execution_count": 16,
   "metadata": {},
   "outputs": [
    {
     "ename": "KeyboardInterrupt",
     "evalue": "",
     "traceback": [
      "\u001b[0;31m---------------------------------------------------------------------------\u001b[0m",
      "\u001b[0;31mKeyboardInterrupt\u001b[0m                         Traceback (most recent call last)",
      "\u001b[0;32m<ipython-input-16-d730ea4faf73>\u001b[0m in \u001b[0;36m<module>\u001b[0;34m()\u001b[0m\n\u001b[1;32m      9\u001b[0m \u001b[0;34m\u001b[0m\u001b[0m\n\u001b[1;32m     10\u001b[0m \u001b[0;31m#ads[['Browser', 'OS']] = ads['Browser'].map(lambda x: simple_detect(x))\u001b[0m\u001b[0;34m\u001b[0m\u001b[0;34m\u001b[0m\u001b[0m\n\u001b[0;32m---> 11\u001b[0;31m \u001b[0mads\u001b[0m\u001b[0;34m.\u001b[0m\u001b[0mmerge\u001b[0m\u001b[0;34m(\u001b[0m\u001b[0mads\u001b[0m\u001b[0;34m.\u001b[0m\u001b[0mBrowser\u001b[0m\u001b[0;34m.\u001b[0m\u001b[0mapply\u001b[0m\u001b[0;34m(\u001b[0m\u001b[0;32mlambda\u001b[0m \u001b[0ms\u001b[0m\u001b[0;34m:\u001b[0m \u001b[0mmap_useragent\u001b[0m\u001b[0;34m(\u001b[0m\u001b[0ms\u001b[0m\u001b[0;34m)\u001b[0m\u001b[0;34m)\u001b[0m\u001b[0;34m,\u001b[0m \u001b[0mleft_index\u001b[0m\u001b[0;34m=\u001b[0m\u001b[0;32mTrue\u001b[0m\u001b[0;34m,\u001b[0m \u001b[0mright_index\u001b[0m\u001b[0;34m=\u001b[0m\u001b[0;32mTrue\u001b[0m\u001b[0;34m)\u001b[0m\u001b[0;34m\u001b[0m\u001b[0m\n\u001b[0m",
      "\u001b[0;32m~/anaconda3/lib/python3.6/site-packages/pandas/core/series.py\u001b[0m in \u001b[0;36mapply\u001b[0;34m(self, func, convert_dtype, args, **kwds)\u001b[0m\n\u001b[1;32m   2292\u001b[0m             \u001b[0;32melse\u001b[0m\u001b[0;34m:\u001b[0m\u001b[0;34m\u001b[0m\u001b[0m\n\u001b[1;32m   2293\u001b[0m                 \u001b[0mvalues\u001b[0m \u001b[0;34m=\u001b[0m \u001b[0mself\u001b[0m\u001b[0;34m.\u001b[0m\u001b[0masobject\u001b[0m\u001b[0;34m\u001b[0m\u001b[0m\n\u001b[0;32m-> 2294\u001b[0;31m                 \u001b[0mmapped\u001b[0m \u001b[0;34m=\u001b[0m \u001b[0mlib\u001b[0m\u001b[0;34m.\u001b[0m\u001b[0mmap_infer\u001b[0m\u001b[0;34m(\u001b[0m\u001b[0mvalues\u001b[0m\u001b[0;34m,\u001b[0m \u001b[0mf\u001b[0m\u001b[0;34m,\u001b[0m \u001b[0mconvert\u001b[0m\u001b[0;34m=\u001b[0m\u001b[0mconvert_dtype\u001b[0m\u001b[0;34m)\u001b[0m\u001b[0;34m\u001b[0m\u001b[0m\n\u001b[0m\u001b[1;32m   2295\u001b[0m \u001b[0;34m\u001b[0m\u001b[0m\n\u001b[1;32m   2296\u001b[0m         \u001b[0;32mif\u001b[0m \u001b[0mlen\u001b[0m\u001b[0;34m(\u001b[0m\u001b[0mmapped\u001b[0m\u001b[0;34m)\u001b[0m \u001b[0;32mand\u001b[0m \u001b[0misinstance\u001b[0m\u001b[0;34m(\u001b[0m\u001b[0mmapped\u001b[0m\u001b[0;34m[\u001b[0m\u001b[0;36m0\u001b[0m\u001b[0;34m]\u001b[0m\u001b[0;34m,\u001b[0m \u001b[0mSeries\u001b[0m\u001b[0;34m)\u001b[0m\u001b[0;34m:\u001b[0m\u001b[0;34m\u001b[0m\u001b[0m\n",
      "\u001b[0;32mpandas/src/inference.pyx\u001b[0m in \u001b[0;36mpandas.lib.map_infer (pandas/lib.c:66124)\u001b[0;34m()\u001b[0m\n",
      "\u001b[0;32m<ipython-input-16-d730ea4faf73>\u001b[0m in \u001b[0;36m<lambda>\u001b[0;34m(s)\u001b[0m\n\u001b[1;32m      9\u001b[0m \u001b[0;34m\u001b[0m\u001b[0m\n\u001b[1;32m     10\u001b[0m \u001b[0;31m#ads[['Browser', 'OS']] = ads['Browser'].map(lambda x: simple_detect(x))\u001b[0m\u001b[0;34m\u001b[0m\u001b[0;34m\u001b[0m\u001b[0m\n\u001b[0;32m---> 11\u001b[0;31m \u001b[0mads\u001b[0m\u001b[0;34m.\u001b[0m\u001b[0mmerge\u001b[0m\u001b[0;34m(\u001b[0m\u001b[0mads\u001b[0m\u001b[0;34m.\u001b[0m\u001b[0mBrowser\u001b[0m\u001b[0;34m.\u001b[0m\u001b[0mapply\u001b[0m\u001b[0;34m(\u001b[0m\u001b[0;32mlambda\u001b[0m \u001b[0ms\u001b[0m\u001b[0;34m:\u001b[0m \u001b[0mmap_useragent\u001b[0m\u001b[0;34m(\u001b[0m\u001b[0ms\u001b[0m\u001b[0;34m)\u001b[0m\u001b[0;34m)\u001b[0m\u001b[0;34m,\u001b[0m \u001b[0mleft_index\u001b[0m\u001b[0;34m=\u001b[0m\u001b[0;32mTrue\u001b[0m\u001b[0;34m,\u001b[0m \u001b[0mright_index\u001b[0m\u001b[0;34m=\u001b[0m\u001b[0;32mTrue\u001b[0m\u001b[0;34m)\u001b[0m\u001b[0;34m\u001b[0m\u001b[0m\n\u001b[0m",
      "\u001b[0;32m<ipython-input-16-d730ea4faf73>\u001b[0m in \u001b[0;36mmap_useragent\u001b[0;34m(agent)\u001b[0m\n\u001b[1;32m      4\u001b[0m \u001b[0;34m\u001b[0m\u001b[0m\n\u001b[1;32m      5\u001b[0m \u001b[0;32mdef\u001b[0m \u001b[0mmap_useragent\u001b[0m\u001b[0;34m(\u001b[0m\u001b[0magent\u001b[0m\u001b[0;34m)\u001b[0m\u001b[0;34m:\u001b[0m\u001b[0;34m\u001b[0m\u001b[0m\n\u001b[0;32m----> 6\u001b[0;31m     \u001b[0mbrowser\u001b[0m\u001b[0;34m,\u001b[0m \u001b[0mos_\u001b[0m \u001b[0;34m=\u001b[0m \u001b[0msimple_detect\u001b[0m\u001b[0;34m(\u001b[0m\u001b[0magent\u001b[0m\u001b[0;34m)\u001b[0m\u001b[0;34m\u001b[0m\u001b[0m\n\u001b[0m\u001b[1;32m      7\u001b[0m     \u001b[0;32mreturn\u001b[0m \u001b[0mSeries\u001b[0m\u001b[0;34m(\u001b[0m\u001b[0;34m{\u001b[0m\u001b[0;34m'Browser'\u001b[0m\u001b[0;34m:\u001b[0m \u001b[0mbrowser\u001b[0m\u001b[0;34m,\u001b[0m \u001b[0;34m'OS'\u001b[0m\u001b[0;34m:\u001b[0m \u001b[0mos_\u001b[0m\u001b[0;34m}\u001b[0m\u001b[0;34m)\u001b[0m\u001b[0;34m\u001b[0m\u001b[0m\n\u001b[1;32m      8\u001b[0m \u001b[0;34m\u001b[0m\u001b[0m\n",
      "\u001b[0;32m~/projects/ipinyou-ctr/httpagentparser/httpagentparser/__init__.py\u001b[0m in \u001b[0;36msimple_detect\u001b[0;34m(agent)\u001b[0m\n\u001b[1;32m    660\u001b[0m     \u001b[0;34m->\u001b[0m \u001b[0;34m(\u001b[0m\u001b[0mos\u001b[0m\u001b[0;34m,\u001b[0m \u001b[0mbrowser\u001b[0m\u001b[0;34m)\u001b[0m \u001b[0;31m# tuple of strings\u001b[0m\u001b[0;34m\u001b[0m\u001b[0m\n\u001b[1;32m    661\u001b[0m     \"\"\"\n\u001b[0;32m--> 662\u001b[0;31m     \u001b[0mresult\u001b[0m \u001b[0;34m=\u001b[0m \u001b[0mdetect\u001b[0m\u001b[0;34m(\u001b[0m\u001b[0magent\u001b[0m\u001b[0;34m)\u001b[0m\u001b[0;34m\u001b[0m\u001b[0m\n\u001b[0m\u001b[1;32m    663\u001b[0m     \u001b[0mos_list\u001b[0m \u001b[0;34m=\u001b[0m \u001b[0;34m[\u001b[0m\u001b[0;34m]\u001b[0m\u001b[0;34m\u001b[0m\u001b[0m\n\u001b[1;32m    664\u001b[0m     \u001b[0;32mif\u001b[0m \u001b[0;34m'flavor'\u001b[0m \u001b[0;32min\u001b[0m \u001b[0mresult\u001b[0m\u001b[0;34m:\u001b[0m\u001b[0;34m\u001b[0m\u001b[0m\n",
      "\u001b[0;32m~/projects/ipinyou-ctr/httpagentparser/httpagentparser/__init__.py\u001b[0m in \u001b[0;36mdetect\u001b[0;34m(agent, fill_none)\u001b[0m\n\u001b[1;32m    643\u001b[0m         \u001b[0;32mfor\u001b[0m \u001b[0mdetector\u001b[0m \u001b[0;32min\u001b[0m \u001b[0mdetectors\u001b[0m\u001b[0;34m:\u001b[0m\u001b[0;34m\u001b[0m\u001b[0m\n\u001b[1;32m    644\u001b[0m             \u001b[0;32mtry\u001b[0m\u001b[0;34m:\u001b[0m\u001b[0;34m\u001b[0m\u001b[0m\n\u001b[0;32m--> 645\u001b[0;31m                 \u001b[0mdetector\u001b[0m\u001b[0;34m.\u001b[0m\u001b[0mdetect\u001b[0m\u001b[0;34m(\u001b[0m\u001b[0magent\u001b[0m\u001b[0;34m,\u001b[0m \u001b[0mresult\u001b[0m\u001b[0;34m)\u001b[0m\u001b[0;34m\u001b[0m\u001b[0m\n\u001b[0m\u001b[1;32m    646\u001b[0m             \u001b[0;32mexcept\u001b[0m \u001b[0mException\u001b[0m \u001b[0;32mas\u001b[0m \u001b[0m_err\u001b[0m\u001b[0;34m:\u001b[0m\u001b[0;34m\u001b[0m\u001b[0m\n\u001b[1;32m    647\u001b[0m                 \u001b[0;32mpass\u001b[0m\u001b[0;34m\u001b[0m\u001b[0m\n",
      "\u001b[0;32m~/projects/ipinyou-ctr/httpagentparser/httpagentparser/__init__.py\u001b[0m in \u001b[0;36mdetect\u001b[0;34m(self, agent, result)\u001b[0m\n\u001b[1;32m     61\u001b[0m         \u001b[0mword\u001b[0m \u001b[0;34m=\u001b[0m \u001b[0mself\u001b[0m\u001b[0;34m.\u001b[0m\u001b[0mcheckWords\u001b[0m\u001b[0;34m(\u001b[0m\u001b[0magent\u001b[0m\u001b[0;34m)\u001b[0m\u001b[0;34m\u001b[0m\u001b[0m\n\u001b[1;32m     62\u001b[0m         \u001b[0;32mif\u001b[0m \u001b[0mword\u001b[0m\u001b[0;34m:\u001b[0m\u001b[0;34m\u001b[0m\u001b[0m\n\u001b[0;32m---> 63\u001b[0;31m             \u001b[0mresult\u001b[0m\u001b[0;34m[\u001b[0m\u001b[0mself\u001b[0m\u001b[0;34m.\u001b[0m\u001b[0minfo_type\u001b[0m\u001b[0;34m]\u001b[0m \u001b[0;34m=\u001b[0m \u001b[0mdict\u001b[0m\u001b[0;34m(\u001b[0m\u001b[0mname\u001b[0m\u001b[0;34m=\u001b[0m\u001b[0mself\u001b[0m\u001b[0;34m.\u001b[0m\u001b[0mname\u001b[0m\u001b[0;34m)\u001b[0m\u001b[0;34m\u001b[0m\u001b[0m\n\u001b[0m\u001b[1;32m     64\u001b[0m             \u001b[0mresult\u001b[0m\u001b[0;34m[\u001b[0m\u001b[0;34m'bot'\u001b[0m\u001b[0;34m]\u001b[0m \u001b[0;34m=\u001b[0m \u001b[0mself\u001b[0m\u001b[0;34m.\u001b[0m\u001b[0mbot\u001b[0m\u001b[0;34m\u001b[0m\u001b[0m\n\u001b[1;32m     65\u001b[0m             \u001b[0;32mif\u001b[0m \u001b[0mself\u001b[0m\u001b[0;34m.\u001b[0m\u001b[0mplatform\u001b[0m\u001b[0;34m:\u001b[0m\u001b[0;34m\u001b[0m\u001b[0m\n",
      "\u001b[0;31mKeyboardInterrupt\u001b[0m: "
     ],
     "output_type": "error"
    }
   ],
   "source": [
    "from httpagentparser.httpagentparser import simple_detect\n",
    "from pandas import Series\n",
    "\n",
    "\n",
    "def map_useragent(agent):\n",
    "    browser, os_ = simple_detect(agent)\n",
    "    return Series({'Browser': browser, 'OS': os_})\n",
    "\n",
    "\n",
    "#ads[['Browser', 'OS']] = ads['Browser'].map(lambda x: simple_detect(x))\n",
    "ads.merge(ads.Browser.apply(lambda s: map_useragent(s)), left_index=True, right_index=True)"
   ]
  },
  {
   "cell_type": "code",
   "execution_count": null,
   "metadata": {},
   "outputs": [],
   "source": []
  }
 ],
 "metadata": {
  "kernelspec": {
   "display_name": "Python 3",
   "language": "python",
   "name": "python3"
  },
  "language_info": {
   "codemirror_mode": {
    "name": "ipython",
    "version": 3
   },
   "file_extension": ".py",
   "mimetype": "text/x-python",
   "name": "python",
   "nbconvert_exporter": "python",
   "pygments_lexer": "ipython3",
   "version": "3.6.0"
  }
 },
 "nbformat": 4,
 "nbformat_minor": 0
}
