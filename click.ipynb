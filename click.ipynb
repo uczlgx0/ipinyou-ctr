{
 "cells": [
  {
   "cell_type": "markdown",
   "metadata": {
    "collapsed": true
   },
   "source": [
    "Ad click prediction\n",
    "===\n",
    "insert intro\n",
    "\n",
    "Cleansing and Inspection\n",
    "---\n",
    "First, let's read the relevant columns into memory."
   ]
  },
  {
   "cell_type": "code",
   "execution_count": 25,
   "metadata": {
    "collapsed": false
   },
   "outputs": [
    {
     "name": "stderr",
     "output_type": "stream",
     "text": [
      "~/anaconda3/lib/python3.6/site-packages/IPython/core/interactiveshell.py:2717: DtypeWarning: Columns (4,14,15) have mixed types. Specify dtype option on import or set low_memory=False.\n  interactivity=interactivity, compiler=compiler, result=result)\n"
     ]
    }
   ],
   "source": [
    "from pandas import read_csv\n",
    "ads = read_csv('data/ads.csv', usecols=['click', 'AdvertiserID', 'AdExchange', 'Adslotwidth',\n",
    "                                           'Adslotheight', 'Adslotvisibility', 'Adslotformat', 'Biddingprice', 'Browser', 'imp', 'interest_news',\n",
    "                                           'interest_eduation', 'interest_automobile', 'interest_realestate',\n",
    "                                           'interest_IT', 'interest_electronicgame', 'interest_fashion',\n",
    "                                           'interest_entertainment', 'interest_luxury', 'interest_homeandlifestyle',\n",
    "                                           'interest_health', 'interest_food', 'interest_divine',\n",
    "                                           'interest_motherhood_parenting', 'interest_sports',\n",
    "                                           'interest_travel_outdoors',\n",
    "                                           'interest_social', 'interest_art_photography_design',\n",
    "                                           'interest_onlineliterature', 'interest_3c', 'interest_culture',\n",
    "                                           'interest_sex',\n",
    "                                           'Inmarket_3cproduct', 'Inmarket_appliances', 'Inmarket_clothing_shoes_bags',\n",
    "                                           'Inmarket_Beauty_PersonalCare', 'Inmarket_infant_momproducts',\n",
    "                                           'Inmarket_sportsitem', 'Inmarket_outdoor', 'Inmarket_healthcareproducts',\n",
    "                                           'Inmarket_luxury', 'Inmarket_realestate', 'Inmarket_automobile',\n",
    "                                           'Inmarket_finance', 'Inmarket_travel', 'Inmarket_education',\n",
    "                                           'Inmarket_service', 'Inmarket_electronicgame', 'Inmarket_book',\n",
    "                                           'Inmarket_medicine', 'Inmarket_food_drink', 'Inmarket_homeimprovement',\n",
    "                                           'Demographic_gender_male', 'Demographic_gender_famale', 'Payingprice'])\n",
    "if 'Unnamed: 0' in ads:\n",
    "    ads.drop('Unnamed: 0', axis=1, inplace=True)"
   ]
  },
  {
   "cell_type": "markdown",
   "metadata": {},
   "source": [
    "Let's inspect the columns of the dataset."
   ]
  },
  {
   "cell_type": "code",
   "execution_count": 2,
   "metadata": {
    "collapsed": false
   },
   "outputs": [
    {
     "name": "stdout",
     "output_type": "stream",
     "text": [
      "<class 'pandas.core.frame.DataFrame'>\nRangeIndex: 4621497 entries, 0 to 4621496\nData columns (total 55 columns):\nBrowser                            object\nAdExchange                         float64\nAdslotwidth                        float64\nAdslotheight                       float64\nAdslotvisibility                   object\nAdslotformat                       object\nBiddingprice                       float64\nAdvertiserID                       float64\nimp                                float64\nclick                              float64\ninterest_news                      float64\ninterest_eduation                  float64\ninterest_automobile                float64\ninterest_realestate                float64\ninterest_IT                        float64\ninterest_electronicgame            float64\ninterest_fashion                   float64\ninterest_entertainment             float64\ninterest_luxury                    float64\ninterest_homeandlifestyle          float64\ninterest_health                    float64\ninterest_food                      float64\ninterest_divine                    float64\ninterest_motherhood_parenting      float64\ninterest_sports                    float64\ninterest_travel_outdoors           float64\ninterest_social                    float64\nInmarket_3cproduct                 float64\nInmarket_appliances                float64\nInmarket_clothing_shoes_bags       float64\nInmarket_Beauty_PersonalCare       float64\nInmarket_infant_momproducts        float64\nInmarket_sportsitem                float64\nInmarket_outdoor                   float64\nInmarket_healthcareproducts        float64\nInmarket_luxury                    float64\nInmarket_realestate                float64\nInmarket_automobile                float64\nInmarket_finance                   float64\nInmarket_travel                    float64\nInmarket_education                 float64\nInmarket_service                   float64\ninterest_art_photography_design    float64\ninterest_onlineliterature          float64\nInmarket_electronicgame            float64\ninterest_3c                        float64\nInmarket_book                      float64\nInmarket_medicine                  float64\nInmarket_food_drink                float64\ninterest_culture                   float64\ninterest_sex                       float64\nDemographic_gender_male            float64\nDemographic_gender_famale          float64\nInmarket_homeimprovement           float64\nPayingprice                        float64\ndtypes: float64(52), object(3)\nmemory usage: 1.9+ GB\n"
     ]
    }
   ],
   "source": [
    "ads.info()"
   ]
  },
  {
   "cell_type": "markdown",
   "metadata": {
    "collapsed": true
   },
   "source": [
    "We see that we have ~ 4 million observations and 55 variables. The most important variable is the `click` variable, which indicates whether the ad was clicked on by the user. Let's see how many missing values we have."
   ]
  },
  {
   "cell_type": "code",
   "execution_count": 44,
   "metadata": {},
   "outputs": [
    {
     "data": {
      "text/plain": [
       "1182166"
      ]
     },
     "execution_count": 44,
     "metadata": {},
     "output_type": "execute_result"
    }
   ],
   "source": [
    "ads['click'].isnull().sum()"
   ]
  },
  {
   "cell_type": "markdown",
   "metadata": {},
   "source": [
    "Around 1 million bids do not contain a value for the `click` variable. However, this variable is critical, because we will regress it later on. Therefore, we need to remove these observations."
   ]
  },
  {
   "cell_type": "code",
   "execution_count": 27,
   "metadata": {},
   "outputs": [],
   "source": [
    "ads.dropna(subset=['click'], inplace=True)"
   ]
  },
  {
   "cell_type": "markdown",
   "metadata": {},
   "source": [
    "Additionaly, let's move the `click` variable to the front."
   ]
  },
  {
   "cell_type": "code",
   "execution_count": 28,
   "metadata": {},
   "outputs": [],
   "source": [
    "cols = ['click'] + [col for col in ads if col != 'click']\n",
    "ads = ads[cols]"
   ]
  },
  {
   "cell_type": "markdown",
   "metadata": {},
   "source": [
    "Let's fix some typos."
   ]
  },
  {
   "cell_type": "code",
   "execution_count": 29,
   "metadata": {},
   "outputs": [],
   "source": [
    "ads.rename(\n",
    "    columns={'interest_eduation': 'interest_education', 'Demographic_gender_famale': 'Demographic_gender_female'},\n",
    "    inplace=True)"
   ]
  },
  {
   "cell_type": "markdown",
   "metadata": {},
   "source": [
    "We see that most variables are detected as floating point numbers. However, most of them are actually boolean variables! We need to account for that and convert them. First, let's look at the average missing values per variable."
   ]
  },
  {
   "cell_type": "code",
   "execution_count": 13,
   "metadata": {},
   "outputs": [
    {
     "name": "stdout",
     "output_type": "stream",
     "text": [
      "Missing values in `imp` 0\n"
     ]
    },
    {
     "data": {
      "text/plain": [
       "1409622.2608695652"
      ]
     },
     "execution_count": 13,
     "metadata": {},
     "output_type": "execute_result"
    }
   ],
   "source": [
    "boolean_cols = ['imp', 'click', 'interest_news',\n",
    "                'interest_education', 'interest_automobile', 'interest_realestate',\n",
    "                'interest_IT', 'interest_electronicgame', 'interest_fashion',\n",
    "                'interest_entertainment', 'interest_luxury', 'interest_homeandlifestyle',\n",
    "                'interest_health', 'interest_food', 'interest_divine',\n",
    "                'interest_motherhood_parenting', 'interest_sports', 'interest_travel_outdoors',\n",
    "                'interest_social', 'interest_art_photography_design',\n",
    "                'interest_onlineliterature', 'interest_3c', 'interest_culture', 'interest_sex',\n",
    "                'Inmarket_3cproduct', 'Inmarket_appliances', 'Inmarket_clothing_shoes_bags',\n",
    "                'Inmarket_Beauty_PersonalCare', 'Inmarket_infant_momproducts',\n",
    "                'Inmarket_sportsitem', 'Inmarket_outdoor', 'Inmarket_healthcareproducts',\n",
    "                'Inmarket_luxury', 'Inmarket_realestate', 'Inmarket_automobile',\n",
    "                'Inmarket_finance', 'Inmarket_travel', 'Inmarket_education',\n",
    "                'Inmarket_service', 'Inmarket_electronicgame', 'Inmarket_book',\n",
    "                'Inmarket_medicine', 'Inmarket_food_drink', 'Inmarket_homeimprovement',\n",
    "                'Demographic_gender_male', 'Demographic_gender_female']\n",
    "missings = 0\n",
    "for col in boolean_cols:\n",
    "    missings_col = ads[col].isnull().sum()\n",
    "    if col == 'imp':\n",
    "        print('Missing values in `imp`', missings_col)\n",
    "    missings += ads[col].isnull().sum()\n",
    "missings / len(boolean_cols)\n",
    "\n"
   ]
  },
  {
   "cell_type": "markdown",
   "metadata": {},
   "source": [
    "These are quite a lot, and we cannot afford to loose them. As the variables are simply dummy variables of a categorical variable, we decide to simply use the default bool conversion strategy in this case, ie convert all missing values to `False`. Intuitively, if we don't know whether a user is interested in food, we simply assume that the user isn't interested in it. This way, we won't skew the analysis significantly. Further note, that the `imp` variable has no missing values. "
   ]
  },
  {
   "cell_type": "code",
   "execution_count": 31,
   "metadata": {},
   "outputs": [],
   "source": [
    "ads[boolean_cols] = ads[boolean_cols].fillna(0)\n",
    "ads[boolean_cols] = ads[boolean_cols].astype(bool)"
   ]
  },
  {
   "cell_type": "markdown",
   "metadata": {},
   "source": [
    "How many bids did not win impressions?"
   ]
  },
  {
   "cell_type": "code",
   "execution_count": 54,
   "metadata": {},
   "outputs": [
    {
     "data": {
      "text/plain": [
       "1473696"
      ]
     },
     "execution_count": 54,
     "metadata": {},
     "output_type": "execute_result"
    }
   ],
   "source": [
    "(ads['imp'] == False).sum()"
   ]
  },
  {
   "cell_type": "markdown",
   "metadata": {},
   "source": [
    "Obviously, if the advertiser didn't win the impression, the user won't be able to click. Therefore, we use only the won impressions and remove the column. As an aside, it would be an interesting analysis to regress `imp` itself, ie whether an advertiser will win a bid. However, we figure that the provided variables are not conclusive enough to classify `imp` correctly."
   ]
  },
  {
   "cell_type": "code",
   "execution_count": 15,
   "metadata": {
    "collapsed": false
   },
   "outputs": [
    {
     "name": "stdout",
     "output_type": "stream",
     "text": [
      "Lost impressions, but clicked 0\n"
     ]
    },
    {
     "name": "stderr",
     "output_type": "stream",
     "text": [
      "~/anaconda3/lib/python3.6/site-packages/ipykernel/__main__.py:3: SettingWithCopyWarning: \nA value is trying to be set on a copy of a slice from a DataFrame\n\nSee the caveats in the documentation: http://pandas.pydata.org/pandas-docs/stable/indexing.html#indexing-view-versus-copy\n  app.launch_new_instance()\n"
     ]
    }
   ],
   "source": [
    "print('Lost impressions, but clicked', ((ads['imp'] == 0) & (ads['click'] == 1)).sum())\n",
    "ads[ads['imp'] == True]\n",
    "ads.drop(['imp'], axis=1, inplace=True)"
   ]
  },
  {
   "cell_type": "markdown",
   "metadata": {},
   "source": [
    "Let's now look at the `Browser` variable."
   ]
  },
  {
   "cell_type": "code",
   "execution_count": 36,
   "metadata": {},
   "outputs": [
    {
     "data": {
      "text/plain": [
       "count                                               3438136\nunique                                               190186\ntop       Mozilla/5.0 (Windows NT 5.1) AppleWebKit/537.1...\nfreq                                                 384532\nName: Browser, dtype: object"
      ]
     },
     "execution_count": 36,
     "metadata": {},
     "output_type": "execute_result"
    }
   ],
   "source": [
    "ads['Browser'].describe()"
   ]
  },
  {
   "cell_type": "markdown",
   "metadata": {},
   "source": [
    "We see that the `Browser` variable captures the user agent. As such, it has too many unique values. We will aggregate these user agents into a categorical variable. There are two interesting informations in the user agent: the browser and the operating system. Let's create a column for both of them. Note that we do not concern ourselves with specific browser versions or smaller browser families for two reasons: First, the difference between specific category levels would be two small (consider `Firefox` and `Firefox Nightly`). Second, we would need to deploy libraries like `ua_parser`, which deploy either regular expressions or large lookup tables. We tried to do that and experienced that it took way too long and resulted in 70 unique values (way too large)."
   ]
  },
  {
   "cell_type": "code",
   "execution_count": 111,
   "metadata": {},
   "outputs": [],
   "source": [
    "ads['Browser'] = ads['Browser'].astype(str)\n",
    "def map_browser(agent):\n",
    "    browsers = ['edge', 'trident', 'chrome', 'firefox', 'safari', 'opera']\n",
    "    for browser in browsers:\n",
    "        if browser in agent.lower():\n",
    "            return 'ie' if browser == 'trident' else browser\n",
    "    return 'other'\n",
    "\n",
    "\n",
    "def map_os(agent):\n",
    "    os_list = ['windows', 'linux', 'mac os x']\n",
    "    for os in os_list:\n",
    "        if os in agent.lower():\n",
    "            return os\n",
    "    return 'other'\n",
    "\n",
    "\n",
    "ads['OS'] = ads['Browser'].map(lambda x: map_os(x), na_action=None)\n",
    "ads['OS'] = ads['OS'].astype('category')\n",
    "ads['Browser'] = ads['Browser'].map(lambda x: map_browser(x), na_action=None)\n",
    "ads['Browser'] = ads['Browser'].astype('category')"
   ]
  },
  {
   "cell_type": "markdown",
   "metadata": {},
   "source": [
    "Let's look at our new variables:"
   ]
  },
  {
   "cell_type": "code",
   "execution_count": 43,
   "metadata": {},
   "outputs": [
    {
     "data": {
      "text/plain": [
       "windows     3364445\nmac os x      51760\nlinux         18723\nother          4403\nName: OS, dtype: int64"
      ]
     },
     "execution_count": 43,
     "metadata": {},
     "output_type": "execute_result"
    }
   ],
   "source": [
    "ads['OS'].value_counts()"
   ]
  },
  {
   "cell_type": "code",
   "execution_count": 48,
   "metadata": {},
   "outputs": [
    {
     "data": {
      "text/plain": [
       "ie         1634893\nchrome     1298420\nother       409648\nsafari       58954\nfirefox      34909\nopera         2507\nName: Browser, dtype: int64"
      ]
     },
     "execution_count": 48,
     "metadata": {},
     "output_type": "execute_result"
    }
   ],
   "source": [
    "ads['Browser'].value_counts()"
   ]
  },
  {
   "cell_type": "markdown",
   "metadata": {},
   "source": [
    "Perhaps not surprisingly, most users accessed the website using Internet Explorer on a Windows operating system. The large size of `Browser == other` might seem unsettling. These are just different flavors of Chinese browsers which are obviously very specific to the Chinese market and do not generalize well.\n",
    "\n",
    "The next information is the price which the advertiser paid for an ad. There are two columns which indicate this information. `Biddingprice` shows the bidding price of the advertiser, which was always 294 or 277 in the iPinYou competition. `Payingprice` shows the actual paid price."
   ]
  },
  {
   "cell_type": "code",
   "execution_count": 65,
   "metadata": {},
   "outputs": [
    {
     "name": "stdout",
     "output_type": "stream",
     "text": [
      "Both missing: 0 Payingprice missing: 1473696 Biddingprice missing: 0\n"
     ]
    },
    {
     "data": {
      "text/plain": [
       "array([ 294.,  277.])"
      ]
     },
     "execution_count": 65,
     "metadata": {},
     "output_type": "execute_result"
    }
   ],
   "source": [
    "both_na = ((ads['Payingprice'].isnull()) & (ads['Biddingprice'].isnull())).sum()\n",
    "pay_na = ((ads['Payingprice'].isnull()) & ~(ads['Biddingprice'].isnull())).sum()\n",
    "bid_na = (~(ads['Payingprice'].isnull()) & (ads['Biddingprice'].isnull())).sum()\n",
    "print('Both missing:', both_na, 'Payingprice missing:', pay_na, 'Biddingprice missing:', bid_na)\n",
    "ads['Biddingprice'].unique()"
   ]
  },
  {
   "cell_type": "markdown",
   "metadata": {},
   "source": [
    "We see that the paying price is sometimes not indicated. In these cases, `Payingprice == Biddinprice`. Thus, let's combine these columns into one."
   ]
  },
  {
   "cell_type": "code",
   "execution_count": 113,
   "metadata": {},
   "outputs": [
    {
     "ename": "KeyError",
     "evalue": "'the label [Biddingprice] is not in the [columns]'",
     "traceback": [
      "\u001b[0;31m---------------------------------------------------------------------------\u001b[0m",
      "\u001b[0;31mKeyError\u001b[0m                                  Traceback (most recent call last)",
      "\u001b[0;32m~/anaconda3/lib/python3.6/site-packages/pandas/core/indexing.py\u001b[0m in \u001b[0;36m_has_valid_type\u001b[0;34m(self, key, axis)\u001b[0m\n\u001b[1;32m   1410\u001b[0m                 \u001b[0;32mif\u001b[0m \u001b[0mkey\u001b[0m \u001b[0;32mnot\u001b[0m \u001b[0;32min\u001b[0m \u001b[0max\u001b[0m\u001b[0;34m:\u001b[0m\u001b[0;34m\u001b[0m\u001b[0m\n\u001b[0;32m-> 1411\u001b[0;31m                     \u001b[0merror\u001b[0m\u001b[0;34m(\u001b[0m\u001b[0;34m)\u001b[0m\u001b[0;34m\u001b[0m\u001b[0m\n\u001b[0m\u001b[1;32m   1412\u001b[0m             \u001b[0;32mexcept\u001b[0m \u001b[0mTypeError\u001b[0m \u001b[0;32mas\u001b[0m \u001b[0me\u001b[0m\u001b[0;34m:\u001b[0m\u001b[0;34m\u001b[0m\u001b[0m\n",
      "\u001b[0;32m~/anaconda3/lib/python3.6/site-packages/pandas/core/indexing.py\u001b[0m in \u001b[0;36merror\u001b[0;34m()\u001b[0m\n\u001b[1;32m   1405\u001b[0m                 raise KeyError(\"the label [%s] is not in the [%s]\" %\n\u001b[0;32m-> 1406\u001b[0;31m                                (key, self.obj._get_axis_name(axis)))\n\u001b[0m\u001b[1;32m   1407\u001b[0m \u001b[0;34m\u001b[0m\u001b[0m\n",
      "\u001b[0;31mKeyError\u001b[0m: 'the label [Biddingprice] is not in the [columns]'",
      "\nDuring handling of the above exception, another exception occurred:\n",
      "\u001b[0;31mKeyError\u001b[0m                                  Traceback (most recent call last)",
      "\u001b[0;32m<ipython-input-113-2d87448ddce8>\u001b[0m in \u001b[0;36m<module>\u001b[0;34m()\u001b[0m\n\u001b[0;32m----> 1\u001b[0;31m \u001b[0mads\u001b[0m\u001b[0;34m.\u001b[0m\u001b[0mloc\u001b[0m\u001b[0;34m[\u001b[0m\u001b[0mads\u001b[0m\u001b[0;34m[\u001b[0m\u001b[0;34m'Payingprice'\u001b[0m\u001b[0;34m]\u001b[0m\u001b[0;34m.\u001b[0m\u001b[0misnull\u001b[0m\u001b[0;34m(\u001b[0m\u001b[0;34m)\u001b[0m\u001b[0;34m,\u001b[0m \u001b[0;34m'Payingprice'\u001b[0m\u001b[0;34m]\u001b[0m \u001b[0;34m=\u001b[0m \u001b[0mads\u001b[0m\u001b[0;34m.\u001b[0m\u001b[0mloc\u001b[0m\u001b[0;34m[\u001b[0m\u001b[0mads\u001b[0m\u001b[0;34m[\u001b[0m\u001b[0;34m'Payingprice'\u001b[0m\u001b[0;34m]\u001b[0m\u001b[0;34m.\u001b[0m\u001b[0misnull\u001b[0m\u001b[0;34m(\u001b[0m\u001b[0;34m)\u001b[0m\u001b[0;34m,\u001b[0m \u001b[0;34m'Biddingprice'\u001b[0m\u001b[0;34m]\u001b[0m\u001b[0;34m\u001b[0m\u001b[0m\n\u001b[0m\u001b[1;32m      2\u001b[0m \u001b[0mads\u001b[0m\u001b[0;34m[\u001b[0m\u001b[0;34m'Payingprice'\u001b[0m\u001b[0;34m]\u001b[0m \u001b[0;34m=\u001b[0m \u001b[0mads\u001b[0m\u001b[0;34m[\u001b[0m\u001b[0;34m'Payingprice'\u001b[0m\u001b[0;34m]\u001b[0m\u001b[0;34m.\u001b[0m\u001b[0mastype\u001b[0m\u001b[0;34m(\u001b[0m\u001b[0mint\u001b[0m\u001b[0;34m)\u001b[0m\u001b[0;34m\u001b[0m\u001b[0m\n\u001b[1;32m      3\u001b[0m \u001b[0mads\u001b[0m\u001b[0;34m.\u001b[0m\u001b[0mdrop\u001b[0m\u001b[0;34m(\u001b[0m\u001b[0;34m'Biddingprice'\u001b[0m\u001b[0;34m,\u001b[0m \u001b[0maxis\u001b[0m\u001b[0;34m=\u001b[0m\u001b[0;36m1\u001b[0m\u001b[0;34m,\u001b[0m \u001b[0minplace\u001b[0m\u001b[0;34m=\u001b[0m\u001b[0;32mTrue\u001b[0m\u001b[0;34m)\u001b[0m\u001b[0;34m\u001b[0m\u001b[0m\n",
      "\u001b[0;32m~/anaconda3/lib/python3.6/site-packages/pandas/core/indexing.py\u001b[0m in \u001b[0;36m__getitem__\u001b[0;34m(self, key)\u001b[0m\n\u001b[1;32m   1308\u001b[0m \u001b[0;34m\u001b[0m\u001b[0m\n\u001b[1;32m   1309\u001b[0m         \u001b[0;32mif\u001b[0m \u001b[0mtype\u001b[0m\u001b[0;34m(\u001b[0m\u001b[0mkey\u001b[0m\u001b[0;34m)\u001b[0m \u001b[0;32mis\u001b[0m \u001b[0mtuple\u001b[0m\u001b[0;34m:\u001b[0m\u001b[0;34m\u001b[0m\u001b[0m\n\u001b[0;32m-> 1310\u001b[0;31m             \u001b[0;32mreturn\u001b[0m \u001b[0mself\u001b[0m\u001b[0;34m.\u001b[0m\u001b[0m_getitem_tuple\u001b[0m\u001b[0;34m(\u001b[0m\u001b[0mkey\u001b[0m\u001b[0;34m)\u001b[0m\u001b[0;34m\u001b[0m\u001b[0m\n\u001b[0m\u001b[1;32m   1311\u001b[0m         \u001b[0;32melse\u001b[0m\u001b[0;34m:\u001b[0m\u001b[0;34m\u001b[0m\u001b[0m\n\u001b[1;32m   1312\u001b[0m             \u001b[0;32mreturn\u001b[0m \u001b[0mself\u001b[0m\u001b[0;34m.\u001b[0m\u001b[0m_getitem_axis\u001b[0m\u001b[0;34m(\u001b[0m\u001b[0mkey\u001b[0m\u001b[0;34m,\u001b[0m \u001b[0maxis\u001b[0m\u001b[0;34m=\u001b[0m\u001b[0;36m0\u001b[0m\u001b[0;34m)\u001b[0m\u001b[0;34m\u001b[0m\u001b[0m\n",
      "\u001b[0;32m~/anaconda3/lib/python3.6/site-packages/pandas/core/indexing.py\u001b[0m in \u001b[0;36m_getitem_tuple\u001b[0;34m(self, tup)\u001b[0m\n\u001b[1;32m    794\u001b[0m     \u001b[0;32mdef\u001b[0m \u001b[0m_getitem_tuple\u001b[0m\u001b[0;34m(\u001b[0m\u001b[0mself\u001b[0m\u001b[0;34m,\u001b[0m \u001b[0mtup\u001b[0m\u001b[0;34m)\u001b[0m\u001b[0;34m:\u001b[0m\u001b[0;34m\u001b[0m\u001b[0m\n\u001b[1;32m    795\u001b[0m         \u001b[0;32mtry\u001b[0m\u001b[0;34m:\u001b[0m\u001b[0;34m\u001b[0m\u001b[0m\n\u001b[0;32m--> 796\u001b[0;31m             \u001b[0;32mreturn\u001b[0m \u001b[0mself\u001b[0m\u001b[0;34m.\u001b[0m\u001b[0m_getitem_lowerdim\u001b[0m\u001b[0;34m(\u001b[0m\u001b[0mtup\u001b[0m\u001b[0;34m)\u001b[0m\u001b[0;34m\u001b[0m\u001b[0m\n\u001b[0m\u001b[1;32m    797\u001b[0m         \u001b[0;32mexcept\u001b[0m \u001b[0mIndexingError\u001b[0m\u001b[0;34m:\u001b[0m\u001b[0;34m\u001b[0m\u001b[0m\n\u001b[1;32m    798\u001b[0m             \u001b[0;32mpass\u001b[0m\u001b[0;34m\u001b[0m\u001b[0m\n",
      "\u001b[0;32m~/anaconda3/lib/python3.6/site-packages/pandas/core/indexing.py\u001b[0m in \u001b[0;36m_getitem_lowerdim\u001b[0;34m(self, tup)\u001b[0m\n\u001b[1;32m    920\u001b[0m         \u001b[0;32mfor\u001b[0m \u001b[0mi\u001b[0m\u001b[0;34m,\u001b[0m \u001b[0mkey\u001b[0m \u001b[0;32min\u001b[0m \u001b[0menumerate\u001b[0m\u001b[0;34m(\u001b[0m\u001b[0mtup\u001b[0m\u001b[0;34m)\u001b[0m\u001b[0;34m:\u001b[0m\u001b[0;34m\u001b[0m\u001b[0m\n\u001b[1;32m    921\u001b[0m             \u001b[0;32mif\u001b[0m \u001b[0mis_label_like\u001b[0m\u001b[0;34m(\u001b[0m\u001b[0mkey\u001b[0m\u001b[0;34m)\u001b[0m \u001b[0;32mor\u001b[0m \u001b[0misinstance\u001b[0m\u001b[0;34m(\u001b[0m\u001b[0mkey\u001b[0m\u001b[0;34m,\u001b[0m \u001b[0mtuple\u001b[0m\u001b[0;34m)\u001b[0m\u001b[0;34m:\u001b[0m\u001b[0;34m\u001b[0m\u001b[0m\n\u001b[0;32m--> 922\u001b[0;31m                 \u001b[0msection\u001b[0m \u001b[0;34m=\u001b[0m \u001b[0mself\u001b[0m\u001b[0;34m.\u001b[0m\u001b[0m_getitem_axis\u001b[0m\u001b[0;34m(\u001b[0m\u001b[0mkey\u001b[0m\u001b[0;34m,\u001b[0m \u001b[0maxis\u001b[0m\u001b[0;34m=\u001b[0m\u001b[0mi\u001b[0m\u001b[0;34m)\u001b[0m\u001b[0;34m\u001b[0m\u001b[0m\n\u001b[0m\u001b[1;32m    923\u001b[0m \u001b[0;34m\u001b[0m\u001b[0m\n\u001b[1;32m    924\u001b[0m                 \u001b[0;31m# we have yielded a scalar ?\u001b[0m\u001b[0;34m\u001b[0m\u001b[0;34m\u001b[0m\u001b[0m\n",
      "\u001b[0;32m~/anaconda3/lib/python3.6/site-packages/pandas/core/indexing.py\u001b[0m in \u001b[0;36m_getitem_axis\u001b[0;34m(self, key, axis)\u001b[0m\n\u001b[1;32m   1480\u001b[0m \u001b[0;34m\u001b[0m\u001b[0m\n\u001b[1;32m   1481\u001b[0m         \u001b[0;31m# fall thru to straight lookup\u001b[0m\u001b[0;34m\u001b[0m\u001b[0;34m\u001b[0m\u001b[0m\n\u001b[0;32m-> 1482\u001b[0;31m         \u001b[0mself\u001b[0m\u001b[0;34m.\u001b[0m\u001b[0m_has_valid_type\u001b[0m\u001b[0;34m(\u001b[0m\u001b[0mkey\u001b[0m\u001b[0;34m,\u001b[0m \u001b[0maxis\u001b[0m\u001b[0;34m)\u001b[0m\u001b[0;34m\u001b[0m\u001b[0m\n\u001b[0m\u001b[1;32m   1483\u001b[0m         \u001b[0;32mreturn\u001b[0m \u001b[0mself\u001b[0m\u001b[0;34m.\u001b[0m\u001b[0m_get_label\u001b[0m\u001b[0;34m(\u001b[0m\u001b[0mkey\u001b[0m\u001b[0;34m,\u001b[0m \u001b[0maxis\u001b[0m\u001b[0;34m=\u001b[0m\u001b[0maxis\u001b[0m\u001b[0;34m)\u001b[0m\u001b[0;34m\u001b[0m\u001b[0m\n\u001b[1;32m   1484\u001b[0m \u001b[0;34m\u001b[0m\u001b[0m\n",
      "\u001b[0;32m~/anaconda3/lib/python3.6/site-packages/pandas/core/indexing.py\u001b[0m in \u001b[0;36m_has_valid_type\u001b[0;34m(self, key, axis)\u001b[0m\n\u001b[1;32m   1417\u001b[0m                 \u001b[0;32mraise\u001b[0m\u001b[0;34m\u001b[0m\u001b[0m\n\u001b[1;32m   1418\u001b[0m             \u001b[0;32mexcept\u001b[0m\u001b[0;34m:\u001b[0m\u001b[0;34m\u001b[0m\u001b[0m\n\u001b[0;32m-> 1419\u001b[0;31m                 \u001b[0merror\u001b[0m\u001b[0;34m(\u001b[0m\u001b[0;34m)\u001b[0m\u001b[0;34m\u001b[0m\u001b[0m\n\u001b[0m\u001b[1;32m   1420\u001b[0m \u001b[0;34m\u001b[0m\u001b[0m\n\u001b[1;32m   1421\u001b[0m         \u001b[0;32mreturn\u001b[0m \u001b[0;32mTrue\u001b[0m\u001b[0;34m\u001b[0m\u001b[0m\n",
      "\u001b[0;32m~/anaconda3/lib/python3.6/site-packages/pandas/core/indexing.py\u001b[0m in \u001b[0;36merror\u001b[0;34m()\u001b[0m\n\u001b[1;32m   1404\u001b[0m                                     \"key\")\n\u001b[1;32m   1405\u001b[0m                 raise KeyError(\"the label [%s] is not in the [%s]\" %\n\u001b[0;32m-> 1406\u001b[0;31m                                (key, self.obj._get_axis_name(axis)))\n\u001b[0m\u001b[1;32m   1407\u001b[0m \u001b[0;34m\u001b[0m\u001b[0m\n\u001b[1;32m   1408\u001b[0m             \u001b[0;32mtry\u001b[0m\u001b[0;34m:\u001b[0m\u001b[0;34m\u001b[0m\u001b[0m\n",
      "\u001b[0;31mKeyError\u001b[0m: 'the label [Biddingprice] is not in the [columns]'"
     ],
     "output_type": "error"
    }
   ],
   "source": [
    "ads.loc[ads['Payingprice'].isnull(), 'Payingprice'] = ads.loc[ads['Payingprice'].isnull(), 'Biddingprice']\n",
    "ads['Payingprice'] = ads['Payingprice'].astype(int)\n",
    "ads.drop('Biddingprice', axis=1, inplace=True)"
   ]
  },
  {
   "cell_type": "markdown",
   "metadata": {},
   "source": [
    "Next up is the `AdExchange` variable. It indicates the ad exchange used for the bidding. It may not be too useful for classification, but as it is a small categorical variable, we'll include it anyway."
   ]
  },
  {
   "cell_type": "code",
   "execution_count": 79,
   "metadata": {},
   "outputs": [
    {
     "data": {
      "text/plain": [
       "3    1422626\n2     852752\n1     673951\n4     490002\nName: AdExchange, dtype: int64"
      ]
     },
     "execution_count": 79,
     "metadata": {},
     "output_type": "execute_result"
    }
   ],
   "source": [
    "ads['AdExchange'] = ads['AdExchange'].astype('int').astype('category')\n",
    "ads['AdExchange'].value_counts()"
   ]
  },
  {
   "cell_type": "markdown",
   "metadata": {},
   "source": [
    "Next we look into the `Adslotvisibility` variable. It indicates the visual importance of the ad presentation."
   ]
  },
  {
   "cell_type": "code",
   "execution_count": 83,
   "metadata": {},
   "outputs": [
    {
     "data": {
      "text/plain": [
       "Na            1710843\nOtherView      715442\nFirstView      597871\nSecondView     174225\nFourthView     123492\nThirdView      111905\nFifthView        5553\nName: Adslotvisibility, dtype: int64"
      ]
     },
     "execution_count": 83,
     "metadata": {},
     "output_type": "execute_result"
    }
   ],
   "source": [
    "ads['Adslotvisibility'].value_counts()"
   ]
  },
  {
   "cell_type": "markdown",
   "metadata": {},
   "source": [
    "We see that the strings indicate six categories (FirstView--FithView, OtherView). Unfortunately, there are a lot of missing values. Nevertheless, we convert it into a categorical variable and indicate an additional level for missing values."
   ]
  },
  {
   "cell_type": "code",
   "execution_count": 86,
   "metadata": {},
   "outputs": [
    {
     "data": {
      "text/plain": [
       "Na            1710843\nOtherView      715442\nFirstView      597871\nSecondView     174225\nFourthView     123492\nThirdView      111905\nFifthView        5553\nName: Adslotvisibility, dtype: int64"
      ]
     },
     "execution_count": 86,
     "metadata": {},
     "output_type": "execute_result"
    }
   ],
   "source": [
    "ads['Adslotvisibility'] = ads['Adslotvisibility'].astype('category')\n",
    "ads['Adslotvisibility'].value_counts()"
   ]
  },
  {
   "cell_type": "markdown",
   "metadata": {},
   "source": [
    "We do the same with `Adslotformat`, which is very similar to `Adslotvisibility`."
   ]
  },
  {
   "cell_type": "code",
   "execution_count": 92,
   "metadata": {},
   "outputs": [
    {
     "data": {
      "text/plain": [
       "Na            1710843\nOtherView      715442\nFirstView      597871\nSecondView     174225\nFourthView     123492\nThirdView      111905\nFifthView        5553\nName: Adslotvisibility, dtype: int64"
      ]
     },
     "execution_count": 92,
     "metadata": {},
     "output_type": "execute_result"
    }
   ],
   "source": [
    "ads['Adslotformat'] = ads['Adslotformat'].astype('category')\n",
    "ads['Adslotvisibility'].value_counts()"
   ]
  },
  {
   "cell_type": "markdown",
   "metadata": {},
   "source": [
    "`Adslotwidth`, `Adslotheight` and `AdvertiserID` contain obvious information."
   ]
  },
  {
   "cell_type": "code",
   "execution_count": 108,
   "metadata": {},
   "outputs": [
    {
     "name": "stdout",
     "output_type": "stream",
     "text": [
      "Missing values: 0\n"
     ]
    }
   ],
   "source": [
    "print('Missing values:', ads['AdvertiserID'].isnull().sum() + ads['Adslotwidth'].isnull().sum() + ads['Adslotheight'].isnull().sum())\n",
    "int_cols = ['AdvertiserID', 'Adslotwidth', 'Adslotheight']\n",
    "ads[int_cols] = ads[int_cols].astype(int)"
   ]
  },
  {
   "cell_type": "markdown",
   "metadata": {},
   "source": [
    "That concludes the basic data cleaning part. We see that we've dealt with all missing values and now enjoy the benefit of correct datatypes."
   ]
  },
  {
   "cell_type": "code",
   "execution_count": 109,
   "metadata": {},
   "outputs": [
    {
     "data": {
      "text/plain": [
       "click                              0\nBrowser                            0\nAdExchange                         0\nAdslotwidth                        0\nAdslotheight                       0\nAdslotvisibility                   0\nAdslotformat                       0\nAdvertiserID                       0\nimp                                0\ninterest_news                      0\ninterest_education                 0\ninterest_automobile                0\ninterest_realestate                0\ninterest_IT                        0\ninterest_electronicgame            0\ninterest_fashion                   0\ninterest_entertainment             0\ninterest_luxury                    0\ninterest_homeandlifestyle          0\ninterest_health                    0\ninterest_food                      0\ninterest_divine                    0\ninterest_motherhood_parenting      0\ninterest_sports                    0\ninterest_travel_outdoors           0\ninterest_social                    0\nInmarket_3cproduct                 0\nInmarket_appliances                0\nInmarket_clothing_shoes_bags       0\nInmarket_Beauty_PersonalCare       0\nInmarket_infant_momproducts        0\nInmarket_sportsitem                0\nInmarket_outdoor                   0\nInmarket_healthcareproducts        0\nInmarket_luxury                    0\nInmarket_realestate                0\nInmarket_automobile                0\nInmarket_finance                   0\nInmarket_travel                    0\nInmarket_education                 0\nInmarket_service                   0\ninterest_art_photography_design    0\ninterest_onlineliterature          0\nInmarket_electronicgame            0\ninterest_3c                        0\nInmarket_book                      0\nInmarket_medicine                  0\nInmarket_food_drink                0\ninterest_culture                   0\ninterest_sex                       0\nDemographic_gender_male            0\nDemographic_gender_female          0\nInmarket_homeimprovement           0\nPayingprice                        0\nOS                                 0\ndtype: int64"
      ]
     },
     "execution_count": 109,
     "metadata": {},
     "output_type": "execute_result"
    }
   ],
   "source": [
    "ads.isnull().sum()"
   ]
  },
  {
   "cell_type": "code",
   "execution_count": 114,
   "metadata": {},
   "outputs": [
    {
     "name": "stdout",
     "output_type": "stream",
     "text": [
      "<class 'pandas.core.frame.DataFrame'>\nInt64Index: 3439331 entries, 0 to 3439330\nData columns (total 55 columns):\nclick                              bool\nBrowser                            category\nAdExchange                         category\nAdslotwidth                        int64\nAdslotheight                       int64\nAdslotvisibility                   category\nAdslotformat                       category\nAdvertiserID                       int64\nimp                                bool\ninterest_news                      bool\ninterest_education                 bool\ninterest_automobile                bool\ninterest_realestate                bool\ninterest_IT                        bool\ninterest_electronicgame            bool\ninterest_fashion                   bool\ninterest_entertainment             bool\ninterest_luxury                    bool\ninterest_homeandlifestyle          bool\ninterest_health                    bool\ninterest_food                      bool\ninterest_divine                    bool\ninterest_motherhood_parenting      bool\ninterest_sports                    bool\ninterest_travel_outdoors           bool\ninterest_social                    bool\nInmarket_3cproduct                 bool\nInmarket_appliances                bool\nInmarket_clothing_shoes_bags       bool\nInmarket_Beauty_PersonalCare       bool\nInmarket_infant_momproducts        bool\nInmarket_sportsitem                bool\nInmarket_outdoor                   bool\nInmarket_healthcareproducts        bool\nInmarket_luxury                    bool\nInmarket_realestate                bool\nInmarket_automobile                bool\nInmarket_finance                   bool\nInmarket_travel                    bool\nInmarket_education                 bool\nInmarket_service                   bool\ninterest_art_photography_design    bool\ninterest_onlineliterature          bool\nInmarket_electronicgame            bool\ninterest_3c                        bool\nInmarket_book                      bool\nInmarket_medicine                  bool\nInmarket_food_drink                bool\ninterest_culture                   bool\ninterest_sex                       bool\nDemographic_gender_male            bool\nDemographic_gender_female          bool\nInmarket_homeimprovement           bool\nPayingprice                        int64\nOS                                 category\ndtypes: bool(46), category(5), int64(4)\nmemory usage: 298.5 MB\n"
     ]
    }
   ],
   "source": [
    "ads.info()"
   ]
  },
  {
   "cell_type": "markdown",
   "metadata": {},
   "source": [
    "Let's safely store and export our dataset."
   ]
  },
  {
   "cell_type": "code",
   "execution_count": 115,
   "metadata": {},
   "outputs": [],
   "source": [
    "ads.to_pickle('data/ads_clean.p')\n",
    "ads.to_csv('data/ads_clean.csv', index=False)"
   ]
  },
  {
   "cell_type": "markdown",
   "metadata": {},
   "source": [
    "Regression\n",
    "---\n",
    "Time for logistic regression."
   ]
  },
  {
   "cell_type": "code",
   "execution_count": null,
   "metadata": {},
   "outputs": [],
   "source": []
  }
 ],
 "metadata": {
  "kernelspec": {
   "display_name": "Python 3",
   "language": "python",
   "name": "python3"
  },
  "language_info": {
   "codemirror_mode": {
    "name": "ipython",
    "version": 3
   },
   "file_extension": ".py",
   "mimetype": "text/x-python",
   "name": "python",
   "nbconvert_exporter": "python",
   "pygments_lexer": "ipython3",
   "version": "3.6.0"
  }
 },
 "nbformat": 4,
 "nbformat_minor": 0
}
